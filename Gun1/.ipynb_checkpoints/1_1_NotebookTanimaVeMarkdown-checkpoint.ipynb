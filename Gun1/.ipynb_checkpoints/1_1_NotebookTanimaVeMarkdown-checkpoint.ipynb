{
 "cells": [
  {
   "cell_type": "markdown",
   "id": "88908328",
   "metadata": {},
   "source": [
    "# Python ile Esasları\n",
    "\n",
    "## Python Ortamının Hazırlanması\n",
    "**Python** ortamını hazırlamak için:\n",
    "1. Öncelikle [python.org](https://www.python.org/) sitesinden engine indirmek gerekli.\n",
    "2. Sonrasında `Terminal` üzerinde veya bir IDE ile çalışabiliriiz.\n",
    "    * `Jupyter Notebook`, `Jupyter Lab`\n",
    "    * `Visual Studio Code`, `Spyder`, `PyCharm`\n",
    "3. Dilerseniz **Anaconda** dağıtımını kurarak her şeyi derli toplu şekilde `Anaconda Navigator` ile yönetebiliriz.\n",
    "4. ~Python 2~ yerine *Python 3* kullanmaya özen gösterelim. Büyük Syntax farklılıkları var.\n",
    "\n",
    "\n",
    "**Not:**\n",
    "* Yukarıdaki yatık tırnakları (`) <kbd>AltGr</kbd> + <kbd>;</kbd> + <kbd>Space</kbd> ile oluşturduk.\n",
    "* Markdown dili html kodlarını da destekler <font color='red'> Bu metin html ile yazıldı.</font>\n",
    "\n",
    "## Çalışma Modları:\n",
    "1. Interactive Mode\n",
    "2. Script Mode\n",
    "3. Setup Mode\n",
    "\n",
    "## Kullanılacak Bazı Komutlar\n",
    "### Shell Komutları:\n",
    "\n",
    "```shell\n",
    "python --version\n",
    "py --version\n",
    "py -3.11\n",
    "py3\n",
    "python3\n",
    "    help()\n",
    "    help(print)\n",
    "    exit()\n",
    "cls\n",
    "```\n",
    "\n",
    "### Python Komutları:\n",
    "```python\n",
    "print(\"merhaba\",\"Dünyalı\", sep='-')\n",
    "```\n",
    "\n",
    "### SQL  Komutları:\n",
    "```sql\n",
    "SELECT\n",
    "    Kolon1,\n",
    "    Kolon2\n",
    "FROM Tablo\n",
    "WHERE filtre\n",
    "```\n",
    "\n",
    "### Bazı Kısayollar:\n",
    "* Hücrelerdeki kodları çalıştırmak için:\n",
    "    * <kbd>Shift</kbd> + <kbd>Enter</kbd> ile hücre çalışır, alt hücreye geçer yoksa yeni ekler.\n",
    "    * <kbd>Ctrl</kbd> + <kbd>Enter</kbd> ile aynı hücre tekrar tekrar çalıştırılabilir.\n",
    "    * <kbd>Alt</kbd> + <kbd>Enter</kbd> ile hücre çalışır alta kesin bir boş hücre ekler.\n",
    "* Commanda Mode seçili iken kullanılacak bazı kısayollar\n",
    "    * üste hücre eklemek için <kbd>A</kbd>\n",
    "    * Alta hücre eklemek için <kbd>B</kbd>\n",
    "    * Hücre silmek için <kbd>D</kbd>, <kbd>D</kbd>\n",
    "    * Silinen hücreyi geri almak <kbd>Z</kbd> ileri almak Y</kbd>\n",
    "    * Tüm kısayollar için <kbd>H</kbd>\n",
    "    \n",
    "### Matematiksel Semboller Gösterilebilir\n",
    "* https://rmd4sci.njtierney.com/math\n",
    "* $x^2$\n",
    "* $\\int$\n",
    "* $\\infty$\n",
    "* $\\int_0^\\infty x^{-a}$\n",
    "* $\\frac{1-x}{3+y}$\n",
    "* $\\sum_{i=1}^n$\n",
    "* $\\sqrt{1-p}$\n",
    "\n",
    "## Tablo Oluşturma\n",
    "|Ad|Soyad|\n",
    "|---|----|\n",
    "|Ali|Uçan|\n",
    "|Veli|Kaçan|"
   ]
  }
 ],
 "metadata": {
  "kernelspec": {
   "display_name": "Python 3 (ipykernel)",
   "language": "python",
   "name": "python3"
  },
  "language_info": {
   "codemirror_mode": {
    "name": "ipython",
    "version": 3
   },
   "file_extension": ".py",
   "mimetype": "text/x-python",
   "name": "python",
   "nbconvert_exporter": "python",
   "pygments_lexer": "ipython3",
   "version": "3.11.3"
  },
  "toc": {
   "base_numbering": 1,
   "nav_menu": {},
   "number_sections": true,
   "sideBar": true,
   "skip_h1_title": false,
   "title_cell": "Table of Contents",
   "title_sidebar": "Contents",
   "toc_cell": false,
   "toc_position": {},
   "toc_section_display": true,
   "toc_window_display": false
  },
  "varInspector": {
   "cols": {
    "lenName": 16,
    "lenType": 16,
    "lenVar": 40
   },
   "kernels_config": {
    "python": {
     "delete_cmd_postfix": "",
     "delete_cmd_prefix": "del ",
     "library": "var_list.py",
     "varRefreshCmd": "print(var_dic_list())"
    },
    "r": {
     "delete_cmd_postfix": ") ",
     "delete_cmd_prefix": "rm(",
     "library": "var_list.r",
     "varRefreshCmd": "cat(var_dic_list()) "
    }
   },
   "types_to_exclude": [
    "module",
    "function",
    "builtin_function_or_method",
    "instance",
    "_Feature"
   ],
   "window_display": false
  }
 },
 "nbformat": 4,
 "nbformat_minor": 5
}
