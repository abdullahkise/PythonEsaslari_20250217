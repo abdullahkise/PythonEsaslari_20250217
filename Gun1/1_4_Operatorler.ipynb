{
 "cells": [
  {
   "cell_type": "markdown",
   "id": "0457b5bd",
   "metadata": {},
   "source": [
    "## Standart Operatorler\n",
    "![Operatorler.png](Operatorler.png)"
   ]
  },
  {
   "cell_type": "markdown",
   "id": "48f8590b",
   "metadata": {},
   "source": [
    "### Arithmetic\n",
    "* parantez ile işlem önceliği sağlanabilir."
   ]
  },
  {
   "cell_type": "code",
   "execution_count": 2,
   "id": "1aef13c6",
   "metadata": {},
   "outputs": [
    {
     "data": {
      "text/plain": [
       "15.0"
      ]
     },
     "execution_count": 2,
     "metadata": {},
     "output_type": "execute_result"
    }
   ],
   "source": [
    "8/2*(2+2)-1\n",
    "\n",
    "# önce parantez içi\n",
    "# çarpma ve bölme arasında işlem ömceliği yokyur. soldan işleme alınır.\n",
    "# sonrasonda önce toplama sonra çıkarma işemi yapılır."
   ]
  },
  {
   "cell_type": "code",
   "execution_count": 11,
   "id": "b32221df",
   "metadata": {},
   "outputs": [
    {
     "name": "stdout",
     "output_type": "stream",
     "text": [
      "Hakedişiniz : 41250.0 TL dir.\n"
     ]
    }
   ],
   "source": [
    "#soru:\n",
    "'''\n",
    "    Haftalık çalışma saati verilen bir kişinin hakedişini hesaplayalım.\n",
    "    - min 40 saat çalıştığı varsayılsın.\n",
    "    - 40 saat üzeri çalışırsa saatlik ücretin 1.5 katı ile değerlendirilsin.\n",
    "    - saatlik ücret değiştirilebilir olsun.\n",
    "'''\n",
    "\n",
    "saatlik_ucret = 750\n",
    "toplam_saat = 50\n",
    "\n",
    "#\n",
    "hakedis = 40 * saatlik_ucret + (toplam_saat - 40) * (saatlik_ucret * 1.5)\n",
    "\n",
    "#\n",
    "print(\"Hakedişiniz :\",hakedis, \"TL dir.\")"
   ]
  },
  {
   "cell_type": "code",
   "execution_count": 12,
   "id": "49e2f8cf",
   "metadata": {},
   "outputs": [
    {
     "name": "stdout",
     "output_type": "stream",
     "text": [
      "Hipotenüs : 5.0\n"
     ]
    }
   ],
   "source": [
    "#soru:\n",
    "'''\n",
    "    iki dik kenarı verilen ücgenin hipotenüsünü hesaplayalım.\n",
    "    h^2 = x^2 + y^2\n",
    "    h = ?\n",
    "    \n",
    "    markdown\n",
    "    * $h^2 = x^2 + y^2$\n",
    "    * $h = \\sqrt{x^2 + y^2}$\n",
    "'''\n",
    "x = 3\n",
    "y = 4\n",
    "\n",
    "h = (x**2 + y**2)**0.5 #pow, math.pow, math.sqrt\n",
    "\n",
    "print(\"Hipotenüs :\",h)"
   ]
  },
  {
   "cell_type": "markdown",
   "id": "1b61627c",
   "metadata": {},
   "source": [
    "* $h^2 = x^2 + y^2$\n",
    "* $h = \\sqrt{x^2 + y^2}$"
   ]
  },
  {
   "cell_type": "code",
   "execution_count": 18,
   "id": "0e1e4a1f",
   "metadata": {},
   "outputs": [
    {
     "name": "stdout",
     "output_type": "stream",
     "text": [
      "89 aylık bebek doğalı 7 yıl ve 5 ay oldu.\n"
     ]
    }
   ],
   "source": [
    "#soru:\n",
    "'''\n",
    "    Ay olarak yaşı verilen bebeğin yıl ve ay olarak yaşınını yazdıralım.\n",
    "    56 aylık bir bebek doğalı 4 yıl 8 ay olmuş.\n",
    "'''\n",
    "\n",
    "kacAylik = 89\n",
    "\n",
    "#\n",
    "yil = kacAylik // 12\n",
    "ay = kacAylik % 12\n",
    "\n",
    "#\n",
    "print(kacAylik, \"aylık bebek doğalı\",yil,\"yıl ve\",ay, \"ay oldu.\")\n"
   ]
  },
  {
   "cell_type": "markdown",
   "id": "34c66607",
   "metadata": {},
   "source": [
    "### Assigment"
   ]
  },
  {
   "cell_type": "code",
   "execution_count": 19,
   "id": "42123592",
   "metadata": {},
   "outputs": [
    {
     "name": "stdout",
     "output_type": "stream",
     "text": [
      "1 2 3\n"
     ]
    }
   ],
   "source": [
    "# klasik atama\n",
    "x = 1\n",
    "\n",
    "#zincir atama \n",
    "x = y = 1\n",
    "\n",
    "#unpacking (deger ile değişken deseni aynı ise değerler değişkene atanır.)\n",
    "x,y,z = 1,2,3 #tuple = tuple\n",
    "\n",
    "print(x,y,z)"
   ]
  },
  {
   "cell_type": "code",
   "execution_count": 23,
   "id": "d4cf9ea3",
   "metadata": {},
   "outputs": [
    {
     "data": {
      "text/plain": [
       "6"
      ]
     },
     "execution_count": 23,
     "metadata": {},
     "output_type": "execute_result"
    }
   ],
   "source": [
    "#cumulative atamalar\n",
    "x = 1\n",
    "\n",
    "#\n",
    "#x = x+1 #x'in önceki değerine 1 ekledik.\n",
    "x += 1\n",
    "\n",
    "#\n",
    "x *= 3 #x = x*3\n",
    "\n",
    "#\n",
    "x"
   ]
  },
  {
   "cell_type": "markdown",
   "id": "d7ad72b8",
   "metadata": {},
   "source": [
    "### Comparison\n",
    "* geriye True/False değer döndüren operatorlerdir."
   ]
  },
  {
   "cell_type": "code",
   "execution_count": 24,
   "id": "fe32908e",
   "metadata": {},
   "outputs": [
    {
     "data": {
      "text/plain": [
       "True"
      ]
     },
     "execution_count": 24,
     "metadata": {},
     "output_type": "execute_result"
    }
   ],
   "source": [
    "#örn: x sayısı çift mi?\n",
    "x = 12\n",
    "\n",
    "#\n",
    "x%2 == 0 #2'ye bölümünden kalan 0 mı?\n",
    "\n",
    "#== karşılaştırma operator = atama operatorudur."
   ]
  },
  {
   "cell_type": "code",
   "execution_count": 28,
   "id": "4ccf79e6",
   "metadata": {},
   "outputs": [
    {
     "data": {
      "text/plain": [
       "False"
      ]
     },
     "execution_count": 28,
     "metadata": {},
     "output_type": "execute_result"
    }
   ],
   "source": [
    "degisken = \"metin\"\n",
    "\n",
    "#\n",
    "type(degisken) == str #bu str tipinden mi?\n",
    "\n",
    "#\n",
    "isinstance(degisken, str) #alternatif kontrol fonksiyonu\n",
    "isinstance(degisken, (float, int, list)) #float, int, list tiplerinden biri mi?"
   ]
  },
  {
   "cell_type": "markdown",
   "id": "9182e9e9",
   "metadata": {},
   "source": [
    "### Logical\n",
    "* True/False değerlere bakarak geriye True/False döndürür.\n",
    "* `and`: her iki tarafı True ise sonuç True olur.\n",
    "* `or`: en az bir taraf True üretirse sonuç True olur.\n",
    "* `not(mantiksalŞart)`: mantıksal şartın tersini verir. \n"
   ]
  },
  {
   "cell_type": "code",
   "execution_count": 32,
   "id": "08659948",
   "metadata": {},
   "outputs": [
    {
     "data": {
      "text/plain": [
       "False"
      ]
     },
     "execution_count": 32,
     "metadata": {},
     "output_type": "execute_result"
    }
   ],
   "source": [
    "#örn:\n",
    "kadi = \"admin\"\n",
    "sifre = \"1234\"\n",
    "\n",
    "#\n",
    "kadi == \"admin\" and sifre==\"1234\"\n",
    "\n",
    "#aynı şekilde çalışan fakat not kullanılan hali.\n",
    "not(kadi != \"admin\" or sifre!=\"1234\")\n",
    "#bir şeyin tersinin tersi kendisdir."
   ]
  },
  {
   "cell_type": "markdown",
   "id": "510c6aae",
   "metadata": {},
   "source": [
    "### identity\n",
    "* `ìd()` ile memorydeki adres elde edilebilir.\n",
    "* `is` ile nesneler aynı ?\n",
    "* `is not` aynı değil mi?"
   ]
  },
  {
   "cell_type": "code",
   "execution_count": 34,
   "id": "6d898bde",
   "metadata": {},
   "outputs": [
    {
     "name": "stdout",
     "output_type": "stream",
     "text": [
      "True\n",
      "140718505124648 140718505124648\n"
     ]
    }
   ],
   "source": [
    "a = 1\n",
    "b = a\n",
    "\n",
    "print(a is b)\n",
    "print(id(a) , id(b)) #adresleri aynı\n",
    "#not mutable vs immutable konusunda değinmiştik."
   ]
  },
  {
   "cell_type": "markdown",
   "id": "9e8d5bdd",
   "metadata": {},
   "source": [
    "#### Membership\n",
    "* `in` üyesi mi?\n",
    "* `not in` üyesi değil mi?"
   ]
  },
  {
   "cell_type": "code",
   "execution_count": 36,
   "id": "07bcb45c",
   "metadata": {},
   "outputs": [
    {
     "data": {
      "text/plain": [
       "False"
      ]
     },
     "execution_count": 36,
     "metadata": {},
     "output_type": "execute_result"
    }
   ],
   "source": [
    "\"m\" in \"merhaba\" #str tipi container tiptir. karekterlerden oluşur.\n",
    "#merhaba içinde m var mı? True\n",
    "\n",
    "#\n",
    "100 in [1,2,3] #100 sayısı [1,2,3] listesinde mevcut mu? False"
   ]
  },
  {
   "cell_type": "code",
   "execution_count": 42,
   "id": "c25c5ffa",
   "metadata": {},
   "outputs": [
    {
     "data": {
      "text/plain": [
       "False"
      ]
     },
     "execution_count": 42,
     "metadata": {},
     "output_type": "execute_result"
    }
   ],
   "source": [
    "#soru:\n",
    "'''\n",
    "    sqrt fonksiyonu __builtins__ nesneler içerisinde, yani gömülü nesneler içerisinde var mı?\n",
    "    Geriye True/False dönsün.\n",
    "'''\n",
    "\"sqrt\" in dir(__builtins__) #gömülü nesnelerin oluduğu listede var mı? containerda var mı?"
   ]
  },
  {
   "cell_type": "markdown",
   "id": "fae5213a",
   "metadata": {},
   "source": [
    "### Tip Dönüşümü\n",
    "![TipDonusu.png](TipDonusu.png)"
   ]
  },
  {
   "cell_type": "code",
   "execution_count": 44,
   "id": "50827a38",
   "metadata": {},
   "outputs": [
    {
     "data": {
      "text/plain": [
       "2.23"
      ]
     },
     "execution_count": 44,
     "metadata": {},
     "output_type": "execute_result"
    }
   ],
   "source": [
    "#implicit\n",
    "1 + 1.23 #int + float = float"
   ]
  },
  {
   "cell_type": "code",
   "execution_count": 50,
   "id": "8edf2444",
   "metadata": {},
   "outputs": [
    {
     "data": {
      "text/plain": [
       "'1 kişi'"
      ]
     },
     "execution_count": 50,
     "metadata": {},
     "output_type": "execute_result"
    }
   ],
   "source": [
    "#explicit\n",
    "1 + 1 #+ operatoru sayılarda destekleniyor. toplama işlemi yapar.\n",
    "\"bir\" + \"iki\" #metinlerde desteklenir metni yanyana yazar.\n",
    "\n",
    "#\n",
    "#1 +\"kişi\" #HATA int ile str arasında + operatoru ile işlem yapılamaz.\n",
    "\n",
    "#\n",
    "#tip dönüşümü\n",
    "str(1) + \" kişi\" # str + str"
   ]
  },
  {
   "cell_type": "markdown",
   "id": "61d23a61",
   "metadata": {},
   "source": [
    "#### Container tipledeki davranış\n",
    "* container tipin elemanları diğer container tipin elemanları olur."
   ]
  },
  {
   "cell_type": "code",
   "execution_count": 55,
   "id": "2eccd0b8",
   "metadata": {},
   "outputs": [
    {
     "data": {
      "text/plain": [
       "{'A', 'B', 'I', 'K', 'L'}"
      ]
     },
     "execution_count": 55,
     "metadata": {},
     "output_type": "execute_result"
    }
   ],
   "source": [
    "metin = \"KALABALIK\" #str container tiptir.\n",
    "\n",
    "#\n",
    "tuple(metin) #('K', 'A', 'L', 'A', 'B', 'A', 'L', 'I', 'K')\n",
    "list(metin)  #['K', 'A', 'L', 'A', 'B', 'A', 'L', 'I', 'K']\n",
    "set(metin)   #{'A', 'B', 'I', 'K', 'L'}\n",
    "#dict(metin) #HATA dictler key:value şeklinde iki bekler."
   ]
  },
  {
   "cell_type": "code",
   "execution_count": 57,
   "id": "c4b74204",
   "metadata": {},
   "outputs": [
    {
     "data": {
      "text/plain": [
       "{'Ad': 'Ali', 'Yas': 55}"
      ]
     },
     "execution_count": 57,
     "metadata": {},
     "output_type": "execute_result"
    }
   ],
   "source": [
    "lst = [(\"Ad\",\"Ali\") , (\"Yas\", 55)]\n",
    "\n",
    "dict(lst) #tuple ikililerinin ilk elemanı key, ikinci elemanı value oldu."
   ]
  },
  {
   "cell_type": "markdown",
   "id": "b4638c52",
   "metadata": {},
   "source": [
    "### Dışarıdan Değer Almak (input)\n",
    "* alınan değerler str tipindendir"
   ]
  },
  {
   "cell_type": "code",
   "execution_count": 59,
   "id": "4649cc95",
   "metadata": {},
   "outputs": [
    {
     "name": "stdout",
     "output_type": "stream",
     "text": [
      "Sayı 1:10\n",
      "Sayı 2:20\n",
      "1020\n",
      "30.0\n"
     ]
    }
   ],
   "source": [
    "s1 = input(\"Sayı 1:\")\n",
    "s2 = input(\"Sayı 2:\")\n",
    "\n",
    "#\n",
    "print(s1 + s2) #str + str olduğu için metinsel birleştirir.\n",
    "\n",
    "#\n",
    "#tip dönüşümü\n",
    "s1 = float(s1)\n",
    "s2 = float(s2)\n",
    "\n",
    "#\n",
    "print(s1+s2) #float oldular"
   ]
  },
  {
   "cell_type": "markdown",
   "id": "75d03f1c",
   "metadata": {},
   "source": [
    "### Değişkeni Memoryden Kaldırmak"
   ]
  },
  {
   "cell_type": "code",
   "execution_count": 61,
   "id": "2b93aa3a",
   "metadata": {},
   "outputs": [
    {
     "name": "stdout",
     "output_type": "stream",
     "text": [
      "12\n",
      "metin\n"
     ]
    }
   ],
   "source": [
    "a = 12\n",
    "\n",
    "print(a)\n",
    "\n",
    "#python dynamic type özelliğine sahip. farklı tipleri alabilir.\n",
    "a = \"metin\"\n",
    "\n",
    "print(a)"
   ]
  },
  {
   "cell_type": "code",
   "execution_count": 62,
   "id": "8bfc5f44",
   "metadata": {},
   "outputs": [
    {
     "ename": "NameError",
     "evalue": "name 'a' is not defined",
     "output_type": "error",
     "traceback": [
      "\u001b[1;31m---------------------------------------------------------------------------\u001b[0m",
      "\u001b[1;31mNameError\u001b[0m                                 Traceback (most recent call last)",
      "Cell \u001b[1;32mIn[62], line 5\u001b[0m\n\u001b[0;32m      2\u001b[0m \u001b[38;5;28;01mdel\u001b[39;00m a\n\u001b[0;32m      4\u001b[0m \u001b[38;5;66;03m#\u001b[39;00m\n\u001b[1;32m----> 5\u001b[0m \u001b[38;5;28mprint\u001b[39m(\u001b[43ma\u001b[49m)\n",
      "\u001b[1;31mNameError\u001b[0m: name 'a' is not defined"
     ]
    }
   ],
   "source": [
    "#memoyden kaldırmak için\n",
    "del a\n",
    "\n",
    "#\n",
    "print(a) #artık memoryde a değişkeni yok."
   ]
  }
 ],
 "metadata": {
  "kernelspec": {
   "display_name": "Python 3 (ipykernel)",
   "language": "python",
   "name": "python3"
  },
  "language_info": {
   "codemirror_mode": {
    "name": "ipython",
    "version": 3
   },
   "file_extension": ".py",
   "mimetype": "text/x-python",
   "name": "python",
   "nbconvert_exporter": "python",
   "pygments_lexer": "ipython3",
   "version": "3.11.3"
  },
  "toc": {
   "base_numbering": 1,
   "nav_menu": {},
   "number_sections": true,
   "sideBar": true,
   "skip_h1_title": false,
   "title_cell": "Table of Contents",
   "title_sidebar": "Contents",
   "toc_cell": false,
   "toc_position": {},
   "toc_section_display": true,
   "toc_window_display": false
  },
  "varInspector": {
   "cols": {
    "lenName": 16,
    "lenType": 16,
    "lenVar": 40
   },
   "kernels_config": {
    "python": {
     "delete_cmd_postfix": "",
     "delete_cmd_prefix": "del ",
     "library": "var_list.py",
     "varRefreshCmd": "print(var_dic_list())"
    },
    "r": {
     "delete_cmd_postfix": ") ",
     "delete_cmd_prefix": "rm(",
     "library": "var_list.r",
     "varRefreshCmd": "cat(var_dic_list()) "
    }
   },
   "types_to_exclude": [
    "module",
    "function",
    "builtin_function_or_method",
    "instance",
    "_Feature"
   ],
   "window_display": false
  }
 },
 "nbformat": 4,
 "nbformat_minor": 5
}
