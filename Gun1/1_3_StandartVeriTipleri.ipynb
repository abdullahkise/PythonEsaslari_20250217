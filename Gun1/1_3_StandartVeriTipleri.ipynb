{
 "cells": [
  {
   "cell_type": "markdown",
   "id": "dcf08d8f",
   "metadata": {},
   "source": [
    "## Python Standart Veri Tipleri\n",
    "![stdTypes](PythonVeriTipleri.png)"
   ]
  },
  {
   "cell_type": "markdown",
   "id": "20b2fe13",
   "metadata": {},
   "source": [
    "### Değişken Tanımlama"
   ]
  },
  {
   "cell_type": "code",
   "execution_count": 3,
   "id": "335eca78",
   "metadata": {},
   "outputs": [
    {
     "name": "stdout",
     "output_type": "stream",
     "text": [
      "metin\n"
     ]
    },
    {
     "data": {
      "text/plain": [
       "'metin'"
      ]
     },
     "execution_count": 3,
     "metadata": {},
     "output_type": "execute_result"
    }
   ],
   "source": [
    "degisken = 1 #atama operatoryu = dir.\n",
    "\n",
    "#python dynamic type özelliğine sahip\n",
    "degisken = \"metin\" #metinler çift veya tek tırna ile yazılır.\n",
    "\n",
    "# iki sunum penceresi var. print çıktısının olduğu ve out penceresi\n",
    "#out her zaman son satırın çıktısını verir.\n",
    "print(degisken)\n",
    "degisken"
   ]
  },
  {
   "cell_type": "code",
   "execution_count": 6,
   "id": "8043b543",
   "metadata": {},
   "outputs": [
    {
     "data": {
      "text/plain": [
       "str"
      ]
     },
     "execution_count": 6,
     "metadata": {},
     "output_type": "execute_result"
    }
   ],
   "source": [
    "type(degisken) #değişkenin tipini verir"
   ]
  },
  {
   "cell_type": "code",
   "execution_count": 9,
   "id": "457d3970",
   "metadata": {},
   "outputs": [
    {
     "data": {
      "text/plain": [
       "False"
      ]
     },
     "execution_count": 9,
     "metadata": {},
     "output_type": "execute_result"
    }
   ],
   "source": [
    "isinstance(degisken, str) #True yani evet str demektir.\n",
    "isinstance(degisken, (int, float) ) #int veya float mu? False"
   ]
  },
  {
   "cell_type": "markdown",
   "id": "af910501",
   "metadata": {},
   "source": [
    "### Primitive Types"
   ]
  },
  {
   "cell_type": "markdown",
   "id": "75278a18",
   "metadata": {},
   "source": [
    "#### Numeric"
   ]
  },
  {
   "cell_type": "code",
   "execution_count": 12,
   "id": "9e021af8",
   "metadata": {},
   "outputs": [
    {
     "name": "stdout",
     "output_type": "stream",
     "text": [
      "1\n",
      "1.23\n",
      "(3+4j)\n",
      "<class 'int'>\n",
      "<class 'float'>\n",
      "<class 'complex'>\n"
     ]
    }
   ],
   "source": [
    "i = 1      #i=int(1)\n",
    "f = 1.23   #float(1.23)\n",
    "c = 3 + 4j #coplex(3,4) #real ve image\n",
    "\n",
    "\n",
    "#\n",
    "print(i,f,c, sep='\\n') #değerler arasına alt satır geçiş metnini ekleyecek\n",
    "print(type(i), type(f), type(c), sep='\\n')"
   ]
  },
  {
   "cell_type": "markdown",
   "id": "b4bc3d23",
   "metadata": {},
   "source": [
    "#### Bool"
   ]
  },
  {
   "cell_type": "code",
   "execution_count": 14,
   "id": "11766aa5",
   "metadata": {},
   "outputs": [
    {
     "data": {
      "text/plain": [
       "bool"
      ]
     },
     "execution_count": 14,
     "metadata": {},
     "output_type": "execute_result"
    }
   ],
   "source": [
    "t = True #bool(True)\n",
    "f = False #bool(False)\n",
    "\n",
    "#\n",
    "type(t)"
   ]
  },
  {
   "cell_type": "markdown",
   "id": "e89f5334",
   "metadata": {},
   "source": [
    "##### Bool tipine özel durumlar\n",
    "* 0, None, veya benzer şekilde yokluk ifade eden nesneler (list,tuple, set vs.) False olarak algılanır.\n",
    "* Diğer veriler True olarak kabul edilir."
   ]
  },
  {
   "cell_type": "code",
   "execution_count": 18,
   "id": "301028a9",
   "metadata": {},
   "outputs": [
    {
     "data": {
      "text/plain": [
       "True"
      ]
     },
     "execution_count": 18,
     "metadata": {},
     "output_type": "execute_result"
    }
   ],
   "source": [
    "# True alanlar:\n",
    "True\n",
    "bool(True)\n",
    "\n",
    "#\n",
    "bool(1)\n",
    "bool(-1)\n",
    "\n",
    "#\n",
    "bool(32132131)\n",
    "bool(\"metin\")\n",
    "bool(\" \") #space bir metinsel karekterdir."
   ]
  },
  {
   "cell_type": "code",
   "execution_count": 21,
   "id": "26e108f8",
   "metadata": {},
   "outputs": [
    {
     "data": {
      "text/plain": [
       "False"
      ]
     },
     "execution_count": 21,
     "metadata": {},
     "output_type": "execute_result"
    }
   ],
   "source": [
    "# False dönenler\n",
    "False\n",
    "bool(False)\n",
    "\n",
    "#\n",
    "bool(0)\n",
    "bool(\"\") #boş str\n",
    "bool([]) #boş list"
   ]
  },
  {
   "cell_type": "markdown",
   "id": "8786ae1a",
   "metadata": {},
   "source": [
    "#### NoneType"
   ]
  },
  {
   "cell_type": "code",
   "execution_count": 22,
   "id": "ac7daa09",
   "metadata": {
    "scrolled": true
   },
   "outputs": [
    {
     "data": {
      "text/plain": [
       "NoneType"
      ]
     },
     "execution_count": 22,
     "metadata": {},
     "output_type": "execute_result"
    }
   ],
   "source": [
    "type(None) #Bazen NaN, NA, None, NaT şekilnde görebiliriz."
   ]
  },
  {
   "cell_type": "markdown",
   "id": "d0a765e3",
   "metadata": {},
   "source": [
    "### Container Tipler"
   ]
  },
  {
   "cell_type": "markdown",
   "id": "0f38b429",
   "metadata": {},
   "source": [
    "#### Sequence Types\n",
    "* Sıralı veri tipleridir\n",
    "* Sıra numarası ile verilere erişebiliriz.\n",
    "* Sıra numarası 0'dan başlar."
   ]
  },
  {
   "cell_type": "markdown",
   "id": "66b9235e",
   "metadata": {},
   "source": [
    "#### str"
   ]
  },
  {
   "cell_type": "code",
   "execution_count": 26,
   "id": "cb201f1f",
   "metadata": {},
   "outputs": [
    {
     "name": "stdout",
     "output_type": "stream",
     "text": [
      "\n",
      "SELECT\n",
      "    kolon1,\n",
      "    kolon2,\n",
      "    kolon3\n",
      "FROM TabloAdi\n"
     ]
    },
    {
     "data": {
      "text/plain": [
       "'\\nSELECT\\n    kolon1,\\n    kolon2,\\n    kolon3\\nFROM TabloAdi'"
      ]
     },
     "execution_count": 26,
     "metadata": {},
     "output_type": "execute_result"
    }
   ],
   "source": [
    "#tek satırda metin yazmak için \" veya ' kullanılabilir.\n",
    "metin = \"merhaba dünyalı\"\n",
    "\n",
    "#çok satırlı metinler tutmak için turnaklardan başta ve sonra 3'er tane kullanmalıyız.\n",
    "sqlKomutu = \"\"\"\n",
    "SELECT\n",
    "    kolon1,\n",
    "    kolon2,\n",
    "    kolon3\n",
    "FROM TabloAdi\"\"\"\n",
    "\n",
    "print(sqlKomutu)\n",
    "sqlKomutu"
   ]
  },
  {
   "cell_type": "markdown",
   "id": "71a41039",
   "metadata": {},
   "source": [
    "#### tuple\n",
    "* Farklı tipteki verileri tutabiliriz.\n",
    "* (,,,,,) veya ,,,, elemanlar belirtilir.\n",
    "* immutable tiptir. Yani elemanları güncellenemez. Eleman eklemek, silmek ve değiştirmek mümkün değil (Dolaylı yollar var.)"
   ]
  },
  {
   "cell_type": "code",
   "execution_count": 28,
   "id": "f24b1dcb",
   "metadata": {},
   "outputs": [
    {
     "name": "stdout",
     "output_type": "stream",
     "text": [
      "(1, 2, 3, 'metin', False, True, None)\n"
     ]
    },
    {
     "data": {
      "text/plain": [
       "tuple"
      ]
     },
     "execution_count": 28,
     "metadata": {},
     "output_type": "execute_result"
    }
   ],
   "source": [
    "t = (1,2,3,\"metin\",False,True,None)\n",
    "t = 1,2,3,\"metin\",False,True,None\n",
    "\n",
    "#\n",
    "print(t)\n",
    "type(t)"
   ]
  },
  {
   "cell_type": "markdown",
   "id": "bf5a9f0a",
   "metadata": {},
   "source": [
    "#### list\n",
    "* Farklı tipteki verileri tutabilir.\n",
    "* [,,,,] tanımı ile tanımlanır.\n",
    "* mutable tiptir. Yani elemanlar eklenebilir, çıkarılabilir, elemanları güncellenebilir."
   ]
  },
  {
   "cell_type": "code",
   "execution_count": 30,
   "id": "8da2c580",
   "metadata": {},
   "outputs": [
    {
     "name": "stdout",
     "output_type": "stream",
     "text": [
      "[1, 2, 3, 'metin', True, False, None]\n"
     ]
    },
    {
     "data": {
      "text/plain": [
       "list"
      ]
     },
     "execution_count": 30,
     "metadata": {},
     "output_type": "execute_result"
    }
   ],
   "source": [
    "l = [1,2,3,\"metin\",True,False, None]\n",
    "\n",
    "print(l)\n",
    "type(l)"
   ]
  },
  {
   "cell_type": "markdown",
   "id": "3492a275",
   "metadata": {},
   "source": [
    "#### Sequence elemanlarına erişmek\n",
    "* str, tuple, list\n",
    "* Sıra numarası ile elemanlarına erişilebilir. Sıra numarası 0'dan başlar.\n",
    "* Sıra numarası negatif olabilir. -1 sondan, tersten 1. anlamına gelir. \n",
    "* index ile:\n",
    "    * `sqNesnesi[SiraNumarasi]`\n",
    "* slicing yöntemi\n",
    "    * `sqNesnesi[start: stop: step]`\n",
    "        * start belirtilmez en baştan yani varsayılan değer 0'dır.\n",
    "        * stop belirtilmezse en sona\n",
    "        * step belirtilmezse 1'er atla yani varsayılan değer 1 olur.\n"
   ]
  },
  {
   "cell_type": "code",
   "execution_count": 38,
   "id": "ace37f1a",
   "metadata": {},
   "outputs": [
    {
     "data": {
      "text/plain": [
       "['Hüseyin', 'Hasan', 'Fatma', 'Ayşe', 'Veli', 'Ali']"
      ]
     },
     "execution_count": 38,
     "metadata": {},
     "output_type": "execute_result"
    }
   ],
   "source": [
    "lst = [\"Ali\",\"Veli\",\"Ayşe\",\"Fatma\",\"Hasan\",\"Hüseyin\"]\n",
    "\n",
    "#index\n",
    "lst[0] #Ali\n",
    "\n",
    "#\n",
    "lst[-1] #Hüseyin\n",
    "\n",
    "#---------\n",
    "#slicing\n",
    "lst[0:4:2] #0'dan başla 4'e kadar git 2'şer atla getir. son index dahil değil.\n",
    "\n",
    "#özel kullanımlar\n",
    "lst[::] #lst aynı şey\n",
    "lst[:3] #ilk 3 eleman\n",
    "lst[2:] #2. indexten sona kadar git\n",
    "lst[::-1] #tersten getirir"
   ]
  }
 ],
 "metadata": {
  "kernelspec": {
   "display_name": "Python 3 (ipykernel)",
   "language": "python",
   "name": "python3"
  },
  "language_info": {
   "codemirror_mode": {
    "name": "ipython",
    "version": 3
   },
   "file_extension": ".py",
   "mimetype": "text/x-python",
   "name": "python",
   "nbconvert_exporter": "python",
   "pygments_lexer": "ipython3",
   "version": "3.11.3"
  },
  "toc": {
   "base_numbering": 1,
   "nav_menu": {},
   "number_sections": true,
   "sideBar": true,
   "skip_h1_title": false,
   "title_cell": "Table of Contents",
   "title_sidebar": "Contents",
   "toc_cell": false,
   "toc_position": {
    "height": "calc(100% - 180px)",
    "left": "10px",
    "top": "150px",
    "width": "345.994px"
   },
   "toc_section_display": true,
   "toc_window_display": false
  },
  "varInspector": {
   "cols": {
    "lenName": 16,
    "lenType": 16,
    "lenVar": 40
   },
   "kernels_config": {
    "python": {
     "delete_cmd_postfix": "",
     "delete_cmd_prefix": "del ",
     "library": "var_list.py",
     "varRefreshCmd": "print(var_dic_list())"
    },
    "r": {
     "delete_cmd_postfix": ") ",
     "delete_cmd_prefix": "rm(",
     "library": "var_list.r",
     "varRefreshCmd": "cat(var_dic_list()) "
    }
   },
   "types_to_exclude": [
    "module",
    "function",
    "builtin_function_or_method",
    "instance",
    "_Feature"
   ],
   "window_display": false
  }
 },
 "nbformat": 4,
 "nbformat_minor": 5
}
