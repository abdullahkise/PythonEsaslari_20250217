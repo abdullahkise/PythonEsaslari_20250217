{
 "cells": [
  {
   "cell_type": "markdown",
   "id": "fe559b06",
   "metadata": {},
   "source": [
    "## Python Standart Veri Tipleri\n",
    "![stdTypes](PythonVeriTipleri.png)"
   ]
  },
  {
   "cell_type": "markdown",
   "id": "75cf2a6f",
   "metadata": {},
   "source": [
    "### Değişken Tanımlama"
   ]
  },
  {
   "cell_type": "code",
   "execution_count": 3,
   "id": "476ecd46",
   "metadata": {},
   "outputs": [
    {
     "name": "stdout",
     "output_type": "stream",
     "text": [
      "metin\n"
     ]
    },
    {
     "data": {
      "text/plain": [
       "'metin'"
      ]
     },
     "execution_count": 3,
     "metadata": {},
     "output_type": "execute_result"
    }
   ],
   "source": [
    "degisken = 1 #atama operatoryu = dir.\n",
    "\n",
    "#python dynamic type özelliğine sahip\n",
    "degisken = \"metin\" #metinler çift veya tek tırna ile yazılır.\n",
    "\n",
    "# iki sunum penceresi var. print çıktısının olduğu ve out penceresi\n",
    "#out her zaman son satırın çıktısını verir.\n",
    "print(degisken)\n",
    "degisken"
   ]
  },
  {
   "cell_type": "code",
   "execution_count": 6,
   "id": "b3c5313c",
   "metadata": {},
   "outputs": [
    {
     "data": {
      "text/plain": [
       "str"
      ]
     },
     "execution_count": 6,
     "metadata": {},
     "output_type": "execute_result"
    }
   ],
   "source": [
    "type(degisken) #değişkenin tipini verir"
   ]
  },
  {
   "cell_type": "code",
   "execution_count": 9,
   "id": "26376e5a",
   "metadata": {},
   "outputs": [
    {
     "data": {
      "text/plain": [
       "False"
      ]
     },
     "execution_count": 9,
     "metadata": {},
     "output_type": "execute_result"
    }
   ],
   "source": [
    "isinstance(degisken, str) #True yani evet str demektir.\n",
    "isinstance(degisken, (int, float) ) #int veya float mu? False"
   ]
  },
  {
   "cell_type": "markdown",
   "id": "dca82ff7",
   "metadata": {},
   "source": [
    "### Primitive Types"
   ]
  },
  {
   "cell_type": "markdown",
   "id": "799a3c0c",
   "metadata": {},
   "source": [
    "#### Numeric"
   ]
  },
  {
   "cell_type": "code",
   "execution_count": 12,
   "id": "02b11d42",
   "metadata": {},
   "outputs": [
    {
     "name": "stdout",
     "output_type": "stream",
     "text": [
      "1\n",
      "1.23\n",
      "(3+4j)\n",
      "<class 'int'>\n",
      "<class 'float'>\n",
      "<class 'complex'>\n"
     ]
    }
   ],
   "source": [
    "i = 1      #i=int(1)\n",
    "f = 1.23   #float(1.23)\n",
    "c = 3 + 4j #coplex(3,4) #real ve image\n",
    "\n",
    "\n",
    "#\n",
    "print(i,f,c, sep='\\n') #değerler arasına alt satır geçiş metnini ekleyecek\n",
    "print(type(i), type(f), type(c), sep='\\n')"
   ]
  },
  {
   "cell_type": "markdown",
   "id": "a0dac016",
   "metadata": {},
   "source": [
    "#### Bool"
   ]
  },
  {
   "cell_type": "code",
   "execution_count": 14,
   "id": "f652a014",
   "metadata": {},
   "outputs": [
    {
     "data": {
      "text/plain": [
       "bool"
      ]
     },
     "execution_count": 14,
     "metadata": {},
     "output_type": "execute_result"
    }
   ],
   "source": [
    "t = True #bool(True)\n",
    "f = False #bool(False)\n",
    "\n",
    "#\n",
    "type(t)"
   ]
  },
  {
   "cell_type": "markdown",
   "id": "373f789f",
   "metadata": {},
   "source": [
    "##### Bool tipine özel durumlar\n",
    "* 0, None, veya benzer şekilde yokluk ifade eden nesneler (list,tuple, set vs.) False olarak algılanır.\n",
    "* Diğer veriler True olarak kabul edilir."
   ]
  },
  {
   "cell_type": "code",
   "execution_count": 18,
   "id": "2a289167",
   "metadata": {},
   "outputs": [
    {
     "data": {
      "text/plain": [
       "True"
      ]
     },
     "execution_count": 18,
     "metadata": {},
     "output_type": "execute_result"
    }
   ],
   "source": [
    "# True alanlar:\n",
    "True\n",
    "bool(True)\n",
    "\n",
    "#\n",
    "bool(1)\n",
    "bool(-1)\n",
    "\n",
    "#\n",
    "bool(32132131)\n",
    "bool(\"metin\")\n",
    "bool(\" \") #space bir metinsel karekterdir."
   ]
  },
  {
   "cell_type": "code",
   "execution_count": 21,
   "id": "de5fabb5",
   "metadata": {},
   "outputs": [
    {
     "data": {
      "text/plain": [
       "False"
      ]
     },
     "execution_count": 21,
     "metadata": {},
     "output_type": "execute_result"
    }
   ],
   "source": [
    "# False dönenler\n",
    "False\n",
    "bool(False)\n",
    "\n",
    "#\n",
    "bool(0)\n",
    "bool(\"\") #boş str\n",
    "bool([]) #boş list"
   ]
  },
  {
   "cell_type": "markdown",
   "id": "f4d26315",
   "metadata": {},
   "source": [
    "#### NoneType"
   ]
  },
  {
   "cell_type": "code",
   "execution_count": 22,
   "id": "9d68f650",
   "metadata": {
    "scrolled": true
   },
   "outputs": [
    {
     "data": {
      "text/plain": [
       "NoneType"
      ]
     },
     "execution_count": 22,
     "metadata": {},
     "output_type": "execute_result"
    }
   ],
   "source": [
    "type(None) #Bazen NaN, NA, None, NaT şekilnde görebiliriz."
   ]
  },
  {
   "cell_type": "markdown",
   "id": "799e773d",
   "metadata": {},
   "source": [
    "### Container Tipler"
   ]
  },
  {
   "cell_type": "markdown",
   "id": "4240cb55",
   "metadata": {},
   "source": [
    "#### Sequence Types\n",
    "* Sıralı veri tipleridir\n",
    "* Sıra numarası ile verilere erişebiliriz.\n",
    "* Sıra numarası 0'dan başlar."
   ]
  },
  {
   "cell_type": "markdown",
   "id": "91a2af14",
   "metadata": {},
   "source": [
    "#### str"
   ]
  },
  {
   "cell_type": "code",
   "execution_count": 26,
   "id": "f6b83585",
   "metadata": {},
   "outputs": [
    {
     "name": "stdout",
     "output_type": "stream",
     "text": [
      "\n",
      "SELECT\n",
      "    kolon1,\n",
      "    kolon2,\n",
      "    kolon3\n",
      "FROM TabloAdi\n"
     ]
    },
    {
     "data": {
      "text/plain": [
       "'\\nSELECT\\n    kolon1,\\n    kolon2,\\n    kolon3\\nFROM TabloAdi'"
      ]
     },
     "execution_count": 26,
     "metadata": {},
     "output_type": "execute_result"
    }
   ],
   "source": [
    "#tek satırda metin yazmak için \" veya ' kullanılabilir.\n",
    "metin = \"merhaba dünyalı\"\n",
    "\n",
    "#çok satırlı metinler tutmak için turnaklardan başta ve sonra 3'er tane kullanmalıyız.\n",
    "sqlKomutu = \"\"\"\n",
    "SELECT\n",
    "    kolon1,\n",
    "    kolon2,\n",
    "    kolon3\n",
    "FROM TabloAdi\"\"\"\n",
    "\n",
    "print(sqlKomutu)\n",
    "sqlKomutu"
   ]
  },
  {
   "cell_type": "markdown",
   "id": "9bdcc21e",
   "metadata": {},
   "source": [
    "#### tuple\n",
    "* Farklı tipteki verileri tutabiliriz.\n",
    "* (,,,,,) veya ,,,, elemanlar belirtilir.\n",
    "* immutable tiptir. Yani elemanları güncellenemez. Eleman eklemek, silmek ve değiştirmek mümkün değil (Dolaylı yollar var.)"
   ]
  },
  {
   "cell_type": "code",
   "execution_count": 28,
   "id": "e6f24260",
   "metadata": {},
   "outputs": [
    {
     "name": "stdout",
     "output_type": "stream",
     "text": [
      "(1, 2, 3, 'metin', False, True, None)\n"
     ]
    },
    {
     "data": {
      "text/plain": [
       "tuple"
      ]
     },
     "execution_count": 28,
     "metadata": {},
     "output_type": "execute_result"
    }
   ],
   "source": [
    "t = (1,2,3,\"metin\",False,True,None)\n",
    "t = 1,2,3,\"metin\",False,True,None\n",
    "\n",
    "#\n",
    "print(t)\n",
    "type(t)"
   ]
  },
  {
   "cell_type": "markdown",
   "id": "116a298d",
   "metadata": {},
   "source": [
    "#### list\n",
    "* Farklı tipteki verileri tutabilir.\n",
    "* [,,,,] tanımı ile tanımlanır.\n",
    "* mutable tiptir. Yani elemanlar eklenebilir, çıkarılabilir, elemanları güncellenebilir."
   ]
  },
  {
   "cell_type": "code",
   "execution_count": 30,
   "id": "fa719f42",
   "metadata": {},
   "outputs": [
    {
     "name": "stdout",
     "output_type": "stream",
     "text": [
      "[1, 2, 3, 'metin', True, False, None]\n"
     ]
    },
    {
     "data": {
      "text/plain": [
       "list"
      ]
     },
     "execution_count": 30,
     "metadata": {},
     "output_type": "execute_result"
    }
   ],
   "source": [
    "l = [1,2,3,\"metin\",True,False, None]\n",
    "\n",
    "print(l)\n",
    "type(l)"
   ]
  },
  {
   "cell_type": "markdown",
   "id": "62a68022",
   "metadata": {},
   "source": [
    "#### Sequence elemanlarına erişmek\n",
    "* str, tuple, list\n",
    "* Sıra numarası ile elemanlarına erişilebilir. Sıra numarası 0'dan başlar.\n",
    "* Sıra numarası negatif olabilir. -1 sondan, tersten 1. anlamına gelir. \n",
    "* index ile:\n",
    "    * `sqNesnesi[SiraNumarasi]`\n",
    "* slicing yöntemi\n",
    "    * `sqNesnesi[start: stop: step]`\n",
    "        * start belirtilmez en baştan yani varsayılan değer 0'dır.\n",
    "        * stop belirtilmezse en sona\n",
    "        * step belirtilmezse 1'er atla yani varsayılan değer 1 olur.\n"
   ]
  },
  {
   "cell_type": "code",
   "execution_count": 38,
   "id": "0d1cc09c",
   "metadata": {},
   "outputs": [
    {
     "data": {
      "text/plain": [
       "['Hüseyin', 'Hasan', 'Fatma', 'Ayşe', 'Veli', 'Ali']"
      ]
     },
     "execution_count": 38,
     "metadata": {},
     "output_type": "execute_result"
    }
   ],
   "source": [
    "lst = [\"Ali\",\"Veli\",\"Ayşe\",\"Fatma\",\"Hasan\",\"Hüseyin\"]\n",
    "\n",
    "#index\n",
    "lst[0] #Ali\n",
    "\n",
    "#\n",
    "lst[-1] #Hüseyin\n",
    "\n",
    "#---------\n",
    "#slicing\n",
    "lst[0:4:2] #0'dan başla 4'e kadar git 2'şer atla getir. son index dahil değil.\n",
    "\n",
    "#özel kullanımlar\n",
    "lst[::] #lst aynı şey\n",
    "lst[:3] #ilk 3 eleman\n",
    "lst[2:] #2. indexten sona kadar git\n",
    "lst[::-1] #tersten getirir"
   ]
  },
  {
   "cell_type": "markdown",
   "id": "1eb5f6be",
   "metadata": {},
   "source": [
    "#### Set Types\n",
    "* Elemanlarında sıra numarası yoktur. Elemanları sıralı değildir. Kayıt alınan sıra korunur.\n",
    "* Elemanları benzersizdir.Yani aynı elemanda birden fazla kez bulunmaz.\n",
    "* Matematikteki kümelere benzer, Kesişim, bileşim, fark gibi işlemleri destekler.\n",
    "\n",
    "#### Set\n",
    "* {,,,} tanımlanır.\n",
    "* kendisi mutabledir. Fakat elemananları immutable olmalıdır.\n",
    "    * Bu yönüyle set içerisinde set tanımlanamaz. frozenset immutabledır. Bu amaç için kullanılabilr.\n",
    "* set elemanları sıralı değildir. Sıra numarası ile erişilemez."
   ]
  },
  {
   "cell_type": "code",
   "execution_count": 40,
   "id": "9c4f632e",
   "metadata": {},
   "outputs": [
    {
     "name": "stdout",
     "output_type": "stream",
     "text": [
      "{0, 1, 2, 3, 'metin'}\n"
     ]
    }
   ],
   "source": [
    "s = {0,1,2,3,\"metin\",False,True, \"metin\"}\n",
    "\n",
    "#\n",
    "print(s) #benzersiz elemalar tutar. 0 False, 1 ise True olarak değerlendirilir."
   ]
  },
  {
   "cell_type": "code",
   "execution_count": 42,
   "id": "2c3570ff",
   "metadata": {},
   "outputs": [
    {
     "name": "stdout",
     "output_type": "stream",
     "text": [
      "{'B', 'I', 'L', 'K', 'A'}\n"
     ]
    }
   ],
   "source": [
    "m = {\"K\",\"A\",\"L\",\"A\",\"B\",\"A\",\"L\",\"I\",\"K\"}\n",
    "\n",
    "print(m) #benzersiz ve sıra garantisiz depolanır."
   ]
  },
  {
   "cell_type": "code",
   "execution_count": 45,
   "id": "197c8eca",
   "metadata": {},
   "outputs": [
    {
     "data": {
      "text/plain": [
       "{'Ali', frozenset({'Ayşe', 'Fatma'})}"
      ]
     },
     "execution_count": 45,
     "metadata": {},
     "output_type": "execute_result"
    }
   ],
   "source": [
    "kadinlar = {\"Ayşe\",\"Fatma\"}\n",
    "#personeller = {\"Ali\",kadinlar} #HATA !!! set içerisinde immutable tipler kullanılabilir. setin kendisi mutable.\n",
    "\n",
    "#\n",
    "personeller = {\"Ali\",frozenset(kadinlar)}\n",
    "personeller"
   ]
  },
  {
   "cell_type": "markdown",
   "id": "54ffc309",
   "metadata": {},
   "source": [
    "### Mapping Types\n",
    "* Sıralı değildir.\n",
    "* Key:Value şeklinde depolanır\n",
    "* Valulara keyler ile erişebiliriz.\n",
    "\n",
    "#### Dict\n",
    "* Kendisi mutable tiptir. Fakat keyler immutable olmak zorundadır. "
   ]
  },
  {
   "cell_type": "code",
   "execution_count": 50,
   "id": "7ff514a3",
   "metadata": {},
   "outputs": [
    {
     "data": {
      "text/plain": [
       "{'Ad': 'Abdullah',\n",
       " 'Soyad': 'Kise',\n",
       " 1321213: 'SicilNo',\n",
       " 'Yas': 100,\n",
       " 'AktifMi': True,\n",
       " 'Ehliyetler': ['A', 'B', 'C'],\n",
       " (2024, 'Maaş'): 13213.49}"
      ]
     },
     "execution_count": 50,
     "metadata": {},
     "output_type": "execute_result"
    }
   ],
   "source": [
    "personel = {\n",
    "            \"Ad\":\"Abdullah\",\n",
    "            \"Soyad\":\"Kise\",\n",
    "            1321213:\"SicilNo\",\n",
    "            \"Yas\":100,\n",
    "            \"AktifMi\":True,\n",
    "            \"Ehliyetler\":[\"A\",\"B\",\"C\"],\n",
    "            #[2024,\"Maaş\"] : 121145.49   #keyler immutable olmak zorunda. list mutable bir tiptir.\n",
    "            (2024,\"Maaş\"): 13213.49      #tuple immutable bir tiptir.\n",
    "}\n",
    "\n",
    "personel"
   ]
  },
  {
   "cell_type": "markdown",
   "id": "2bc8109a",
   "metadata": {},
   "source": [
    "#### Dict tipinin elemanlarına erişmek\n",
    "* Keyker ile valulara erişebiliriz.\n",
    "    * `dictNesnesi[key]`\n",
    "        * key varsa value gelir. yoksa key yok hatası alırız.\n",
    "    * `dictNesnesi.get(key, defaultDeger)`\n",
    "        * key varsa gelir yoksa default değer gelir. hata vermez. default belirtilmezse None gelir.\n",
    "* Key ve Valuları ayrıca çekmek:\n",
    "    * `dictNesnesi.keys()` sadece keyler gelir.\n",
    "    * `dictNesnesi.values()` sadece valular gelir.\n",
    "    * `dictNesnesi.items()` ile key,value şeklinde tuple ikilileri gelir."
   ]
  },
  {
   "cell_type": "code",
   "execution_count": 54,
   "id": "e7507cdf",
   "metadata": {},
   "outputs": [
    {
     "data": {
      "text/plain": [
       "'A'"
      ]
     },
     "execution_count": 54,
     "metadata": {},
     "output_type": "execute_result"
    }
   ],
   "source": [
    "personel[\"Ad\"]\n",
    "\n",
    "#\n",
    "personel[\"Ehliyetler\"] #['A', 'B', 'C']\n",
    "personel[\"Ehliyetler\"][0] #dönen listenin ilk elemanı gelir. \"A\""
   ]
  },
  {
   "cell_type": "code",
   "execution_count": 57,
   "id": "9c9c6093",
   "metadata": {},
   "outputs": [
    {
     "data": {
      "text/plain": [
       "dict_items([('Ad', 'Abdullah'), ('Soyad', 'Kise'), (1321213, 'SicilNo'), ('Yas', 100), ('AktifMi', True), ('Ehliyetler', ['A', 'B', 'C']), ((2024, 'Maaş'), 13213.49)])"
      ]
     },
     "execution_count": 57,
     "metadata": {},
     "output_type": "execute_result"
    }
   ],
   "source": [
    "personel.keys()\n",
    "personel.values()\n",
    "personel.items() #('Ad', 'Abdullah') şeklinde tuple (key, value) container getiririyor."
   ]
  },
  {
   "cell_type": "markdown",
   "id": "121f7c82",
   "metadata": {},
   "source": [
    "### Mutable vs Immutable\n",
    "* list, set, dict mutable tiplerdir.\n",
    "* diğer standart tipler immutable dır.\n",
    "* Neyi etkiler?\n",
    "    * O nesneye eleman eklemek, çıkarmak, değiştirmek mümkün mü?\n",
    "    * Atama yaptıktan sonra yapılan işlemler orjinalini etkiler mi?\n",
    "    * Dict içerisinde key, set içerisinde eleman olarak bulunabilir mi? Başka fonksyionlarda da bu zorlanabilir."
   ]
  },
  {
   "cell_type": "markdown",
   "id": "85f1f53c",
   "metadata": {},
   "source": [
    "#### Bir kısmı güncellenebilir mi?"
   ]
  },
  {
   "cell_type": "code",
   "execution_count": 62,
   "id": "c6ef78c2",
   "metadata": {},
   "outputs": [
    {
     "data": {
      "text/plain": [
       "['X', 'B']"
      ]
     },
     "execution_count": 62,
     "metadata": {},
     "output_type": "execute_result"
    }
   ],
   "source": [
    "t = (\"A\",\"B\")\n",
    "l = [\"A\",\"B\"]\n",
    "\n",
    "#\n",
    "t[0]\n",
    "l[0]\n",
    "\n",
    "#\n",
    "#t[0] = \"X\" #HATA immutable tiplerin elemamları güncellenemez. Eleman eklenip çıkarılamaz.\n",
    "#\n",
    "#t.__add__() ile dolaylı yoldan eleman ekleme deneyimi yaşanabilir.\n",
    "l[0] = \"X\" #list mutable olduğu için elemanı güncellenebiliyor.\n",
    "\n",
    "l"
   ]
  },
  {
   "cell_type": "markdown",
   "id": "8b49674a",
   "metadata": {},
   "source": [
    "#### Orjinalini etkiler mi?"
   ]
  },
  {
   "cell_type": "code",
   "execution_count": 64,
   "id": "12591e6f",
   "metadata": {},
   "outputs": [
    {
     "name": "stdout",
     "output_type": "stream",
     "text": [
      "1 1\n",
      "1 2\n"
     ]
    }
   ],
   "source": [
    "#immutable tiplerdeki davranış\n",
    "a = 1\n",
    "b = a #b, a'nın değerini alır. atama işlemi\n",
    "\n",
    "#\n",
    "print(a,b)\n",
    "\n",
    "#--------\n",
    "b = 2\n",
    "#--------\n",
    "\n",
    "print(a,b)"
   ]
  },
  {
   "cell_type": "code",
   "execution_count": 68,
   "id": "dc6a1fbc",
   "metadata": {
    "scrolled": true
   },
   "outputs": [
    {
     "name": "stdout",
     "output_type": "stream",
     "text": [
      "['A', 'B']\n",
      "['X', 'B']\n",
      "2260405636864\n",
      "2260413908864\n",
      "False\n"
     ]
    }
   ],
   "source": [
    "#mutable tiplerdeki davranış\n",
    "la = [\"A\",\"B\"]\n",
    "\n",
    "#atama işlemi\n",
    "#lb = la\n",
    "lb = la.copy() #orjinalini etkilemeyecek şekilde la değerini lb'ye kopyalar.\n",
    "\n",
    "#------\n",
    "#güncelleyelim\n",
    "lb[0] = \"X\"\n",
    "\n",
    "print(la, lb, sep='\\n')\n",
    "print(id(la) , id(lb), sep=\"\\n\") #la ve lb'nin adresleri aynı. yani herhangibirinde yapılan değişiklik ikisii de etkiliyor.\n",
    "\n",
    "#\n",
    "print(la is lb) #aynı yeri mi gösteriyor?"
   ]
  }
 ],
 "metadata": {
  "kernelspec": {
   "display_name": "Python 3 (ipykernel)",
   "language": "python",
   "name": "python3"
  },
  "language_info": {
   "codemirror_mode": {
    "name": "ipython",
    "version": 3
   },
   "file_extension": ".py",
   "mimetype": "text/x-python",
   "name": "python",
   "nbconvert_exporter": "python",
   "pygments_lexer": "ipython3",
   "version": "3.11.3"
  },
  "toc": {
   "base_numbering": 1,
   "nav_menu": {},
   "number_sections": true,
   "sideBar": true,
   "skip_h1_title": false,
   "title_cell": "Table of Contents",
   "title_sidebar": "Contents",
   "toc_cell": false,
   "toc_position": {
    "height": "calc(100% - 180px)",
    "left": "10px",
    "top": "150px",
    "width": "345.994px"
   },
   "toc_section_display": true,
   "toc_window_display": false
  },
  "varInspector": {
   "cols": {
    "lenName": 16,
    "lenType": 16,
    "lenVar": 40
   },
   "kernels_config": {
    "python": {
     "delete_cmd_postfix": "",
     "delete_cmd_prefix": "del ",
     "library": "var_list.py",
     "varRefreshCmd": "print(var_dic_list())"
    },
    "r": {
     "delete_cmd_postfix": ") ",
     "delete_cmd_prefix": "rm(",
     "library": "var_list.r",
     "varRefreshCmd": "cat(var_dic_list()) "
    }
   },
   "types_to_exclude": [
    "module",
    "function",
    "builtin_function_or_method",
    "instance",
    "_Feature"
   ],
   "window_display": false
  }
 },
 "nbformat": 4,
 "nbformat_minor": 5
}
