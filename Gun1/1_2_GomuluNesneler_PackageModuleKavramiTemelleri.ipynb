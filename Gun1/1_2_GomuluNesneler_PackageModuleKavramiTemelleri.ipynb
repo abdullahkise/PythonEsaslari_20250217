{
 "cells": [
  {
   "cell_type": "markdown",
   "id": "e8671123",
   "metadata": {},
   "source": [
    "## Package/Module Kavramı Temelleri\n",
    "* Python kütüphanesi Packageadı verilen klasorlerde py dosyaları şekilnde bulunan modullerden oluşur.\n",
    "* Python engine kurulduğunda bazı standart kütüphaneler bilgisayara yüklenir.\n",
    "* Yeni kütüphaneler yüklemek için python repositorysinden pip aracı ile kütüphane çekebiliriz.\n",
    "* Paketleri silmek ve yüklemek için\n",
    "```shell\n",
    "> pip install paketAdi\n",
    "> pip uninstall paketAdi\n",
    "```\n",
    "* Yüklü paketleri hakkında bilgi almak için\n",
    "```\n",
    "> pip list \n",
    "> pip show paketAdi\n",
    "```\n",
    "* Bilgisayarda yüklü paketleri çalışma ortamına almak için\n",
    "```python\n",
    "import paketAdi\n",
    "import paketAdi1, paketAdi2\n",
    "import paketAdi as takmaAd\n",
    "\n",
    "from paketAdi.module import module.module.module.nesne\n",
    "```\n",
    "\n",
    "**Not:**\n",
    "* ! ile notebook içerisinden shell komutları çalıştırabiliriz.\n",
    "* `!pip install paketAdi` ile notebook içerinden kütüphane yüklenebilir ancak tavsiye edilmez."
   ]
  },
  {
   "cell_type": "markdown",
   "id": "d838579d",
   "metadata": {},
   "source": [
    "### Gömülü (builtin) Nesneler.\n",
    "* Çalışma ortamına hiç bir paket import etmeden kullanabileceğimiz nesneler."
   ]
  },
  {
   "cell_type": "code",
   "execution_count": 2,
   "id": "1537c590",
   "metadata": {},
   "outputs": [
    {
     "data": {
      "text/plain": [
       "['ArithmeticError',\n",
       " 'AssertionError',\n",
       " 'AttributeError',\n",
       " 'BaseException',\n",
       " 'BaseExceptionGroup',\n",
       " 'BlockingIOError',\n",
       " 'BrokenPipeError',\n",
       " 'BufferError',\n",
       " 'BytesWarning',\n",
       " 'ChildProcessError',\n",
       " 'ConnectionAbortedError',\n",
       " 'ConnectionError',\n",
       " 'ConnectionRefusedError',\n",
       " 'ConnectionResetError',\n",
       " 'DeprecationWarning',\n",
       " 'EOFError',\n",
       " 'Ellipsis',\n",
       " 'EncodingWarning',\n",
       " 'EnvironmentError',\n",
       " 'Exception',\n",
       " 'ExceptionGroup',\n",
       " 'False',\n",
       " 'FileExistsError',\n",
       " 'FileNotFoundError',\n",
       " 'FloatingPointError',\n",
       " 'FutureWarning',\n",
       " 'GeneratorExit',\n",
       " 'IOError',\n",
       " 'ImportError',\n",
       " 'ImportWarning',\n",
       " 'IndentationError',\n",
       " 'IndexError',\n",
       " 'InterruptedError',\n",
       " 'IsADirectoryError',\n",
       " 'KeyError',\n",
       " 'KeyboardInterrupt',\n",
       " 'LookupError',\n",
       " 'MemoryError',\n",
       " 'ModuleNotFoundError',\n",
       " 'NameError',\n",
       " 'None',\n",
       " 'NotADirectoryError',\n",
       " 'NotImplemented',\n",
       " 'NotImplementedError',\n",
       " 'OSError',\n",
       " 'OverflowError',\n",
       " 'PendingDeprecationWarning',\n",
       " 'PermissionError',\n",
       " 'ProcessLookupError',\n",
       " 'RecursionError',\n",
       " 'ReferenceError',\n",
       " 'ResourceWarning',\n",
       " 'RuntimeError',\n",
       " 'RuntimeWarning',\n",
       " 'StopAsyncIteration',\n",
       " 'StopIteration',\n",
       " 'SyntaxError',\n",
       " 'SyntaxWarning',\n",
       " 'SystemError',\n",
       " 'SystemExit',\n",
       " 'TabError',\n",
       " 'TimeoutError',\n",
       " 'True',\n",
       " 'TypeError',\n",
       " 'UnboundLocalError',\n",
       " 'UnicodeDecodeError',\n",
       " 'UnicodeEncodeError',\n",
       " 'UnicodeError',\n",
       " 'UnicodeTranslateError',\n",
       " 'UnicodeWarning',\n",
       " 'UserWarning',\n",
       " 'ValueError',\n",
       " 'Warning',\n",
       " 'WindowsError',\n",
       " 'ZeroDivisionError',\n",
       " '__IPYTHON__',\n",
       " '__build_class__',\n",
       " '__debug__',\n",
       " '__doc__',\n",
       " '__import__',\n",
       " '__loader__',\n",
       " '__name__',\n",
       " '__package__',\n",
       " '__spec__',\n",
       " 'abs',\n",
       " 'aiter',\n",
       " 'all',\n",
       " 'anext',\n",
       " 'any',\n",
       " 'ascii',\n",
       " 'bin',\n",
       " 'bool',\n",
       " 'breakpoint',\n",
       " 'bytearray',\n",
       " 'bytes',\n",
       " 'callable',\n",
       " 'chr',\n",
       " 'classmethod',\n",
       " 'compile',\n",
       " 'complex',\n",
       " 'copyright',\n",
       " 'credits',\n",
       " 'delattr',\n",
       " 'dict',\n",
       " 'dir',\n",
       " 'display',\n",
       " 'divmod',\n",
       " 'enumerate',\n",
       " 'eval',\n",
       " 'exec',\n",
       " 'execfile',\n",
       " 'filter',\n",
       " 'float',\n",
       " 'format',\n",
       " 'frozenset',\n",
       " 'get_ipython',\n",
       " 'getattr',\n",
       " 'globals',\n",
       " 'hasattr',\n",
       " 'hash',\n",
       " 'help',\n",
       " 'hex',\n",
       " 'id',\n",
       " 'input',\n",
       " 'int',\n",
       " 'isinstance',\n",
       " 'issubclass',\n",
       " 'iter',\n",
       " 'len',\n",
       " 'license',\n",
       " 'list',\n",
       " 'locals',\n",
       " 'map',\n",
       " 'max',\n",
       " 'memoryview',\n",
       " 'min',\n",
       " 'next',\n",
       " 'object',\n",
       " 'oct',\n",
       " 'open',\n",
       " 'ord',\n",
       " 'pow',\n",
       " 'print',\n",
       " 'property',\n",
       " 'range',\n",
       " 'repr',\n",
       " 'reversed',\n",
       " 'round',\n",
       " 'runfile',\n",
       " 'set',\n",
       " 'setattr',\n",
       " 'slice',\n",
       " 'sorted',\n",
       " 'staticmethod',\n",
       " 'str',\n",
       " 'sum',\n",
       " 'super',\n",
       " 'tuple',\n",
       " 'type',\n",
       " 'vars',\n",
       " 'zip']"
      ]
     },
     "execution_count": 2,
     "metadata": {},
     "output_type": "execute_result"
    }
   ],
   "source": [
    "#gömülü nesnelere __builtins__ module içerisnde yer alır. başta ve sonra 2 alt çizgi var.\n",
    "__builtins__ #module bu module python engine tarafından import edilmiş sayılır.\n",
    "\n",
    "#bir nesneye bağlı nesneleri görmek için dir komutu kullanabiliriz.\n",
    "dir(__builtins__) #bu listedeki nesneler kullanılabilir durumda.\n",
    "\n",
    "#print, dir, help, exit, int, float, bool, str, input, pow vs. gömülü nesnelerdir."
   ]
  },
  {
   "cell_type": "code",
   "execution_count": 3,
   "id": "811e6604",
   "metadata": {},
   "outputs": [
    {
     "name": "stdout",
     "output_type": "stream",
     "text": [
      "Help on built-in function pow in module builtins:\n",
      "\n",
      "pow(base, exp, mod=None)\n",
      "    Equivalent to base**exp with 2 arguments or base**exp % mod with 3 arguments\n",
      "    \n",
      "    Some types, such as ints, are able to use a more efficient algorithm when\n",
      "    invoked using the three argument form.\n",
      "\n"
     ]
    }
   ],
   "source": [
    "help(pow)"
   ]
  },
  {
   "cell_type": "code",
   "execution_count": 5,
   "id": "b1e53d8d",
   "metadata": {},
   "outputs": [
    {
     "data": {
      "text/plain": [
       "1.7320508075688772"
      ]
     },
     "execution_count": 5,
     "metadata": {},
     "output_type": "execute_result"
    }
   ],
   "source": [
    "pow(3,2) #3'ün karesi\n",
    "pow(3, 0.5) #kök aldık. sqrt gibi bir hazır gömülü fonksiyon."
   ]
  },
  {
   "cell_type": "markdown",
   "id": "381349fb",
   "metadata": {},
   "source": [
    "### Bilgisayarda Yüklü Olan Kütüphaneleir Çalışma Ortamına Almak"
   ]
  },
  {
   "cell_type": "code",
   "execution_count": 12,
   "id": "bbef441e",
   "metadata": {},
   "outputs": [
    {
     "data": {
      "text/plain": [
       "9.0"
      ]
     },
     "execution_count": 12,
     "metadata": {},
     "output_type": "execute_result"
    }
   ],
   "source": [
    "#standart kütüphaneleri pyton enigne yüklenince gelir.\n",
    "import math #çalışma ortamına alınıyor.\n",
    "\n",
    "#moduldeki nesneler hakkında bilgi alalım\n",
    "dir(math)\n",
    "#help(math)\n",
    "#help(math.pow) #math kütüphanesindeki pow fonksiyonuna erişiyoruz.\n",
    "\n",
    "#kütüphane içinde fonksiynlar veya değişkenler yer alır. (class vs.)\n",
    "#\n",
    "math.pi #değişken\n",
    "math.pow(3,2) #pow gömülü nesne ancaj math.pow math kütüphanesindeki nesnedir."
   ]
  },
  {
   "cell_type": "code",
   "execution_count": 19,
   "id": "ba476779",
   "metadata": {},
   "outputs": [
    {
     "name": "stdout",
     "output_type": "stream",
     "text": [
      "C:\\Users\\Abdullah\\Documents\\GitHub\\PythonEsaslari_20250217\\Gun1\n"
     ]
    }
   ],
   "source": [
    "import os #işletim sistem ilişkili işleri barındır.\n",
    "\n",
    "#\n",
    "os.makedirs(\"gordugundeSil\",exist_ok=True) #klasor oluşur varsa hata vermez.\n",
    "\n",
    "#! işareti ile cmd komutları notebook içerisnde çalıştırılabilir.\n",
    "!cd\n",
    "os.getcwd()\n",
    "\n",
    "#\n",
    "#!mkdir gordugundeSil2"
   ]
  },
  {
   "cell_type": "markdown",
   "id": "3f6ad5e4",
   "metadata": {},
   "source": [
    "### Paket indirmek ve çalışma ortamına almak"
   ]
  },
  {
   "cell_type": "code",
   "execution_count": 22,
   "id": "6bfc274f",
   "metadata": {},
   "outputs": [
    {
     "name": "stdout",
     "output_type": "stream",
     "text": [
      "Collecting emoji\n",
      "  Downloading emoji-2.14.1-py3-none-any.whl.metadata (5.7 kB)\n",
      "Downloading emoji-2.14.1-py3-none-any.whl (590 kB)\n",
      "   ---------------------------------------- 0.0/590.6 kB ? eta -:--:--\n",
      "   -- ------------------------------------ 30.7/590.6 kB 660.6 kB/s eta 0:00:01\n",
      "   ---- ---------------------------------- 61.4/590.6 kB 656.4 kB/s eta 0:00:01\n",
      "   ------- ------------------------------ 112.6/590.6 kB 819.2 kB/s eta 0:00:01\n",
      "   ----------- -------------------------- 174.1/590.6 kB 952.6 kB/s eta 0:00:01\n",
      "   ------------------ --------------------- 276.5/590.6 kB 1.2 MB/s eta 0:00:01\n",
      "   -------------------------- ------------- 389.1/590.6 kB 1.4 MB/s eta 0:00:01\n",
      "   --------------------------- ------------ 409.6/590.6 kB 1.5 MB/s eta 0:00:01\n",
      "   ---------------------------- ----------- 419.8/590.6 kB 1.1 MB/s eta 0:00:01\n",
      "   ---------------------------------------- 590.6/590.6 kB 1.5 MB/s eta 0:00:00\n",
      "Installing collected packages: emoji\n",
      "Successfully installed emoji-2.14.1\n"
     ]
    },
    {
     "name": "stderr",
     "output_type": "stream",
     "text": [
      "\n",
      "[notice] A new release of pip is available: 24.0 -> 25.0.1\n",
      "[notice] To update, run: python.exe -m pip install --upgrade pip\n"
     ]
    }
   ],
   "source": [
    "#öncelikle paketi python reposiyoryden indirelim\n",
    "#! ile notebook iöerisinde paket indiremeyelim. komut satırında yapmalım.\n",
    "#emoji paketini indir.\n",
    "!pip install emoji "
   ]
  },
  {
   "cell_type": "code",
   "execution_count": 28,
   "id": "e1d19f21",
   "metadata": {},
   "outputs": [
    {
     "name": "stdout",
     "output_type": "stream",
     "text": [
      "Python is fun ❤️\n"
     ]
    }
   ],
   "source": [
    "#emoji paketini çalışma ortamına alalm\n",
    "import emoji as em #takmaAd verdik\n",
    "\n",
    "#\n",
    "#dir(emoji) #module artık em ismiyle kullanılabilir.\n",
    "dir(em)\n",
    "\n",
    "#\n",
    "#help(em)\n",
    "#help(em.emojize)\n",
    "print(em.emojize(\"Python is fun :red_heart:\", variant=\"emoji_type\"))"
   ]
  }
 ],
 "metadata": {
  "kernelspec": {
   "display_name": "Python 3 (ipykernel)",
   "language": "python",
   "name": "python3"
  },
  "language_info": {
   "codemirror_mode": {
    "name": "ipython",
    "version": 3
   },
   "file_extension": ".py",
   "mimetype": "text/x-python",
   "name": "python",
   "nbconvert_exporter": "python",
   "pygments_lexer": "ipython3",
   "version": "3.11.3"
  },
  "toc": {
   "base_numbering": 1,
   "nav_menu": {},
   "number_sections": true,
   "sideBar": true,
   "skip_h1_title": false,
   "title_cell": "Table of Contents",
   "title_sidebar": "Contents",
   "toc_cell": false,
   "toc_position": {},
   "toc_section_display": true,
   "toc_window_display": false
  },
  "varInspector": {
   "cols": {
    "lenName": 16,
    "lenType": 16,
    "lenVar": 40
   },
   "kernels_config": {
    "python": {
     "delete_cmd_postfix": "",
     "delete_cmd_prefix": "del ",
     "library": "var_list.py",
     "varRefreshCmd": "print(var_dic_list())"
    },
    "r": {
     "delete_cmd_postfix": ") ",
     "delete_cmd_prefix": "rm(",
     "library": "var_list.r",
     "varRefreshCmd": "cat(var_dic_list()) "
    }
   },
   "types_to_exclude": [
    "module",
    "function",
    "builtin_function_or_method",
    "instance",
    "_Feature"
   ],
   "window_display": false
  }
 },
 "nbformat": 4,
 "nbformat_minor": 5
}
