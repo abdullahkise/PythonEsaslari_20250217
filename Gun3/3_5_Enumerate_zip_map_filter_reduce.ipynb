{
 "cells": [
  {
   "cell_type": "markdown",
   "metadata": {},
   "source": [
    "## Hatayı kolaylaştıran bazı fonksiyonlar\n",
    "![alt text](KullanisliFonksionlar.png)"
   ]
  },
  {
   "cell_type": "markdown",
   "metadata": {},
   "source": [
    "### Enumerate"
   ]
  },
  {
   "cell_type": "code",
   "execution_count": 6,
   "metadata": {},
   "outputs": [
    {
     "data": {
      "text/plain": [
       "[(1000, 'I'), (1001, 'L'), (1002, 'k'), (1003, 'B'), (1004, 'A'), (1005, 'K')]"
      ]
     },
     "execution_count": 6,
     "metadata": {},
     "output_type": "execute_result"
    }
   ],
   "source": [
    "s = set(\"KALABALIk\")\n",
    "s\n",
    "\n",
    "#\n",
    "enumerate(s, 1000) #s setini 100'dan başlayacak şekilde index numaraıları ile eşleştirdik. Geriey nesne döner.\n",
    "\n",
    "#dönen containerı list tipine çevirip bakalım\n",
    "list(enumerate(s, 1000)) #tuple halinde sıra numarası ve enumaretete belirtilen conatainer elemanı eşleşmiş şekilde geldi."
   ]
  },
  {
   "cell_type": "code",
   "execution_count": 9,
   "metadata": {},
   "outputs": [
    {
     "data": {
      "text/plain": [
       "'L'"
      ]
     },
     "execution_count": 9,
     "metadata": {},
     "output_type": "execute_result"
    }
   ],
   "source": [
    "#dict oluşturma yöntemini hatırlayalım\n",
    "#dict ikiler şeklinde gelenlerin ilkini key ikincisini value olarak kullanır\n",
    "dict(enumerate(s, 1000)) #{1000: 'I', 1001: 'L', 1002: 'k', 1003: 'B', 1004: 'A', 1005: 'K'}\n",
    "\n",
    "#\n",
    "dict(enumerate(s, 1000))[1001] #key verdik value çektik."
   ]
  },
  {
   "cell_type": "markdown",
   "metadata": {},
   "source": [
    "### Zip"
   ]
  },
  {
   "cell_type": "code",
   "execution_count": null,
   "metadata": {},
   "outputs": [
    {
     "name": "stdout",
     "output_type": "stream",
     "text": [
      " 32 : 39 \n",
      " 421 : 471 \n",
      " 435 : 415 \n",
      " 567 : 267 \n",
      " 67 : 67 \n"
     ]
    }
   ],
   "source": [
    "gercekDegerler = [32,421,435,567,67]\n",
    "tahminDegerler = [39,471,415,267,67]\n",
    "\n",
    "#32 : 39 şeklinde yazdıralım\n",
    "#1. yöntem\n",
    "'''\n",
    "for i in range(len(gercekDegerler)):\n",
    "    print(f\"{gercekDegerler[i]} : {tahminDegerler[i]}\")\n",
    "'''\n",
    "\n",
    "#2. yöntem zip ile\n",
    "for z in zip(gercekDegerler, tahminDegerler): #for z1,z2 in zip\n",
    "    #print(z) #tuple halinde aynı sıraki elemanlar eşleşiyor.\n",
    "    #print(f\"{z[0]} : {z[1]}\")\n",
    "\n",
    "    #\n",
    "    #print(\"{} : {}\".format(z[0],z[1]))\n",
    "    #print(\"{} : {}\".format(*z)) #*z ile z elemanlarını parametre olarak tek göndermiş olduk.\n",
    "    print(str.strip(\" {} :\"*len(z),\":\").format(*z))\n",
    "\n",
    "# aynı eleman miktarı kadar loop yapar."
   ]
  },
  {
   "cell_type": "markdown",
   "metadata": {},
   "source": [
    "### Map"
   ]
  },
  {
   "cell_type": "code",
   "execution_count": 33,
   "metadata": {},
   "outputs": [
    {
     "data": {
      "text/plain": [
       "1567.0"
      ]
     },
     "execution_count": 33,
     "metadata": {},
     "output_type": "execute_result"
    }
   ],
   "source": [
    "#örn:\n",
    "#metindeki sayıların toplamını getirsin\n",
    "str_sayilar = \"321;345;755;68;78\"\n",
    "\n",
    "#\n",
    "lst_sayilar = str_sayilar.split(\";\")\n",
    "\n",
    "#----------\n",
    "#1. list comprehension yöntemi\n",
    "sum([float(s) for s in lst_sayilar]) #her bir sayıyı float'a çevirdik. #ortaya çıkan listeyi sum ile topla\n",
    "\n",
    "#-----------------\n",
    "#2. map yöntemi\n",
    "fmap = map(float,lst_sayilar) #her bir elemanı float fonksiyonu gönderir. geriye bir map containeri döndür\n",
    "sum(fmap) #containeri toplamayalm\n",
    "\n",
    "# map listcomprehesion yöntemi ile taklit edilebilir."
   ]
  },
  {
   "cell_type": "code",
   "execution_count": 35,
   "metadata": {},
   "outputs": [
    {
     "data": {
      "text/plain": [
       "[385.2, 51.6, 64.8, 91.2, 104.39999999999999, 253.2]"
      ]
     },
     "execution_count": 35,
     "metadata": {},
     "output_type": "execute_result"
    }
   ],
   "source": [
    "#örn:\n",
    "#liste fiyatına KDV ekleyelim\n",
    "fiyatlar = [321,43,54,76,87,211]\n",
    "\n",
    "#\n",
    "#1.20 kdv ekleyelim.\n",
    "#1. list comp.\n",
    "[f*1.20 for f in fiyatlar]\n",
    "\n",
    "#-----------------\n",
    "#2. map ile\n",
    "list(\n",
    "        map(lambda f:f*1.20,fiyatlar) #lambda f:f*1.20 ile kdv ekledik\n",
    "    )"
   ]
  },
  {
   "cell_type": "code",
   "execution_count": 39,
   "metadata": {},
   "outputs": [
    {
     "data": {
      "text/plain": [
       "['metin', 2, 3]"
      ]
     },
     "execution_count": 39,
     "metadata": {},
     "output_type": "execute_result"
    }
   ],
   "source": [
    "#örn:\n",
    "#bir listedeki istediğimiz indexteki elemanları getirelim\n",
    "lst=[1,2,3,\"metin\",True,False]\n",
    "indexler = (3,1,2)\n",
    "\n",
    "#\n",
    "lst[0]\n",
    "lst.__getitem__(0) #aynı şey\n",
    "\n",
    "#\n",
    "list(\n",
    "        #map(lambda i:lst[i] , indexler)\n",
    "        map(lst.__getitem__ ,indexler)\n",
    "    )"
   ]
  },
  {
   "cell_type": "markdown",
   "metadata": {},
   "source": [
    "### Filter"
   ]
  },
  {
   "cell_type": "code",
   "execution_count": 44,
   "metadata": {},
   "outputs": [
    {
     "data": {
      "text/plain": [
       "['abdullahkise@hotmail.com']"
      ]
     },
     "execution_count": 44,
     "metadata": {},
     "output_type": "execute_result"
    }
   ],
   "source": [
    "lst = [\"metin\",\"abdullahkise@hotmail.com\", \"metin2\",\"****\",\"2132131\"]\n",
    "\n",
    "#\n",
    "#örn:\n",
    "#harflerden oluşanı getirelim.\n",
    "#1.list comp.\n",
    "[l for l in lst if l.isalpha()]\n",
    "\n",
    "#2. filter ile yapalım\n",
    "list(\n",
    "    filter( str.isalpha , lst)\n",
    ")\n",
    "\n",
    "#içerisinde @ geçenleri getirelim\n",
    "\n",
    "list(\n",
    "    filter( lambda l : \"@\" in l,lst)\n",
    ")\n",
    "#str.__contains__"
   ]
  },
  {
   "cell_type": "markdown",
   "metadata": {},
   "source": [
    "### Reduce"
   ]
  },
  {
   "cell_type": "code",
   "execution_count": 47,
   "metadata": {},
   "outputs": [
    {
     "data": {
      "text/plain": [
       "634"
      ]
     },
     "execution_count": 47,
     "metadata": {},
     "output_type": "execute_result"
    }
   ],
   "source": [
    "sayilar = [1,32,43,545,6,7]\n",
    "\n",
    "sum(sayilar)\n",
    "\n",
    "#\n",
    "#reduce gömülü fonksiyon değildir.\n",
    "from functools import reduce\n",
    "\n",
    "reduce( lambda x,y : x+y , sayilar)\n",
    "\n",
    "#ilk eleman x ikinci y olur. daha sonra fnk den çıkan değer x iterin bir sonraki elemanı y olur. \n",
    "#fnk tek bir değer döndürmelidir."
   ]
  },
  {
   "cell_type": "code",
   "execution_count": null,
   "metadata": {},
   "outputs": [
    {
     "data": {
      "text/plain": [
       "545"
      ]
     },
     "execution_count": 48,
     "metadata": {},
     "output_type": "execute_result"
    }
   ],
   "source": [
    "#soru:\n",
    "#sayılardan büyük olanı getirelim reduce kullanalım.\n",
    "sayilar = [1,32,43,545,6,7]\n",
    "\n",
    "#\n",
    "max(sayilar)\n",
    "\n",
    "#reduce"
   ]
  }
 ],
 "metadata": {
  "kernelspec": {
   "display_name": "Python 3",
   "language": "python",
   "name": "python3"
  },
  "language_info": {
   "codemirror_mode": {
    "name": "ipython",
    "version": 3
   },
   "file_extension": ".py",
   "mimetype": "text/x-python",
   "name": "python",
   "nbconvert_exporter": "python",
   "pygments_lexer": "ipython3",
   "version": "3.11.3"
  }
 },
 "nbformat": 4,
 "nbformat_minor": 2
}
