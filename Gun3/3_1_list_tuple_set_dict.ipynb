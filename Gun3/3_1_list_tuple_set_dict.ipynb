{
 "cells": [
  {
   "cell_type": "markdown",
   "metadata": {},
   "source": [
    "## List, Tuple, Set, Dict Tiplerine Yakından Bakalım"
   ]
  },
  {
   "cell_type": "markdown",
   "metadata": {},
   "source": [
    "![alt text](ListveTuple.png)"
   ]
  },
  {
   "cell_type": "markdown",
   "metadata": {},
   "source": [
    "### List\n",
    "![alt text](list.png)"
   ]
  },
  {
   "cell_type": "code",
   "execution_count": 2,
   "metadata": {},
   "outputs": [
    {
     "data": {
      "text/plain": [
       "[0, 1, 2, 3, 4, 5, 6, 7, 8, 9]"
      ]
     },
     "execution_count": 2,
     "metadata": {},
     "output_type": "execute_result"
    }
   ],
   "source": [
    "#boş list\n",
    "[]\n",
    "list()\n",
    "\n",
    "#\n",
    "[1,2,3,\"metin\",False,True,None, [], ()]\n",
    "\n",
    "#\n",
    "list(\"merhaba\") #tip dönüşümü #str containerdir.\n",
    "list(range(10)) #range 0-10 arasındaki sayıları tutan bir container"
   ]
  },
  {
   "cell_type": "code",
   "execution_count": 3,
   "metadata": {},
   "outputs": [
    {
     "data": {
      "text/plain": [
       "[1, 2, 3, 1, 2, 3, 1, 2, 3, 1, 2, 3, 1, 2, 3]"
      ]
     },
     "execution_count": 3,
     "metadata": {},
     "output_type": "execute_result"
    }
   ],
   "source": [
    "#+, -, / işlemi tanımlı değildir.\n",
    "# * işlemi tanımlıdır fakat elaman sayısını tekrarlar\n",
    "[1,2,3] * 5"
   ]
  },
  {
   "cell_type": "markdown",
   "metadata": {},
   "source": [
    "### Bazı Fonksiyonlar"
   ]
  },
  {
   "cell_type": "code",
   "execution_count": null,
   "metadata": {},
   "outputs": [
    {
     "data": {
      "text/plain": [
       "True"
      ]
     },
     "execution_count": 11,
     "metadata": {},
     "output_type": "execute_result"
    }
   ],
   "source": [
    "dir(list)\n",
    "\n",
    "#\n",
    "sayilar = [10,20,4,104,21,445]\n",
    "\n",
    "#\n",
    "len(sayilar) #containerların eleman sayısını verir.\n",
    "sayilar.__len__() #aynı şey. magict metot\n",
    "\n",
    "#\n",
    "min(sayilar)\n",
    "max(sayilar)\n",
    "sum(sayilar)\n",
    "sum(sayilar)/len(sayilar) #ortalama almak için\n",
    "\n",
    "#\n",
    "20 in sayilar #içinde var mı?\n",
    "sayilar.__contains__(20) #20 sayilar içinde var mı?\n"
   ]
  },
  {
   "cell_type": "code",
   "execution_count": null,
   "metadata": {},
   "outputs": [
    {
     "data": {
      "text/plain": [
       "[3, 4, 99, 2000, 2001, 3000]"
      ]
     },
     "execution_count": 26,
     "metadata": {},
     "output_type": "execute_result"
    }
   ],
   "source": [
    "x = [1,2,3,4] #liste atayım\n",
    "\n",
    "#\n",
    "x.append(99) #olduğu gibi tek eleman şeklinde ekler.\n",
    "x.append([1000,1001]) #tek eleman olarak ekler\n",
    "\n",
    "#\n",
    "x.extend([2000,2001]) #listeyi açarak ekler. genişletir.\n",
    "x += [3000,3001] #aynı şey\n",
    "\n",
    "#\n",
    "x.insert(0,-99) #0. indexe -99 ekle\n",
    "\n",
    "#\n",
    "x.remove(-99) #-99 sil\n",
    "x.remove([1000,1001]) #appendin tersidir.\n",
    "\n",
    "#\n",
    "x.pop() #son elemanı siler. ve geriye döndürür\n",
    "x.pop(0) #0. elemanı sil.\n",
    "del x[0] #0.elemanı siler.\n",
    "\n",
    "#sıralama\n",
    "x.sort(reverse=True) #tersten sıraladık\n",
    "x.reverse() #listeyi ters çevirir\n",
    "x[::-1] #step -1 ise tersten getirir.\n",
    "\n",
    "#\n",
    "x.clear() #listeyi temizleyelim\n",
    "x = [] #aynı şey\n",
    "\n",
    "#\n",
    "x"
   ]
  },
  {
   "cell_type": "markdown",
   "metadata": {},
   "source": [
    "### Tuple\n",
    "![alt text](Tuple.png)"
   ]
  },
  {
   "cell_type": "code",
   "execution_count": 28,
   "metadata": {},
   "outputs": [
    {
     "data": {
      "text/plain": [
       "('m', 'e', 'r', 'h', 'a', 'b', 'a')"
      ]
     },
     "execution_count": 28,
     "metadata": {},
     "output_type": "execute_result"
    }
   ],
   "source": [
    "dir(tuple)\n",
    "\n",
    "#boş tuple\n",
    "()\n",
    "tuple()\n",
    "\n",
    "#\n",
    "(1,2,3,\"metin\",True,False,None)\n",
    "1,2,3,\"metin\",True,False,None\n",
    "\n",
    "#\n",
    "tuple(\"merhaba\")"
   ]
  },
  {
   "cell_type": "code",
   "execution_count": 32,
   "metadata": {},
   "outputs": [
    {
     "data": {
      "text/plain": [
       "(0, 1, 2, 3, 'dört', 5, 6, 7)"
      ]
     },
     "execution_count": 32,
     "metadata": {},
     "output_type": "execute_result"
    }
   ],
   "source": [
    "t = 0,1,2,3,\"dört\"\n",
    "\n",
    "#\n",
    "t[4]\n",
    "\n",
    "#\n",
    "#t[4] = 4 #HATA tuple immutable olduğu için elemanları güncellenemez.\n",
    "\n",
    "#Normalde eleman eklenemez. Ancak magic metot ile dolaylı yoldan eklenebiliyor.\n",
    "t.__add__((5,6,7)) "
   ]
  },
  {
   "cell_type": "markdown",
   "metadata": {},
   "source": [
    "## Q&A"
   ]
  },
  {
   "cell_type": "code",
   "execution_count": 34,
   "metadata": {},
   "outputs": [
    {
     "data": {
      "text/plain": [
       "['Veli', 'Fatma', 'Ayle']"
      ]
     },
     "execution_count": 34,
     "metadata": {},
     "output_type": "execute_result"
    }
   ],
   "source": [
    "#soru:\n",
    "#bir listeden belirtilen indexlerdeki (birden fazla index) elmanları getiren kod parçası yazalım\n",
    "lst = [\"Ali\",\"Veli\",\"Ayle\",\"Fatma\", \"Hayriye\",\"Xman\"]\n",
    "indexler = (1,3,2) #bu indexlerdeki değerleri bir containerda tutalım.\n",
    "\n",
    "#1. yöntem\n",
    "lst_secilenler = []\n",
    "\n",
    "for i in indexler:\n",
    "    lst_secilenler.append(lst[i])\n",
    "\n",
    "\n",
    "#2. yöntem\n",
    "lst_secilenler  = [lst[i] for i in indexler]\n",
    "\n",
    "#\n",
    "lst_secilenler"
   ]
  },
  {
   "cell_type": "code",
   "execution_count": 42,
   "metadata": {},
   "outputs": [
    {
     "data": {
      "text/plain": [
       "'Kas'"
      ]
     },
     "execution_count": 42,
     "metadata": {},
     "output_type": "execute_result"
    }
   ],
   "source": [
    "#soru:\n",
    "#sıra numarası verilen ayı getirelim.\n",
    "aylar = 'OcaŞubMarNisMayHazTemAğuEylEkiKasAra'\n",
    "\n",
    "#\n",
    "kacinciAy = 11 #2. ay için Şub\n",
    "\n",
    "#\n",
    "aylar[0:3] #1.\n",
    "aylar[3:6] #2.\n",
    "aylar[6:9] #3.\n",
    "\n",
    "#\n",
    "start = (kacinciAy-1)*3\n",
    "stop = start + 3\n",
    "\n",
    "#\n",
    "aylar[start:stop]\n"
   ]
  },
  {
   "cell_type": "markdown",
   "metadata": {},
   "source": [
    "![alt text](SetDict.png)\n",
    "### Set"
   ]
  },
  {
   "cell_type": "code",
   "execution_count": 45,
   "metadata": {},
   "outputs": [
    {
     "data": {
      "text/plain": [
       "{'A', 'B', 'I', 'K', 'L'}"
      ]
     },
     "execution_count": 45,
     "metadata": {},
     "output_type": "execute_result"
    }
   ],
   "source": [
    "#boş\n",
    "set()\n",
    "\n",
    "#\n",
    "{0,1,2,3,\"metin\",False,True,\"metin\",None} #bezersiz şekilde tutar. 0, None veya benzeri yokluk ifade edenler False, diğleri True kabul edilir.\n",
    "#None da istisna oldu.\n",
    "\n",
    "#\n",
    "set(\"KALABALIK\") #sıralı garanti değildir."
   ]
  },
  {
   "cell_type": "code",
   "execution_count": 49,
   "metadata": {},
   "outputs": [
    {
     "data": {
      "text/plain": [
       "{1, 2, 3, 4, 5}"
      ]
     },
     "execution_count": 49,
     "metadata": {},
     "output_type": "execute_result"
    }
   ],
   "source": [
    "dir(set)\n",
    "\n",
    "#----\n",
    "a = {1,2,3,\"dört\"}\n",
    "b = {3,4,5,6}\n",
    "\n",
    "#\n",
    "a.add(5)\n",
    "\n",
    "#\n",
    "a.remove(\"dört\")\n",
    "\n",
    "#\n",
    "a.update([4,5]) #extend gibi açarak ekler\n",
    "\n",
    "a"
   ]
  },
  {
   "cell_type": "code",
   "execution_count": 57,
   "metadata": {},
   "outputs": [
    {
     "data": {
      "text/plain": [
       "True"
      ]
     },
     "execution_count": 57,
     "metadata": {},
     "output_type": "execute_result"
    }
   ],
   "source": [
    "#küme işlemleri\n",
    "#birleşim\n",
    "a.union(b)\n",
    "a | b #operator ile\n",
    "\n",
    "#kesişim\n",
    "a.intersection(b) #kesişim\n",
    "a&b\n",
    "\n",
    "#fark\n",
    "a.difference(b) #a fark b\n",
    "a-b\n",
    "\n",
    "#\n",
    "#-----------------\n",
    "c = a&b #a ile b ortakklar\n",
    "c #{3, 4, 5}\n",
    "#-----------------\n",
    "c.issubset(a) #c a'nın alt kümesi mi?\n",
    "c<=a\n",
    "\n",
    "#\n",
    "a.issuperset(c) #a c'nin üst kümesi iç\n",
    "a>=c\n"
   ]
  },
  {
   "cell_type": "markdown",
   "metadata": {},
   "source": [
    "![alt text](Dict.png)\n",
    "### Dict"
   ]
  },
  {
   "cell_type": "code",
   "execution_count": 58,
   "metadata": {},
   "outputs": [
    {
     "data": {
      "text/plain": [
       "{'Ad': 'Ali',\n",
       " 'Kardeşler': ('Veli', 'Ayşe', 'Fatma'),\n",
       " 'Ehliyetler': ['A', 'B', 'C'],\n",
       " 'Telefonlar': {'ev': '123-132', 'iş': ['321-541', '434-565']},\n",
       " (2025, 'maaş'): 4545.49}"
      ]
     },
     "execution_count": 58,
     "metadata": {},
     "output_type": "execute_result"
    }
   ],
   "source": [
    "personel = {\n",
    "            \"Ad\":\"Ali\",\n",
    "            \"Kardeşler\":(\"Veli\",\"Ayşe\",\"Fatma\"),\n",
    "            \"Ehliyetler\":[\"A\",\"B\",\"C\"],\n",
    "            \"Telefonlar\":{\"ev\":\"123-132\", \"iş\":[\"321-541\",\"434-565\"]},\n",
    "            (2025,\"maaş\"):4545.49\n",
    "}\n",
    "\n",
    "personel"
   ]
  },
  {
   "cell_type": "code",
   "execution_count": 61,
   "metadata": {},
   "outputs": [
    {
     "data": {
      "text/plain": [
       "'321-541'"
      ]
     },
     "execution_count": 61,
     "metadata": {},
     "output_type": "execute_result"
    }
   ],
   "source": [
    "personel[\"Telefonlar\"] #dict döner\n",
    "personel[\"Telefonlar\"][\"iş\"] #list döner\n",
    "personel[\"Telefonlar\"][\"iş\"][0] #ilk iş numarasını"
   ]
  },
  {
   "cell_type": "code",
   "execution_count": null,
   "metadata": {},
   "outputs": [
    {
     "data": {
      "text/plain": [
       "4545.49"
      ]
     },
     "execution_count": 87,
     "metadata": {},
     "output_type": "execute_result"
    }
   ],
   "source": [
    "personel[(2025,\"maaş\")] #tuple key olduğu için aynen kullanılır."
   ]
  },
  {
   "cell_type": "code",
   "execution_count": 65,
   "metadata": {},
   "outputs": [
    {
     "data": {
      "text/plain": [
       "dict_items([('Ad', 'Ali'), ('Kardeşler', ('Veli', 'Ayşe', 'Fatma')), ('Ehliyetler', ['A', 'B', 'C']), ('Telefonlar', {'ev': '123-132', 'iş': ['321-541', '434-565']}), ((2025, 'maaş'), 4545.49)])"
      ]
     },
     "execution_count": 65,
     "metadata": {},
     "output_type": "execute_result"
    }
   ],
   "source": [
    "personel.keys() #container döner\n",
    "personel.values()\n",
    "\n",
    "#\n",
    "personel.items() #(key, value) şeklinde tüm elemanlar container olarak gelir."
   ]
  },
  {
   "cell_type": "code",
   "execution_count": 81,
   "metadata": {},
   "outputs": [
    {
     "name": "stdout",
     "output_type": "stream",
     "text": [
      "Key: Ad ----> Value: Ali\n",
      "Key: Kardeşler ----> Value: ('Veli', 'Ayşe', 'Fatma')\n",
      "Key: Ehliyetler ----> Value: ['A', 'B', 'C']\n",
      "Key: Telefonlar ----> Value: {'ev': '123-132', 'iş': ['321-541', '434-565']}\n",
      "Key: (2025, 'maaş') ----> Value: 4545.49\n"
     ]
    }
   ],
   "source": [
    "'''\n",
    "for p in personel.items():\n",
    "    #print(p) #('Ad', 'Ali') sonra ('Kardeşler', ('Veli', 'Ayşe', 'Fatma'))\n",
    "    print(f\"Key: {p[0]} ----> Value: {p[1]}\")\n",
    "'''\n",
    "\n",
    "#\n",
    "'''\n",
    "k,v = (\"Ad\",\"Ali\") #unpack ediliyor.\n",
    "print(k,v)\n",
    "'''\n",
    "#\n",
    "for k,v in personel.items(): #iterasyondaki her iki için k ilk eleman v ikinci eleman olacak. #unpacking\n",
    "    print(f\"Key: {k} ----> Value: {v}\")\n"
   ]
  },
  {
   "cell_type": "markdown",
   "metadata": {},
   "source": [
    "![alt text](get.png)"
   ]
  },
  {
   "cell_type": "code",
   "execution_count": null,
   "metadata": {},
   "outputs": [
    {
     "data": {
      "text/plain": [
       "'Key yoktu'"
      ]
     },
     "execution_count": 86,
     "metadata": {},
     "output_type": "execute_result"
    }
   ],
   "source": [
    "#personel[\"olmayanKey\"] #HATA key olmadığında KeyError hatası verir.\n",
    "\n",
    "#\n",
    "personel.get(\"Ad\")\n",
    "personel.get(\"olmayanKey\") #None döner. Key yoksa hata vermez.\n",
    "\n",
    "#\n",
    "personel.get(\"olmayanKey\",\"Key yoktu\") #key olmadığında ikinci parametredeki değer gelir"
   ]
  },
  {
   "cell_type": "code",
   "execution_count": null,
   "metadata": {},
   "outputs": [
    {
     "data": {
      "text/plain": [
       "4545.49"
      ]
     },
     "execution_count": 92,
     "metadata": {},
     "output_type": "execute_result"
    }
   ],
   "source": [
    "#Soru:\n",
    "#Personel nesnesinin son keyine ait value nedir?\n",
    "list(personel.keys())[-1] #dict_keys containerinda index ile eleman çekemedik. liste tipine dönüştürelim.\n",
    "personel[list(personel.keys())[-1]]"
   ]
  }
 ],
 "metadata": {
  "kernelspec": {
   "display_name": "Python 3",
   "language": "python",
   "name": "python3"
  },
  "language_info": {
   "codemirror_mode": {
    "name": "ipython",
    "version": 3
   },
   "file_extension": ".py",
   "mimetype": "text/x-python",
   "name": "python",
   "nbconvert_exporter": "python",
   "pygments_lexer": "ipython3",
   "version": "3.11.3"
  }
 },
 "nbformat": 4,
 "nbformat_minor": 2
}
