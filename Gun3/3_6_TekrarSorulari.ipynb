{
 "cells": [
  {
   "cell_type": "code",
   "execution_count": 2,
   "metadata": {},
   "outputs": [
    {
     "data": {
      "text/plain": [
       "13"
      ]
     },
     "execution_count": 2,
     "metadata": {},
     "output_type": "execute_result"
    }
   ],
   "source": [
    "# Soru1:\n",
    "'''\n",
    "    Bir metin içerisindeki belirttiğimiz harfi saydıran bir kod parçası yazalım.\n",
    "'''\n",
    "metin = \"Python programlama dili, dünyada eğitim amacıyla en çok kullanılan programlama dillerinden biridir.\"\n",
    "harf = \"a\"\n",
    "\n",
    "\n",
    "#----\n",
    "metin.lower().count(\"a\") #count containerlarda eleman saydıran bir fonksiyon."
   ]
  },
  {
   "cell_type": "code",
   "execution_count": null,
   "metadata": {},
   "outputs": [
    {
     "name": "stdout",
     "output_type": "stream",
     "text": [
      "bolen=4\n",
      "sayilar={32, 1, 3, 4, 5, 6, 1321, 43, 16, 54}\n"
     ]
    },
    {
     "data": {
      "text/plain": [
       "{'toplam': 52, 'adet': 3, 'liste': [32, 4, 16]}"
      ]
     },
     "execution_count": 7,
     "metadata": {},
     "output_type": "execute_result"
    }
   ],
   "source": [
    "# Soru2:\n",
    "'''\n",
    "    Belirtilen sayılardan 3'e (istenen sayıya) tam bölünenlerin adedini, toplamını ve sayıların kendisini döndüren bir fonksiyon yazalım.\n",
    "'''\n",
    "#varsayılan değerli parametreler sınırsız sayıda değer alan parametrelerden önce olacak şekilde en sona yazılır.\n",
    "def fnk(bolen = 3,*sayilar):\n",
    "    sayilar = set(sayilar)\n",
    "\n",
    "    #\n",
    "    print(f\"{bolen=}\\n{sayilar=}\")\n",
    "\n",
    "    #\n",
    "    #1.list comprehension\n",
    "    kalansizBolunenler=[s for s in sayilar if s%bolen==0]\n",
    "\n",
    "    #2. filter\n",
    "    kalansizBolunenler = list(filter(lambda s:s%bolen==0, sayilar)) #liste olarak istiyordu\n",
    "\n",
    "    #\n",
    "    return {\n",
    "            \"toplam\":sum(kalansizBolunenler),\n",
    "            \"adet\":len(kalansizBolunenler),\n",
    "            \"liste\":kalansizBolunenler\n",
    "    }\n",
    "\n",
    "#--------------\n",
    "fnk(4,1,43,4,4,5,6,4,1321,3,54,16,32)"
   ]
  },
  {
   "cell_type": "code",
   "execution_count": 15,
   "metadata": {},
   "outputs": [
    {
     "data": {
      "text/plain": [
       "'78.54'"
      ]
     },
     "execution_count": 15,
     "metadata": {},
     "output_type": "execute_result"
    }
   ],
   "source": [
    "# Soru3:\n",
    "'''\n",
    "    Dışarıdan yarıçapı girilen dairenin alanını hesaplayan bir fonksiyon yazalım.\n",
    "    hata kontrollerini de yapalım.\n",
    "    Dairenin Alanı = pi * r^2\n",
    "'''\n",
    "\n",
    "import math\n",
    "from typing import Union #type hinting, fonksiyona tip bilgisi vermek için\n",
    "\n",
    "def daire_alan(r:Union[int, float]) -> Union[str, float]:\n",
    "    if not(isinstance(r, (int, float))):\n",
    "        return \"Yarı çap sayısal değer olmalı.\"\n",
    "    else:\n",
    "        if r<0:\n",
    "            return \"Yarı çap negatif olamaz.\"\n",
    "        else:\n",
    "            return math.pi * r**2 #pow, math.pow\n",
    "        \n",
    "#---------------\n",
    "daire_alan(4)\n",
    "\n",
    "#\n",
    "alan = daire_alan(5)\n",
    "\n",
    "#\n",
    "round(alan,2)  #numeric döner\n",
    "format(alan,\".2f\") #str\n",
    "f\"{alan:.2f}\" #str"
   ]
  },
  {
   "cell_type": "code",
   "execution_count": null,
   "metadata": {},
   "outputs": [
    {
     "data": {
      "text/plain": [
       "('snalubma', 'ambulans')"
      ]
     },
     "execution_count": 21,
     "metadata": {},
     "output_type": "execute_result"
    }
   ],
   "source": [
    "# Soru4:\n",
    "'''\n",
    "    Verilen metni alfabe dışındaki karekterlerden temizleyelim. Metni düz ve tersten veren bir fonksiyon yazalım\n",
    "'''\n",
    "\n",
    "def fnk_temizle(metin):\n",
    "    #1. list comp.\n",
    "    temizMetin = [m for m in metin if m.isalpha() or m.isspace()]\n",
    "\n",
    "    #--\n",
    "    #2.filter\n",
    "    temizMetin = list(filter(str.isalpha or str.isspace, metin))\n",
    "\n",
    "    #---------------------------\n",
    "    #liste elemanlarını birleştirelim.\n",
    "    temizMetin = \"\".join(temizMetin)\n",
    "\n",
    "    return temizMetin, temizMetin[::-1] #step -1 ile ters çevirebiliriz.\n",
    "    #temizMetin.reverse() orjinalini etiler.\n",
    "\n",
    "#\n",
    "#--------------------------------\n",
    "fnk_temizle(\"s23na?lu!bma\")"
   ]
  },
  {
   "cell_type": "code",
   "execution_count": null,
   "metadata": {},
   "outputs": [
    {
     "data": {
      "text/plain": [
       "'Thursday'"
      ]
     },
     "execution_count": 26,
     "metadata": {},
     "output_type": "execute_result"
    }
   ],
   "source": [
    "# soru5:\n",
    "'''\n",
    "    Dışarıdan girilen tarih. hangi güne ait.\n",
    "'''\n",
    "\n",
    "#from datetime import datetime #datetime paketi içerisindeki datetime modulunu import et. \n",
    "import datetime #datetime paketini impport edelim. datetime klasorundeki ___init__.py dosyasına bakılacak.\n",
    "\n",
    "#\n",
    "str_tarih = \"20/02/2025\" #input(\"Tarihi giriniz (GG/AA/YYYY): \")\n",
    "\n",
    "#\\ ile kodları bitirmedim aşağıdaki satırlardan devam edeceğimiz demiş oluyor.\n",
    "datetime.datetime \\\n",
    "        .strptime(str_tarih, \"%d/%m/%Y\") \\\n",
    "        .strftime(\"%A\")\n",
    "\n",
    "\n",
    "#veya () kullanılabilir\n",
    "(\n",
    "datetime.datetime \n",
    "        .strptime(str_tarih, \"%d/%m/%Y\") \n",
    "        .strftime(\"%A\")\n",
    ")"
   ]
  },
  {
   "cell_type": "code",
   "execution_count": null,
   "metadata": {},
   "outputs": [
    {
     "name": "stdout",
     "output_type": "stream",
     "text": [
      "ABCDEFGHIJKLMNOPQRSTUVWXYZ\n"
     ]
    },
    {
     "data": {
      "text/plain": [
       "'Abdullah'"
      ]
     },
     "execution_count": 44,
     "metadata": {},
     "output_type": "execute_result"
    }
   ],
   "source": [
    "# soru6: Sezar Şifrelemesi\n",
    "'''\n",
    "    chr(97) #ascii kod alır karakteri verir.\n",
    "    ord(\"a\") #karakter alır ascii kodu verir.\n",
    "    \n",
    "    kaydirmaMiktarı (anahtar)\n",
    "    temizMetin\n",
    "    sifreliMetin\n",
    "    \n",
    "    ord(\"a\") #97\n",
    "    ord(\"z\") #122\n",
    "    ord(\"A\") #65\n",
    "    ord(\"Z\") #90\n",
    "\n",
    "'''\n",
    "#alafabedki harfler\n",
    "print(\"\".join([chr(s) for s in range(65, 91)]))\n",
    "\n",
    "#-----------------------------\n",
    "def fnk_sezar(metin, anahtar = 3, sifrelensinMi=True):\n",
    "    sonuc = \"\"\n",
    "\n",
    "    #1. açık for\n",
    "    for m in metin:\n",
    "        sonuc+=chr(ord(m)+anahtar) if sifrelensinMi else chr(ord(m)-anahtar)\n",
    "\n",
    "    #2. list comp\n",
    "    sonuc=\"\".join([chr(ord(m)+anahtar) if sifrelensinMi else chr(ord(m)-anahtar) for m in metin])\n",
    "    \n",
    "    #3. map ile\n",
    "    sonuc = \"\".join(map(lambda m: chr(ord(m)+anahtar) if sifrelensinMi else chr(ord(m)-anahtar) , metin))\n",
    "\n",
    "    return sonuc\n",
    "\n",
    "#---------------------\n",
    "fnk_sezar(\"Abdullah\")\n",
    "fnk_sezar(\"Degxoodk\",sifrelensinMi=False)\n",
    "\n",
    "#\n",
    "fnk_sezar(\"Degxoodk\", 3, False) #doğru anahtar\n"
   ]
  },
  {
   "cell_type": "code",
   "execution_count": null,
   "metadata": {},
   "outputs": [
    {
     "data": {
      "text/plain": [
       "'Boy bilgisi float olmalıdır.'"
      ]
     },
     "execution_count": 48,
     "metadata": {},
     "output_type": "execute_result"
    }
   ],
   "source": [
    "# soru7: \n",
    "'''\n",
    "cm olarak girilen boy bilgisine bakılarak ideal kilo hesabı yapalım.\n",
    "Boy bilgisini floata dönüşecek mi diye kontrol edelim.\n",
    "idealkilo  = boy-100-(boy-150)/4\n",
    "'''\n",
    "#dışarıdan gelenler str'edir str olan float'a dönüşebilir mi?\n",
    "def isFloat(s):\n",
    "    try:\n",
    "        float(s)\n",
    "    except:\n",
    "        return False\n",
    "    else:\n",
    "        return True\n",
    "    \n",
    "#-----------------\n",
    "def fnk_ideal_kilo(cmBoy:float)->float:\n",
    "    \"\"\"\n",
    "        cm cinsinden boy bilgisi giriniz.\n",
    "\n",
    "        formul:\n",
    "        idealkilo  = boy-100-(boy-150)/4\n",
    "\n",
    "        Parametreler:\n",
    "        --------------------------------\n",
    "        cmBoy: cm cinsinden boyunuz\n",
    "        return: hesaplanana ideal kilo\n",
    "    \"\"\"\n",
    "\n",
    "    if isFloat(cmBoy):\n",
    "        cmBoy = float(cmBoy)\n",
    "\n",
    "        #\n",
    "        if not(50<=cmBoy<=300):\n",
    "            return \"Boy bilgisi 50-300 arasında olmalıdır.\"\n",
    "        \n",
    "        #her şey yolunda\n",
    "        idealkilo  = cmBoy-100-(cmBoy-150)/4\n",
    "        return idealkilo\n",
    "    \n",
    "    else:\n",
    "        #raise TypeError(\"Boy bilgisi float olmalıdır.\")\n",
    "        return \"Boy bilgisi float olmalıdır.\"\n",
    "\n",
    "#------------------------------\n",
    "fnk_ideal_kilo(175)\n",
    "fnk_ideal_kilo(\"175\")\n",
    "fnk_ideal_kilo(\"1.7.5\") #floata dönüşmez."
   ]
  },
  {
   "cell_type": "code",
   "execution_count": 61,
   "metadata": {},
   "outputs": [
    {
     "data": {
      "text/plain": [
       "'Plaka Mevcut Değil'"
      ]
     },
     "execution_count": 61,
     "metadata": {},
     "output_type": "execute_result"
    }
   ],
   "source": [
    "# soru8:\n",
    "'''\n",
    "    Aşağıdaki metni dict'e çevirelim. plaka kodu verildiğinde ili getiren fonksiyonu yazalım\n",
    "'''\n",
    "\n",
    "plakaKodlar = \"\"\"\n",
    "İstanbul 34\n",
    "Ankara 06\n",
    "\n",
    "Adana 01\n",
    "Çorum 19\n",
    "Sakarya 54\n",
    "\"\"\"\n",
    "\n",
    "#-----------------\n",
    "plakaKodlar.split() #whitespace göre parçalama yapar. hem alt satır hem boşluk için\n",
    "plakaKodlar.split(\"\\n\") #satır sonu\n",
    "plakaKodlar.splitlines() #newline karakterlerine göre 13 karakter var.\n",
    "#----------------------------------\n",
    "\n",
    "#\n",
    "'''\n",
    "[p for p in plakaKodlar.splitlines() if p] #boş strler False olarak değerlendirilir.\n",
    "list(filter(bool,plakaKodlar.splitlines())) #aynı şey. boş olan bool('') False üretir.\n",
    "'''\n",
    "#---\n",
    "#dictler gelen ikililerin ilki key ikincisi valu olarak kullanır.\n",
    "#-----------------\n",
    "def fnk_plaka_getir(plaka:str)->str:\n",
    "    veriPlaka = [p.split()[::-1] for p in filter(bool,plakaKodlar.splitlines())]\n",
    "    dictPlaka = dict(veriPlaka)\n",
    "\n",
    "    return dictPlaka.get(plaka,\"Plaka Mevcut Değil\")\n",
    "\n",
    "#---------------------\n",
    "fnk_plaka_getir(\"34\")\n",
    "fnk_plaka_getir(\"340\")"
   ]
  },
  {
   "cell_type": "code",
   "execution_count": null,
   "metadata": {},
   "outputs": [
    {
     "data": {
      "text/plain": [
       "{3, 4, 6}"
      ]
     },
     "execution_count": 65,
     "metadata": {},
     "output_type": "execute_result"
    }
   ],
   "source": [
    "# Soru 9:\n",
    "# fonksiyona verilen sayılardan sadece tekrar edenleri bulalım.\n",
    "def tekrarliSayilar(*sayilar):\n",
    "    tekrarEdenler = []\n",
    "\n",
    "    #1.yöntem\n",
    "    for s in sayilar:\n",
    "        if sayilar.count(s)>1:\n",
    "            tekrarEdenler.append(s)\n",
    "    \n",
    "    #2. yöntem\n",
    "    filter(lambda s: sayilar.count(s)>1, sayilar)\n",
    "    return set(tekrarEdenler)\n",
    "\n",
    "#---------------\n",
    "tekrarliSayilar(1,2,3,4,3,3,3,4,5,6,6,78,9)"
   ]
  },
  {
   "cell_type": "code",
   "execution_count": 72,
   "metadata": {},
   "outputs": [
    {
     "data": {
      "text/plain": [
       "[3, 5, 6, 9, 10]"
      ]
     },
     "execution_count": 72,
     "metadata": {},
     "output_type": "execute_result"
    }
   ],
   "source": [
    "# Soru 10:\n",
    "# bir listedeki sayılara bakıp, 1-10 arasındaki sayılardan hangileri eksikmiş bulalım.\n",
    "def fnk_eksikSayilar(lst: list) -> list:\n",
    "    #1. ymntem\n",
    "    sonuc= [r for r in range(1,11) if r not in lst] #lst.__contains__()\n",
    "\n",
    "    #2.yöntem\n",
    "    sonuc = list(filter(lambda r:r not in lst,range(1,11))) #lambda r:r not in lst\n",
    "\n",
    "    #\n",
    "    return sonuc\n",
    "\n",
    "#---------\n",
    "fnk_eksikSayilar([1,2,4,7,8,0,0,5445,65,76])"
   ]
  },
  {
   "cell_type": "code",
   "execution_count": 79,
   "metadata": {},
   "outputs": [
    {
     "data": {
      "text/plain": [
       "'programlama'"
      ]
     },
     "execution_count": 79,
     "metadata": {},
     "output_type": "execute_result"
    }
   ],
   "source": [
    "#soru 11:\n",
    "# Bir cümledeki en uzun kelimeyi getiren fonksiyonu yazalım.\n",
    "cumle = \"Python programlama dili oldukça popüler bir dil haline geldi.\"\n",
    "\n",
    "#\n",
    "lst_kelimeler = cumle.split()\n",
    "\n",
    "#1.\n",
    "max(lst_kelimeler)\n",
    "\n",
    "#2.\n",
    "lst_kelimeler.sort(key=len) #sıralama fonksiyonu belirtilebilir. mesela içinde geçen a sayına göre sırala diyebilir.\n",
    "lst_kelimeler[-1]\n",
    "\n",
    "#3.\n",
    "from functools import reduce\n",
    "reduce(lambda x,y: x if len(x)>len(y) else y , lst_kelimeler)"
   ]
  }
 ],
 "metadata": {
  "kernelspec": {
   "display_name": "Python 3",
   "language": "python",
   "name": "python3"
  },
  "language_info": {
   "codemirror_mode": {
    "name": "ipython",
    "version": 3
   },
   "file_extension": ".py",
   "mimetype": "text/x-python",
   "name": "python",
   "nbconvert_exporter": "python",
   "pygments_lexer": "ipython3",
   "version": "3.11.3"
  }
 },
 "nbformat": 4,
 "nbformat_minor": 2
}
