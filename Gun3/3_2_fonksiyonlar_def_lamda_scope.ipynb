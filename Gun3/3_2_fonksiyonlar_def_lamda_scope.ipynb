{
 "cells": [
  {
   "cell_type": "markdown",
   "metadata": {},
   "source": [
    "## Fonksiyonlar\n",
    "![alt text](Fonksiyonlar.png)"
   ]
  },
  {
   "cell_type": "markdown",
   "metadata": {},
   "source": [
    "### Fonksiyon Tanımlama ve Help"
   ]
  },
  {
   "cell_type": "code",
   "execution_count": 15,
   "metadata": {},
   "outputs": [
    {
     "data": {
      "text/plain": [
       "'20 C = 68.0 F'"
      ]
     },
     "execution_count": 15,
     "metadata": {},
     "output_type": "execute_result"
    }
   ],
   "source": [
    "# Bu metin fonksiyonun helpinde görünür.\n",
    "def c2f(c_sicaklik):\n",
    "    \"\"\"\n",
    "        Bu fonksiyon C sıcaklık alır F sıcaklık hesaplar.\n",
    "\n",
    "        Parametreler:\n",
    "        -------------------------------------\n",
    "        c_sicaklik: float tipinden C cinsinden sıcaklıklıktır.\n",
    "        return : str tipinden F cinsinden sıcaklıktır.\n",
    "\n",
    "    \"\"\"\n",
    "    f_sicaklik = c_sicaklik * 1.8 + 32\n",
    "\n",
    "    return f\"{c_sicaklik} C = {f_sicaklik} F\"\n",
    "\n",
    "\n",
    "#----------------\n",
    "#-----------------\n",
    "c2f #<function __main__.c2f(c_sicaklik)> #bu şkeilde nesne olarak işaret ettik.\n",
    "c2f(10) #() ile fonksiyonu çalıştırdık\n",
    "\n",
    "#return edilen değeri bir değişkende tutalım.\n",
    "sonuc = c2f(20)\n",
    "sonuc"
   ]
  },
  {
   "cell_type": "code",
   "execution_count": 16,
   "metadata": {},
   "outputs": [
    {
     "name": "stdout",
     "output_type": "stream",
     "text": [
      "Help on function c2f in module __main__:\n",
      "\n",
      "c2f(c_sicaklik)\n",
      "    Bu fonksiyon C sıcaklık alır F sıcaklık hesaplar.\n",
      "    \n",
      "    Parametreler:\n",
      "    -------------------------------------\n",
      "    c_sicaklik: float tipinden C cinsinden sıcaklıklıktır.\n",
      "    return : str tipinden F cinsinden sıcaklıktır.\n",
      "\n"
     ]
    }
   ],
   "source": [
    "'''\n",
    "    Help eklemek için yöntemler.\n",
    "    1. tanımın üzerindeki yorum satırları helpte görünür.\n",
    "    2. Başlığın altıdaki metin veya yorum satırı helpte görünür.\n",
    "    3.__doc__ ile fonksiyona docstring ekleyebiliriz.\n",
    "\n",
    "'''\n",
    "help(c2f)"
   ]
  },
  {
   "cell_type": "code",
   "execution_count": 17,
   "metadata": {},
   "outputs": [
    {
     "name": "stdout",
     "output_type": "stream",
     "text": [
      "Help on function c2f in module __main__:\n",
      "\n",
      "c2f(c_sicaklik)\n",
      "            Bu fonksiyon C sıcaklık alır F sıcaklık hesaplar.\n",
      "    \n",
      "            Parametreler:\n",
      "            -------------------------------------\n",
      "            c_sicaklik: float tipinden C cinsinden sıcaklıklıktır.\n",
      "            return : str tipinden F cinsinden sıcaklıktır.\n",
      "    \n",
      "        \n",
      "    Bu metin __doc__ ile eklenmiştir.\n",
      "\n"
     ]
    }
   ],
   "source": [
    "c2f.__doc__\n",
    "#print(c2f.__doc__)\n",
    "\n",
    "#\n",
    "c2f.__doc__ += \"\\nBu metin __doc__ ile eklenmiştir.\"\n",
    "\n",
    "#\n",
    "help(c2f)"
   ]
  },
  {
   "cell_type": "code",
   "execution_count": 20,
   "metadata": {},
   "outputs": [
    {
     "data": {
      "text/plain": [
       "'Orta düzeyde zayıf'"
      ]
     },
     "execution_count": 20,
     "metadata": {},
     "output_type": "execute_result"
    }
   ],
   "source": [
    "#örn:\n",
    "#beden kitle indexi üzerinden obezite seviyesini hesaplayalım\n",
    "\n",
    "def obeziteSeviyesi(kilo, boy):\n",
    "    \"\"\"\n",
    "        Beden kitle indexi üzerinden obeziste seviyesini hesaplar:\n",
    "\n",
    "        Parametreler:\n",
    "        ---------------------\n",
    "        kilo: kg cinsinden kilonuz\n",
    "        boy: m cinsinden boyunuz\n",
    "    \"\"\"\n",
    "\n",
    "    bki = kilo/boy**2\n",
    "\n",
    "    #\n",
    "    if bki>=40:\n",
    "        return \"3. Derece Obez\"\n",
    "    elif bki>=35:\n",
    "        return \"2. Derece Obez\"\n",
    "    elif bki>=25:\n",
    "        return \"1. Derece Obez\"\n",
    "    elif bki>=18.5:\n",
    "        return \"Normal\"\n",
    "    elif bki>=17:\n",
    "        return \"Hafif düzeyde zayıf\"\n",
    "    elif bki>=16:\n",
    "        return \"Orta düzeyde zayıf\"\n",
    "    else:\n",
    "        return \"Ağur düzeyde zayıf\"\n",
    "    \n",
    "#--------------------------\n",
    "obeziteSeviyesi(70, 1.75) #parametreleri tanımlama sırasına göre yazmalıyız.\n",
    "obeziteSeviyesi(boy = 1.90, kilo = 60) #parametre adlarını yazabiliriz. Sıra gözetmeye gerek kalmaz."
   ]
  },
  {
   "cell_type": "markdown",
   "metadata": {},
   "source": [
    "![alt text](FonksiyonParametreleri.png)\n",
    "### Fonksiyon Paramtreleri"
   ]
  },
  {
   "cell_type": "markdown",
   "metadata": {},
   "source": [
    "#### Varsayılan Değerli Parametreler"
   ]
  },
  {
   "cell_type": "code",
   "execution_count": 21,
   "metadata": {},
   "outputs": [],
   "source": [
    "#parametreler = le varsayılan değer alabilir.\n",
    "#varsayılan değerli parametre sonda tanımlanır.\n",
    "def fnk_varsayilanDegerli(p1, p2=\"varsayılan değer\"):\n",
    "    print(f\"{p1=}\")\n",
    "    print(f\"{p2=}\")"
   ]
  },
  {
   "cell_type": "code",
   "execution_count": 24,
   "metadata": {},
   "outputs": [
    {
     "name": "stdout",
     "output_type": "stream",
     "text": [
      "p1='Ali'\n",
      "p2='varsayılan değer'\n"
     ]
    }
   ],
   "source": [
    "#fnk_varsayilanDegerli(\"Ali\",\"Veli\")\n",
    "#fnk_varsayilanDegerli(\"Ali\") #p2'ye değer verilmediği için varsayılan değeri almış kabul edilir.\n",
    "\n",
    "#\n",
    "fnk_varsayilanDegerli(p1=\"Ali\")"
   ]
  },
  {
   "cell_type": "markdown",
   "metadata": {},
   "source": [
    "#### Sınırsız Sayıda Değer Alan Parametreler"
   ]
  },
  {
   "cell_type": "code",
   "execution_count": 25,
   "metadata": {},
   "outputs": [],
   "source": [
    "# * ile tanımlanan parametreler sınırsız sayıda değer alır. İçeride tuple olarak temsil edilir.\n",
    "# ** ile tanımlı parametreler sınırsa sayıda key:value şeklinde değer alır ve içeride dict olarak temsil edilir.\n",
    "def fnk_sinirsizDegerli(*sinirsizValue, **sinirsizKeyValue):\n",
    "    print(f\"{sinirsizValue=}\")\n",
    "    print(f\"{sinirsizKeyValue=}\")"
   ]
  },
  {
   "cell_type": "code",
   "execution_count": null,
   "metadata": {},
   "outputs": [
    {
     "name": "stdout",
     "output_type": "stream",
     "text": [
      "sinirsizValue=(1, 2, 3)\n",
      "sinirsizKeyValue={'ad': 'Ali', 'soyad': 'Uçan'}\n"
     ]
    }
   ],
   "source": [
    "#fnk_sinirsizDegerli(1,2,3,\"Ali\",\"Uçan\") #tüm değerler *sinirsizValue parametresine atandı.\n",
    "fnk_sinirsizDegerli(1,2,3, ad=\"Ali\",soyad=\"Uçan\") #key=value şeklinde değer gönderirsem **sinirsizKeyValue parametreye atanacak"
   ]
  },
  {
   "cell_type": "markdown",
   "metadata": {},
   "source": [
    "#### Parametre veya değişken tipinin belirtilmesi (modifier)\n",
    "* Bu yöntem kullanıcıyı bilgilendirme amaçlıdır. Tip güvenliği sağlamaz.\n",
    "* Helpte ve Intellisense de kullanıcı nasıl tipte veri gireceğini görebiliriz. Ancak zorlama olmaz.\n",
    "* Python Dynamc Type Özelliğie sahip olduğu için tip kontrolü developera aittir. \n",
    "  * type() veya isinstance() fonksiyonu ile tip kontrolü yapılabilir."
   ]
  },
  {
   "cell_type": "code",
   "execution_count": 29,
   "metadata": {},
   "outputs": [],
   "source": [
    "#Değişkenlerde\n",
    "yas = 10  #int\n",
    "yas:int = 10 #modifer ekledik. bilgi amaçlı"
   ]
  },
  {
   "cell_type": "code",
   "execution_count": 37,
   "metadata": {},
   "outputs": [],
   "source": [
    "#örn:\n",
    "#dict ve str alsın geriye str dönsün\n",
    "def fnk_dictKeyVerStrDondur(yourDict: dict, yourKey: str) -> str:\n",
    "\n",
    "    if not(type(yourDict)==dict and type(yourKey)==str):\n",
    "        #raise TypeError(\"Parametreler uygun tipte değil.\")\n",
    "        return \"Hatalı parametre tipleri girdiniz.\"\n",
    "\n",
    "    #return yourDict.get(yourKey,\"Key Bulunamadı\")\n",
    "    if yourDict.get(yourKey): #None dönerse False olarak algılarnır.\n",
    "        return yourDict[yourKey]\n",
    "    else:\n",
    "        return \"Key bulunamadı.\""
   ]
  },
  {
   "cell_type": "code",
   "execution_count": 38,
   "metadata": {},
   "outputs": [
    {
     "data": {
      "text/plain": [
       "'Hatalı parametre tipleri girdiniz.'"
      ]
     },
     "execution_count": 38,
     "metadata": {},
     "output_type": "execute_result"
    }
   ],
   "source": [
    "dict_tel = {\"ev\":\"123-421\", \"iş\":[\"321-54321\",\"532-543\"]}\n",
    "\n",
    "#\n",
    "#fnk_dictKeyVerStrDondur(\"321\",\"321321\") #HATA\n",
    "\n",
    "#\n",
    "fnk_dictKeyVerStrDondur(dict_tel, \"ev\")\n",
    "fnk_dictKeyVerStrDondur(dict_tel, \"olmayanKey\")\n",
    "\n",
    "#\n",
    "fnk_dictKeyVerStrDondur(\"321\",\"321321\") #tip kontrolü developerdadır."
   ]
  },
  {
   "cell_type": "code",
   "execution_count": null,
   "metadata": {},
   "outputs": [
    {
     "data": {
      "text/plain": [
       "{'Bolunenler': [4], 'Toplam': 4, 'Ortalama': 4.0, 'Adet': 1}"
      ]
     },
     "execution_count": 43,
     "metadata": {},
     "output_type": "execute_result"
    }
   ],
   "source": [
    "#Soru:\n",
    "#Verilen sınırsız sayılardan 4'e tam bölünenlerin adedini, toplamını, ortalamasını ve bu tam bölünen sayıları getiren bir fonksiyon yazalım.\n",
    "def ozelHesap(*sayilar):\n",
    "    lst_kalansiz = []\n",
    "\n",
    "    for s in set(sayilar): #tekilleştirelim.\n",
    "        if isinstance(s, int):#type(s)==int\n",
    "            if s%4==0:\n",
    "                lst_kalansiz.append(s)\n",
    "\n",
    "    #\n",
    "    return {\n",
    "            \"Bolunenler\":lst_kalansiz,\n",
    "            \"Toplam\":sum(lst_kalansiz),\n",
    "            \"Ortalama\":sum(lst_kalansiz)/len(lst_kalansiz),\n",
    "            \"Adet\":len(lst_kalansiz)\n",
    "    }\n",
    "\n",
    "#----------------------\n",
    "#ozelHesap(1,332,43,5,65,76,878,99,454,3,32,232,232)\n",
    "ozelHesap(13,4,5,6,7,\"123\",\"dsada\")"
   ]
  },
  {
   "cell_type": "markdown",
   "metadata": {},
   "source": [
    "### İç içe Fonksiyonlar\n",
    "* Fonksiyon içinde fonksiyon tanımlabilir.\n",
    "* Bir fonksiyon geriye başka bir fonksiyonu return edebilir."
   ]
  },
  {
   "cell_type": "code",
   "execution_count": 45,
   "metadata": {},
   "outputs": [],
   "source": [
    "def uyeKayit(ad,yas):\n",
    "    print(\"Kayıt işlemi başlatılıyor...\")\n",
    "\n",
    "    #\n",
    "    def cocukKayit(adet):\n",
    "        print(f\"{adet} çocuk için kayıt alınmıştır.\")\n",
    "\n",
    "    def yetiskinKayit(adet):\n",
    "        print(f\"{adet} yetişkin için kayıt alınmıştır.\")\n",
    "\n",
    "    #---\n",
    "    if yas<18:\n",
    "        return cocukKayit #() ile fonksiyon çalışır. Biz fonksiyonu nesne olarak işaret ediyoruz.\n",
    "    else:\n",
    "        return yetiskinKayit"
   ]
  },
  {
   "cell_type": "code",
   "execution_count": null,
   "metadata": {},
   "outputs": [
    {
     "name": "stdout",
     "output_type": "stream",
     "text": [
      "Kayıt işlemi başlatılıyor...\n",
      "5 çocuk için kayıt alınmıştır.\n",
      "Kayıt işlemi başlatılıyor...\n",
      "60 yetişkin için kayıt alınmıştır.\n"
     ]
    }
   ],
   "source": [
    "#type(uyeKayit(\"Ali\",10)) #function dondu\n",
    "\n",
    "#\n",
    "fnk = uyeKayit(\"Ali\",10)\n",
    "fnk(5)\n",
    "\n",
    "#\n",
    "uyeKayit(\"Ali\",30)(60) #return ile dönen iç fonksiyonu () ile çalıştırdık"
   ]
  },
  {
   "cell_type": "markdown",
   "metadata": {},
   "source": [
    "### Recursive Fonksiyonlar\n",
    "* Kendilerini çağıran fonksiyonlar\n",
    "* Özellikle deirinliği belli olmayan hiyerarşilerde gezinmek için sık sık kullanılır."
   ]
  },
  {
   "cell_type": "code",
   "execution_count": 53,
   "metadata": {},
   "outputs": [],
   "source": [
    "# faktoriyel hesabi\n",
    "# 4! = 4*3*2*1! = 24\n",
    "# özel durumlar 1! = 0! = 1 'dir. Matematiksel kabul\n",
    "# Bir döngü (fonksiyon kendisini çağıracak) olacak ve döngoden çıkış şart olacak.\n",
    "\n",
    "#örn.\n",
    "def faktoriyel(n):\n",
    "    if n in [0,1]: #n == 1 or n==0:\n",
    "        return 1 #çıkış şartı\n",
    "    else:\n",
    "        return n*faktoriyel(n-1) #kendini sürekli n-1 ile çağırır."
   ]
  },
  {
   "cell_type": "code",
   "execution_count": 60,
   "metadata": {},
   "outputs": [
    {
     "data": {
      "text/plain": [
       "'265,252,859,812,191,058,636,308,480,000,000'"
      ]
     },
     "execution_count": 60,
     "metadata": {},
     "output_type": "execute_result"
    }
   ],
   "source": [
    "faktoriyel(10)\n",
    "\n",
    "#format fonksiyonu ile metin üretelim\n",
    "format(faktoriyel(30) , \",\")"
   ]
  },
  {
   "cell_type": "markdown",
   "metadata": {},
   "source": [
    "### Scope Kavramı\n",
    "![alt text](FunctionScopeKavrami.png)"
   ]
  },
  {
   "cell_type": "code",
   "execution_count": 68,
   "metadata": {},
   "outputs": [
    {
     "name": "stdout",
     "output_type": "stream",
     "text": [
      "localdeki x:  iç\n",
      "locals ile localdeki x:  iç\n",
      "globals ile globaldeki x:  dış\n"
     ]
    },
    {
     "data": {
      "text/plain": [
       "'fnk içinde global keywordu ile tanınlı değişken.'"
      ]
     },
     "execution_count": 68,
     "metadata": {},
     "output_type": "execute_result"
    }
   ],
   "source": [
    "#global\n",
    "x = \"dış\"\n",
    "\n",
    "def fnk():\n",
    "    #local\n",
    "    #print(x)\n",
    "    # localde bir x tanımlı değilse globaldeki x kullanılır.\n",
    "    # localde x tanımlı ise ancak tanımlandıktan sonra kullanılabilir. Aksi halde hata verir.\n",
    "\n",
    "    #---------\n",
    "    x = \"iç\"\n",
    "    #print(x)\n",
    "    #----------\n",
    "\n",
    "    #localdeki ve globaldeki değerlere ayrı ayrı ulaşabilir miyiz?\n",
    "    print(\"localdeki x: \",x)\n",
    "\n",
    "    #fonksiyon yardımıyla\n",
    "    print(\"locals ile localdeki x: \",locals()[\"x\"])\n",
    "    print(\"globals ile globaldeki x: \",globals()[\"x\"])\n",
    "\n",
    "    #-----------------------\n",
    "    #localde tanımlı bir degiskeni globalde kullanabilmek için global keywordu ile tanımlamak gerekir. tanımladıktan sonra değer atamalıyız.\n",
    "    global localdeTanimliGlobaldenErisilebilir\n",
    "    #tanımladıktan sonra değer atayalım.\n",
    "    localdeTanimliGlobaldenErisilebilir = \"fnk içinde global keywordu ile tanınlı değişken.\" \n",
    "\n",
    "#-----------------\n",
    "fnk()\n",
    "\n",
    "#\n",
    "localdeTanimliGlobaldenErisilebilir"
   ]
  },
  {
   "cell_type": "markdown",
   "metadata": {},
   "source": [
    "### Lambda Fonksiyonlar\n",
    "![alt text](lambda.png)"
   ]
  },
  {
   "cell_type": "code",
   "execution_count": 69,
   "metadata": {},
   "outputs": [
    {
     "data": {
      "text/plain": [
       "50.0"
      ]
     },
     "execution_count": 69,
     "metadata": {},
     "output_type": "execute_result"
    }
   ],
   "source": [
    "#klasik fonksiyon\n",
    "def c2f(c):\n",
    "    return 1.8*c+32\n",
    "\n",
    "#lambda ile\n",
    "c2f = lambda c : 1.8*c+32\n",
    "\n",
    "#\n",
    "c2f(10)"
   ]
  },
  {
   "cell_type": "code",
   "execution_count": null,
   "metadata": {},
   "outputs": [
    {
     "data": {
      "text/plain": [
       "50.0"
      ]
     },
     "execution_count": 71,
     "metadata": {},
     "output_type": "execute_result"
    }
   ],
   "source": [
    "(lambda c : 1.8*c+32) #function\n",
    "(lambda c : 1.8*c+32) (10) #çalıştırabiliriz () ile"
   ]
  }
 ],
 "metadata": {
  "kernelspec": {
   "display_name": "Python 3",
   "language": "python",
   "name": "python3"
  },
  "language_info": {
   "codemirror_mode": {
    "name": "ipython",
    "version": 3
   },
   "file_extension": ".py",
   "mimetype": "text/x-python",
   "name": "python",
   "nbconvert_exporter": "python",
   "pygments_lexer": "ipython3",
   "version": "3.11.3"
  }
 },
 "nbformat": 4,
 "nbformat_minor": 2
}
