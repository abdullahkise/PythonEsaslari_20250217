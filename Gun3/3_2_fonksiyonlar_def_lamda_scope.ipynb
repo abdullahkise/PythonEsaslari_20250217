{
 "cells": [
  {
   "cell_type": "markdown",
   "metadata": {},
   "source": [
    "## Fonksiyonlar\n",
    "![alt text](Fonksiyonlar.png)"
   ]
  },
  {
   "cell_type": "markdown",
   "metadata": {},
   "source": [
    "### Fonksiyon Tanımlama ve Help"
   ]
  },
  {
   "cell_type": "code",
   "execution_count": 15,
   "metadata": {},
   "outputs": [
    {
     "data": {
      "text/plain": [
       "'20 C = 68.0 F'"
      ]
     },
     "execution_count": 15,
     "metadata": {},
     "output_type": "execute_result"
    }
   ],
   "source": [
    "# Bu metin fonksiyonun helpinde görünür.\n",
    "def c2f(c_sicaklik):\n",
    "    \"\"\"\n",
    "        Bu fonksiyon C sıcaklık alır F sıcaklık hesaplar.\n",
    "\n",
    "        Parametreler:\n",
    "        -------------------------------------\n",
    "        c_sicaklik: float tipinden C cinsinden sıcaklıklıktır.\n",
    "        return : str tipinden F cinsinden sıcaklıktır.\n",
    "\n",
    "    \"\"\"\n",
    "    f_sicaklik = c_sicaklik * 1.8 + 32\n",
    "\n",
    "    return f\"{c_sicaklik} C = {f_sicaklik} F\"\n",
    "\n",
    "\n",
    "#----------------\n",
    "#-----------------\n",
    "c2f #<function __main__.c2f(c_sicaklik)> #bu şkeilde nesne olarak işaret ettik.\n",
    "c2f(10) #() ile fonksiyonu çalıştırdık\n",
    "\n",
    "#return edilen değeri bir değişkende tutalım.\n",
    "sonuc = c2f(20)\n",
    "sonuc"
   ]
  },
  {
   "cell_type": "code",
   "execution_count": 16,
   "metadata": {},
   "outputs": [
    {
     "name": "stdout",
     "output_type": "stream",
     "text": [
      "Help on function c2f in module __main__:\n",
      "\n",
      "c2f(c_sicaklik)\n",
      "    Bu fonksiyon C sıcaklık alır F sıcaklık hesaplar.\n",
      "    \n",
      "    Parametreler:\n",
      "    -------------------------------------\n",
      "    c_sicaklik: float tipinden C cinsinden sıcaklıklıktır.\n",
      "    return : str tipinden F cinsinden sıcaklıktır.\n",
      "\n"
     ]
    }
   ],
   "source": [
    "'''\n",
    "    Help eklemek için yöntemler.\n",
    "    1. tanımın üzerindeki yorum satırları helpte görünür.\n",
    "    2. Başlığın altıdaki metin veya yorum satırı helpte görünür.\n",
    "    3.__doc__ ile fonksiyona docstring ekleyebiliriz.\n",
    "\n",
    "'''\n",
    "help(c2f)"
   ]
  },
  {
   "cell_type": "code",
   "execution_count": 17,
   "metadata": {},
   "outputs": [
    {
     "name": "stdout",
     "output_type": "stream",
     "text": [
      "Help on function c2f in module __main__:\n",
      "\n",
      "c2f(c_sicaklik)\n",
      "            Bu fonksiyon C sıcaklık alır F sıcaklık hesaplar.\n",
      "    \n",
      "            Parametreler:\n",
      "            -------------------------------------\n",
      "            c_sicaklik: float tipinden C cinsinden sıcaklıklıktır.\n",
      "            return : str tipinden F cinsinden sıcaklıktır.\n",
      "    \n",
      "        \n",
      "    Bu metin __doc__ ile eklenmiştir.\n",
      "\n"
     ]
    }
   ],
   "source": [
    "c2f.__doc__\n",
    "#print(c2f.__doc__)\n",
    "\n",
    "#\n",
    "c2f.__doc__ += \"\\nBu metin __doc__ ile eklenmiştir.\"\n",
    "\n",
    "#\n",
    "help(c2f)"
   ]
  },
  {
   "cell_type": "code",
   "execution_count": null,
   "metadata": {},
   "outputs": [],
   "source": [
    "#örn:\n",
    "#beden kitle indexi üzerinden obezite seviyesini hesaplayalım\n",
    "\n",
    "def obeziteSeviyesi(kilo, boy):\n",
    "    \"\"\"\n",
    "        Beden kitle indexi üzerinden obeziste seviyesini hesaplar:\n",
    "\n",
    "        Parametreler:\n",
    "        ---------------------\n",
    "        kilo: kg cinsinden kilonuz\n",
    "        boy: m cinsinden boyunuz\n",
    "    \"\"\"\n",
    "\n",
    "    bki = kilo/boy**2\n",
    "\n",
    "    #\n",
    "    if bki>=40:\n",
    "        return \"3. Derece Obez\"\n",
    "    elif bki>=35:\n",
    "        return \"2. Derece Obez\"\n",
    "    elif bki>=25:\n",
    "        return \"1. Derece Obez\"\n",
    "    elif bki>=18.5:\n",
    "        return \"Normal\"\n",
    "    elif bki>=17:\n",
    "        return \"Hafif düzeyde zayıf\"\n",
    "    elif bki>=16:\n",
    "        return \"Orta düzeyde zayıf\"\n",
    "    else:\n",
    "        return \"Ağur düzeyde zayıf\"\n",
    "    "
   ]
  }
 ],
 "metadata": {
  "kernelspec": {
   "display_name": "Python 3",
   "language": "python",
   "name": "python3"
  },
  "language_info": {
   "codemirror_mode": {
    "name": "ipython",
    "version": 3
   },
   "file_extension": ".py",
   "mimetype": "text/x-python",
   "name": "python",
   "nbconvert_exporter": "python",
   "pygments_lexer": "ipython3",
   "version": "3.11.3"
  }
 },
 "nbformat": 4,
 "nbformat_minor": 2
}
