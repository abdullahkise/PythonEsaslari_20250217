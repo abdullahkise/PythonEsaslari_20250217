{
 "cells": [
  {
   "cell_type": "markdown",
   "metadata": {},
   "source": [
    "## Farklı Dosyalardaki Nesneler ile Çalışmak\n",
    "### Kodlardan Oluşan Bir Klasor Yapısı İnşa Edelim."
   ]
  },
  {
   "cell_type": "code",
   "execution_count": 1,
   "metadata": {},
   "outputs": [],
   "source": [
    "myFolder = \"kutuphanem\""
   ]
  },
  {
   "cell_type": "code",
   "execution_count": 6,
   "metadata": {},
   "outputs": [
    {
     "data": {
      "text/plain": [
       "True"
      ]
     },
     "execution_count": 6,
     "metadata": {},
     "output_type": "execute_result"
    }
   ],
   "source": [
    "import os #işletim sistemi ilişkili nesneler var.\n",
    "\n",
    "#\n",
    "os.getcwd() #çalışma yolu\n",
    "#!cd #shell komutu\n",
    "\n",
    "#\n",
    "os.makedirs(myFolder, exist_ok=True)\n",
    "#!mkdir $myFolder  #shell komutu\n",
    "\n",
    "#\n",
    "os.path.exists(myFolder)"
   ]
  },
  {
   "cell_type": "code",
   "execution_count": 8,
   "metadata": {},
   "outputs": [
    {
     "name": "stdout",
     "output_type": "stream",
     "text": [
      "Overwriting kutuphanem/nesnelerim.py\n"
     ]
    }
   ],
   "source": [
    "%%writefile $myFolder/nesnelerim.py\n",
    "#yukarıdaki komut ile bu hücre içerisini belirtilen dosyaya yazarız.\n",
    "#$ ile notebook içindeki değişkenlere erişmiş oluyoruz.\n",
    "def c2f(c):\n",
    "    return 1.8*c+32"
   ]
  },
  {
   "cell_type": "markdown",
   "metadata": {},
   "source": [
    "### Oluşan Dosyadaki Nesneleri Çalışma Ortamına Alalım"
   ]
  },
  {
   "cell_type": "code",
   "execution_count": 13,
   "metadata": {},
   "outputs": [
    {
     "data": {
      "text/plain": [
       "'c:\\\\Users\\\\Abdullah\\\\Documents\\\\GitHub\\\\PythonEsaslari_20250217\\\\Gun3'"
      ]
     },
     "execution_count": 13,
     "metadata": {},
     "output_type": "execute_result"
    }
   ],
   "source": [
    "import sys\n",
    "\n",
    "#\n",
    "sys.path #python engine dikkate aldığı yollar. bu yollardaki kütüphaneleri import edebiliriz.\n",
    "#bu listeyi append ile genişletebiliriz.\n",
    "\n",
    "#\n",
    "sys.path[0] #çalışma yolu da dikkate alınır."
   ]
  },
  {
   "cell_type": "code",
   "execution_count": 15,
   "metadata": {},
   "outputs": [],
   "source": [
    "#Package = Folder\n",
    "#module  = .py\n",
    "\n",
    "#--------------------\n",
    "#import kutuphanem\n",
    "#bu şekilde import edersek klasoru işaret etmiş oluruz. Bu klasor içeriisnde __init__.py dosyası aranır.\n",
    "\n",
    "#--------------------\n",
    "#belli modulu import etmek için from kullanabiliriz. module import edebiliriz.\n",
    "#from kutuphanem import nesnelerim\n",
    "#from kutuphanem.nesnelerim import c2f #py dosyası içindeki fonksiyonu import ettik.\n",
    "\n",
    "#folder/py için . kullanırız.\n",
    "import kutuphanem.nesnelerim as nsn #alias verilebilir."
   ]
  },
  {
   "cell_type": "code",
   "execution_count": 17,
   "metadata": {},
   "outputs": [
    {
     "data": {
      "text/plain": [
       "50.0"
      ]
     },
     "execution_count": 17,
     "metadata": {},
     "output_type": "execute_result"
    }
   ],
   "source": [
    "dir(nsn)\n",
    "\n",
    "#\n",
    "nsn.c2f(10)"
   ]
  },
  {
   "cell_type": "markdown",
   "metadata": {},
   "source": [
    "### Kütüphaneyi import ettikten sonra değiştirirsek değişiklikler doğrudan yansımaz."
   ]
  },
  {
   "cell_type": "code",
   "execution_count": 18,
   "metadata": {},
   "outputs": [
    {
     "name": "stdout",
     "output_type": "stream",
     "text": [
      "Overwriting kutuphanem/nesnelerim.py\n"
     ]
    }
   ],
   "source": [
    "%%writefile $myFolder/nesnelerim.py\n",
    "#yukarıdaki komut ile bu hücre içerisini belirtilen dosyaya yazarız.\n",
    "#$ ile notebook içindeki değişkenlere erişmiş oluyoruz.\n",
    "def c2f(c):\n",
    "    return 1.8*c+32\n",
    "\n",
    "#-----------------\n",
    "yazar = \"Abdullah Kise\"\n",
    "mail = \"abdullahkise@hotmail.com\""
   ]
  },
  {
   "cell_type": "code",
   "execution_count": null,
   "metadata": {},
   "outputs": [
    {
     "ename": "AttributeError",
     "evalue": "module 'kutuphanem.nesnelerim' has no attribute 'yazar'",
     "output_type": "error",
     "traceback": [
      "\u001b[1;31m---------------------------------------------------------------------------\u001b[0m",
      "\u001b[1;31mAttributeError\u001b[0m                            Traceback (most recent call last)",
      "Cell \u001b[1;32mIn[21], line 8\u001b[0m\n\u001b[0;32m      5\u001b[0m \u001b[38;5;28mdir\u001b[39m(nsn)\n\u001b[0;32m      7\u001b[0m \u001b[38;5;66;03m#\u001b[39;00m\n\u001b[1;32m----> 8\u001b[0m \u001b[43mnsn\u001b[49m\u001b[38;5;241;43m.\u001b[39;49m\u001b[43myazar\u001b[49m\n",
      "\u001b[1;31mAttributeError\u001b[0m: module 'kutuphanem.nesnelerim' has no attribute 'yazar'"
     ]
    }
   ],
   "source": [
    "dir(nsn)\n",
    "\n",
    "#\n",
    "import kutuphanem.nesnelerim as nsn\n",
    "dir(nsn)\n",
    "\n",
    "#\n",
    "nsn.yazar #tekrar impor edilse de değişiklikler gelmez. kernal restart edilebilir veya module reload edilmelidir."
   ]
  },
  {
   "cell_type": "markdown",
   "metadata": {},
   "source": [
    "#### Kütüphanedeki Değişiklikleri Yansıtmak için `importlib.reload()` Fonksiyonu Kullanılır"
   ]
  },
  {
   "cell_type": "code",
   "execution_count": 22,
   "metadata": {},
   "outputs": [
    {
     "data": {
      "text/plain": [
       "<module 'kutuphanem.nesnelerim' from 'c:\\\\Users\\\\Abdullah\\\\Documents\\\\GitHub\\\\PythonEsaslari_20250217\\\\Gun3\\\\kutuphanem\\\\nesnelerim.py'>"
      ]
     },
     "execution_count": 22,
     "metadata": {},
     "output_type": "execute_result"
    }
   ],
   "source": [
    "import importlib\n",
    "\n",
    "#\n",
    "importlib.reload(nsn) #nsn kütüphanesi tekrar yüklenir. değişikler yansır."
   ]
  },
  {
   "cell_type": "code",
   "execution_count": 23,
   "metadata": {},
   "outputs": [
    {
     "data": {
      "text/plain": [
       "['__builtins__',\n",
       " '__cached__',\n",
       " '__doc__',\n",
       " '__file__',\n",
       " '__loader__',\n",
       " '__name__',\n",
       " '__package__',\n",
       " '__spec__',\n",
       " 'c2f',\n",
       " 'mail',\n",
       " 'yazar']"
      ]
     },
     "execution_count": 23,
     "metadata": {},
     "output_type": "execute_result"
    }
   ],
   "source": [
    "dir(nsn)"
   ]
  },
  {
   "cell_type": "code",
   "execution_count": 24,
   "metadata": {},
   "outputs": [
    {
     "data": {
      "text/plain": [
       "'Abdullah Kise'"
      ]
     },
     "execution_count": 24,
     "metadata": {},
     "output_type": "execute_result"
    }
   ],
   "source": [
    "nsn.yazar"
   ]
  }
 ],
 "metadata": {
  "kernelspec": {
   "display_name": "Python 3",
   "language": "python",
   "name": "python3"
  },
  "language_info": {
   "codemirror_mode": {
    "name": "ipython",
    "version": 3
   },
   "file_extension": ".py",
   "mimetype": "text/x-python",
   "name": "python",
   "nbconvert_exporter": "python",
   "pygments_lexer": "ipython3",
   "version": "3.11.3"
  }
 },
 "nbformat": 4,
 "nbformat_minor": 2
}
