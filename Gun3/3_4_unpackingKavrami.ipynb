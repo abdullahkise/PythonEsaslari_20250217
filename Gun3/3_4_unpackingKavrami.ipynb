{
 "cells": [
  {
   "cell_type": "markdown",
   "metadata": {},
   "source": [
    "## Unpacking Kavramı\n",
    "![alt text](Unpacking.png)"
   ]
  },
  {
   "cell_type": "code",
   "execution_count": 2,
   "metadata": {},
   "outputs": [
    {
     "name": "stdout",
     "output_type": "stream",
     "text": [
      "a=1 b=2 c=3\n"
     ]
    }
   ],
   "source": [
    "# klasik atama\n",
    "a = 1\n",
    "\n",
    "#zincir atama\n",
    "a = b = 1\n",
    "\n",
    "#tuple atama\n",
    "t = 1,2,3\n",
    "\n",
    "#unpacking\n",
    "a,b,c = t #(1,2,3) #desenler aynı\n",
    "\n",
    "print(f\"{a=} {b=} {c=}\")"
   ]
  },
  {
   "cell_type": "code",
   "execution_count": null,
   "metadata": {},
   "outputs": [
    {
     "name": "stdout",
     "output_type": "stream",
     "text": [
      "x='?' y='!' z=';'\n"
     ]
    }
   ],
   "source": [
    "#unpacking container deseni aynı olması bire bir atma için yeterli\n",
    "x,y,z = \"?!;\" #str containerdır.\n",
    "\n",
    "print(f\"{x=} {y=} {z=}\")"
   ]
  },
  {
   "cell_type": "code",
   "execution_count": 7,
   "metadata": {},
   "outputs": [
    {
     "name": "stdout",
     "output_type": "stream",
     "text": [
      "ad='Abdullah'\n",
      "ehliyet=('A', 'B')\n",
      "ad='Abdullah'\n",
      "e1='A'\n",
      "e2='B'\n"
     ]
    }
   ],
   "source": [
    "ad, ehliyet = [\"Abdullah\", (\"A\",\"B\")] #str ve tuple\n",
    "\n",
    "#\n",
    "print(f\"{ad=}\\n{ehliyet=}\")\n",
    "\n",
    "#\n",
    "ad,(e1 , e2)=[\"Abdullah\", (\"A\",\"B\")]\n",
    "\n",
    "print(f\"{ad=}\\n{e1=}\\n{e2=}\")"
   ]
  },
  {
   "cell_type": "code",
   "execution_count": 10,
   "metadata": {},
   "outputs": [
    {
     "name": "stdout",
     "output_type": "stream",
     "text": [
      "ad='ali'\n",
      "soyad='uçan'\n",
      "yas=90\n"
     ]
    }
   ],
   "source": [
    "#dict ile ilgili özel durumlar\n",
    "p_dict = {\"adi\":\"ali\", \"soyadi\":\"uçan\", \"yasi\":90}\n",
    "\n",
    "#\n",
    "ad, soyad, yas = p_dict #sadece keyler atanır.\n",
    "ad, soyad, yas = p_dict.keys()\n",
    "\n",
    "#\n",
    "ad, soyad, yas = p_dict.values() #valuları unpack eder.\n",
    "\n",
    "print(f\"{ad=}\\n{soyad=}\\n{yas=}\")"
   ]
  },
  {
   "cell_type": "markdown",
   "metadata": {},
   "source": [
    "### Değer ile Desen Aynı Değilse (Deger Sayısı Fazla Olduğunda)\n",
    "#### Kalan değerleri bir değişkene atayabilir."
   ]
  },
  {
   "cell_type": "code",
   "execution_count": null,
   "metadata": {},
   "outputs": [
    {
     "name": "stdout",
     "output_type": "stream",
     "text": [
      "a=0\n",
      "b=[1, 2, 3, 4, 5, 6, 7, 8]\n",
      "c=9\n"
     ]
    }
   ],
   "source": [
    "#* ile kalan elemanları bir değişkene alabilirz\n",
    "a,*b,c=[0,1,2,3,4,5,6,7,8,9] #range(10)\n",
    "\n",
    "'''\n",
    "    1. eleman   a\n",
    "    son eleman  c\n",
    "    aradakiler  b *b ile yaptık\n",
    "'''\n",
    "\n",
    "print(f\"{a=}\\n{b=}\\n{c=}\")"
   ]
  },
  {
   "cell_type": "markdown",
   "metadata": {},
   "source": [
    "#### Kalan değerleri göz ardı edebiliriz."
   ]
  },
  {
   "cell_type": "code",
   "execution_count": null,
   "metadata": {},
   "outputs": [
    {
     "name": "stdout",
     "output_type": "stream",
     "text": [
      "x=0\n",
      "y=2\n",
      "z=9\n"
     ]
    }
   ],
   "source": [
    "x,_,y,*_,z = range(10) #[0,1,2,3,4,5,6,7,8,9] \n",
    "\n",
    "\"\"\"\n",
    "    _ ile tek bir değer\n",
    "    *_ ile birden fazla değer atladık\n",
    "\n",
    "    -----------\n",
    "    x: ilk eleman\n",
    "    z: son eleman\n",
    "    _: bir tane atladık (2. eleman atladık)\n",
    "    y: üçüncü eleman\n",
    "    *_: aradakileri atladık.\n",
    "\"\"\"\n",
    "\n",
    "print(f\"{x=}\\n{y=}\\n{z=}\")"
   ]
  },
  {
   "cell_type": "markdown",
   "metadata": {},
   "source": [
    "### Container Elenalarını Olduğu Yere Unpack Etmek"
   ]
  },
  {
   "cell_type": "code",
   "execution_count": null,
   "metadata": {},
   "outputs": [
    {
     "data": {
      "text/plain": [
       "[1, 2, 3, 4, 5, 6, 7, 8, 9]"
      ]
     },
     "execution_count": 22,
     "metadata": {},
     "output_type": "execute_result"
    }
   ],
   "source": [
    "#örn:\n",
    "k = [1,2,3]\n",
    "l = [4,5,6]\n",
    "m = [7,8,9]\n",
    "\n",
    "#append tek eleman olarak ekler.\n",
    "'''\n",
    "k.append(l) #k [1, 2, 3, [4, 5, 6]] oldu.\n",
    "k\n",
    "'''\n",
    "\n",
    "#extend açarak ekler\n",
    "'''\n",
    "k.extend(l)\n",
    "k.extend(m)\n",
    "k #[1, 2, 3, 4, 5, 6]\n",
    "'''\n",
    "\n",
    "#\n",
    "[k,l,m] #[[1, 2, 3], [4, 5, 6], [7, 8, 9]] #append\n",
    "[*k,*l,*m] #extend ettik * ile containi açıyoruz.\n",
    "\n",
    "#*k #tuple içine açmak gibi oluyor. tuple immutable #HATA"
   ]
  },
  {
   "cell_type": "code",
   "execution_count": 31,
   "metadata": {},
   "outputs": [
    {
     "data": {
      "text/plain": [
       "{'adi': 'ali', 'soyadi': 'uçan', 'yasi': 90}"
      ]
     },
     "execution_count": 31,
     "metadata": {},
     "output_type": "execute_result"
    }
   ],
   "source": [
    "# dict özel durum\n",
    "p_dict #{'adi': 'ali', 'soyadi': 'uçan', 'yasi': 90}\n",
    "\n",
    "#\n",
    "[*p_dict] #keyleri açtı. ['adi', 'soyadi', 'yasi']\n",
    "{**p_dict} #key value açar dict nesnesi haline getirdi."
   ]
  },
  {
   "cell_type": "code",
   "execution_count": 32,
   "metadata": {},
   "outputs": [
    {
     "data": {
      "text/plain": [
       "{'adi': 'ali',\n",
       " 'soyadi': 'uçan',\n",
       " 'yasi': 90,\n",
       " 'meslek': 'yazılım',\n",
       " 'maaş': 321321}"
      ]
     },
     "execution_count": 32,
     "metadata": {},
     "output_type": "execute_result"
    }
   ],
   "source": [
    "#farklı bir dict ile birleştirelim\n",
    "p_devam = {\"meslek\":\"yazılım\", \"maaş\":321321}\n",
    "\n",
    "#\n",
    "#p_dict ve p_devam tek bir dict olsun.\n",
    "{**p_dict, **p_devam}"
   ]
  }
 ],
 "metadata": {
  "kernelspec": {
   "display_name": "Python 3",
   "language": "python",
   "name": "python3"
  },
  "language_info": {
   "codemirror_mode": {
    "name": "ipython",
    "version": 3
   },
   "file_extension": ".py",
   "mimetype": "text/x-python",
   "name": "python",
   "nbconvert_exporter": "python",
   "pygments_lexer": "ipython3",
   "version": "3.11.3"
  }
 },
 "nbformat": 4,
 "nbformat_minor": 2
}
