{
 "cells": [
  {
   "cell_type": "markdown",
   "metadata": {},
   "source": [
    "## Karar Yapıları ve Döngüler\n",
    "### Karar Yapıları\n",
    "* if\n",
    "  * if-else\n",
    "  * if-elif....-else\n",
    "* ternary(tek satırda if yazmak)\n",
    "\n",
    "#### if-elif-elif....-else\n",
    "```python\n",
    "if koşul1:\n",
    "  #koşul1 True üretirse if blokundakiler çalışır. if blogu tab ile belirtilir.\n",
    "  pass #bu keyword kodlar için yer tutucudur. Yani nen burada kod yazmam lazım biliyorum ama şimdilik yazmayacağım hata falan verme.\n",
    "elif koşul2:\n",
    "  #koşul 1 sağlanmazsa koşul2 kontrol edilir. koşul2 True üretirse bu blog çalışır.\n",
    "elif koşul3:\n",
    "  #koşul1 sağlanmazsa koşul2 kontrol edilir. o da sağlanmazsa koşul3 kontrol edilir.\n",
    "else:\n",
    "  #hiç bir koşul sağlanmazsa bu blok çalışır.\n",
    "\n",
    "```"
   ]
  },
  {
   "cell_type": "code",
   "execution_count": 6,
   "metadata": {},
   "outputs": [
    {
     "name": "stdout",
     "output_type": "stream",
     "text": [
      "Belrtilen sayı 2 veya 3'e tam bölünmüyor.\n"
     ]
    }
   ],
   "source": [
    "x = 5\n",
    "\n",
    "#\n",
    "if x%2==0 or x%3==0: #or ile bir tarafın Ture üretmesi sonucu True yapar.\n",
    "    #pass #kodlar için yer tucudur.\n",
    "\n",
    "    print(\"Girilen sayı 2 veya 3'e tam bölünüyor.\")\n",
    "\n",
    "else:\n",
    "    print(\"Belrtilen sayı 2 veya 3'e tam bölünmüyor.\")"
   ]
  },
  {
   "cell_type": "code",
   "execution_count": 11,
   "metadata": {},
   "outputs": [
    {
     "name": "stdout",
     "output_type": "stream",
     "text": [
      "Belirtilen sayı 2'ye bölünebiliyor.\n",
      "Belirtilen sayı 3'e tam bölünür.\n",
      "Programın sonuna gelindi\n"
     ]
    }
   ],
   "source": [
    "#if blokları bağımsızdır. Arka arkaya if yazarsak tüm ifler kesinlikle kontrol edilir. \n",
    "x = 6\n",
    "\n",
    "if x%2==0:\n",
    "    print(\"Belirtilen sayı 2'ye bölünebiliyor.\")\n",
    "#\n",
    "if x%3==0:\n",
    "    print(\"Belirtilen sayı 3'e tam bölünür.\")\n",
    "\n",
    "#\n",
    "print(\"Programın sonuna gelindi\")"
   ]
  },
  {
   "cell_type": "code",
   "execution_count": 17,
   "metadata": {},
   "outputs": [
    {
     "name": "stdout",
     "output_type": "stream",
     "text": [
      "Sınavda aldığınız sayısal not 60 harf karşılığı C olarak hesaplandı.\n"
     ]
    }
   ],
   "source": [
    "#if-elif-elif...-else\n",
    "#belirtilen şartlar sırayla kontrol edilir. Şart True dönerse diğer şartlara bakılmaz. alternatif şartları elif ile beliriyoruz.\n",
    "\n",
    "#örn:\n",
    "sinavNotu = int(\"60\") #int(input(\"Sınav notunuzu girinz:\")) #gelen str tipinden int tipine çevirelim.\n",
    "harfNotu = \"\"\n",
    "\n",
    "#\n",
    "if 0<=sinavNotu<=100: #sinavNotu>=0 and sinavNotu<=100:\n",
    "    #pass\n",
    "\n",
    "    if sinavNotu>=85:\n",
    "        harfNotu=\"A\"\n",
    "    elif sinavNotu>=70:\n",
    "        harfNotu=\"B\"\n",
    "    elif sinavNotu>=55:\n",
    "        harfNotu=\"C\"\n",
    "    elif sinavNotu>=45:\n",
    "        harfNotu=\"D\"\n",
    "    else:\n",
    "        harfNotu=\"F\"\n",
    "\n",
    "    #\n",
    "    print(f\"Sınavda aldığınız sayısal not {sinavNotu} harf karşılığı {harfNotu} olarak hesaplandı.\")\n",
    "else:\n",
    "    print(\"Sınav notunuz 0 ile 100 arasında olmalıdır.\")"
   ]
  },
  {
   "cell_type": "markdown",
   "metadata": {},
   "source": [
    "#### ternary if\n",
    "```python\n",
    "şartTrueUretirse if şart else şartFalseUretirse\n",
    "```\n"
   ]
  },
  {
   "cell_type": "code",
   "execution_count": 19,
   "metadata": {},
   "outputs": [
    {
     "data": {
      "text/plain": [
       "'Tek sayıdır'"
      ]
     },
     "execution_count": 19,
     "metadata": {},
     "output_type": "execute_result"
    }
   ],
   "source": [
    "x = 5\n",
    "\n",
    "\"Çift sayıdır\" if x%2==0 else \"Tek sayıdır\""
   ]
  },
  {
   "cell_type": "markdown",
   "metadata": {},
   "source": [
    "### Döngüler\n",
    "* for\n",
    "* while\n",
    "\n",
    "**Not:** tüm döngülerde `break` ile döngüden çıkılır, `continue` ile bir sonraki adıma atlanır.\n",
    "\n",
    "#### for\n",
    "* iterasyon yapılabilecek nesnelerin (list, tuple, set ve range gibi containerlar vs.) elemanlarına tek tek ulaşmamızı ve her eleman için işlem yapmamızı sağlar."
   ]
  },
  {
   "cell_type": "code",
   "execution_count": 22,
   "metadata": {},
   "outputs": [
    {
     "name": "stdout",
     "output_type": "stream",
     "text": [
      "M\n",
      "E\n",
      "R\n",
      "H\n",
      "A\n",
      "B\n",
      "A\n"
     ]
    }
   ],
   "source": [
    "metin = \"merhaba\" #str container tiptir. karakterlerden oluşur.\n",
    "\n",
    "#\n",
    "for karakter in metin:\n",
    "    print(karakter.upper()) #her iterasyonda(döngü adımında) sıradaki karaktere ulaştık. container elemanına ulaştık."
   ]
  },
  {
   "cell_type": "code",
   "execution_count": 28,
   "metadata": {},
   "outputs": [
    {
     "name": "stdout",
     "output_type": "stream",
     "text": [
      "0\n",
      "1\n",
      "2\n"
     ]
    }
   ],
   "source": [
    "#range(start, stop, step) #parametreleri ile belirtilen aralıktaki sayıları tutan bir container üretir.\n",
    "range(1,10,1) #container içinde sayılar var. containir içerisnde for ile gezebiliriz veya içindeki görmek için list tipine çevirebiliriz\n",
    "list(range(1,10,1))\n",
    "\n",
    "#\n",
    "list(range(10)) #varsayılan 0'dan başlar, 1'er getir.\n",
    "\n",
    "#C# daki for gibi kullanmak istersen range den faydalanaibliriz.\n",
    "for i in range(3):\n",
    "    print(i)"
   ]
  },
  {
   "cell_type": "code",
   "execution_count": 33,
   "metadata": {},
   "outputs": [
    {
     "name": "stdout",
     "output_type": "stream",
     "text": [
      "1 ile 100 arasındaki 100 adet sayıya bakıldı.\n",
      "3'e tam bölünenlerin adedi 33 olarak hesaplandı.\n"
     ]
    }
   ],
   "source": [
    "#örn:\n",
    "#1-100 arasındaki 3'e tam bölünen sayıların adedini hesaplayalım.\n",
    "#1-10 arasında olsun.\n",
    "#sayilar = [1,2,3,4,5,6,7,8,9,10]\n",
    "sayilar  = range(1,101)\n",
    "tamBolunenlerinAdedi=0\n",
    "\n",
    "for s in sayilar:\n",
    "    if s%3==0:\n",
    "        tamBolunenlerinAdedi +=1 #cumulative toplam. önceki değerle toplar.\n",
    "#\n",
    "print(f\"{min(sayilar)} ile {max(sayilar)} arasındaki {len(sayilar)} adet sayıya bakıldı.\\n3'e tam bölünenlerin adedi {tamBolunenlerinAdedi} olarak hesaplandı.\")\n",
    "#sum, min, max, len ile container hakkında bilgi alabiliriz."
   ]
  },
  {
   "cell_type": "code",
   "execution_count": 34,
   "metadata": {},
   "outputs": [
    {
     "name": "stdout",
     "output_type": "stream",
     "text": [
      "30 karesi 900\n",
      "33 karesi 1089\n",
      "36 karesi 1296\n",
      "39 karesi 1521\n"
     ]
    }
   ],
   "source": [
    "#Soru:\n",
    "#30-40 arasındaki sayılardan 3'e tam bölünenleri \"30 karesi 900\" şeklinde yazsın.\n",
    "for r in range(30,41):\n",
    "    if r%3==0:\n",
    "        print(f\"{r} karesi {r**2}\")"
   ]
  },
  {
   "cell_type": "markdown",
   "metadata": {},
   "source": [
    "#### List Comprehension"
   ]
  },
  {
   "cell_type": "code",
   "execution_count": 39,
   "metadata": {},
   "outputs": [
    {
     "data": {
      "text/plain": [
       "['30 karesi 900', '33 karesi 1089', '36 karesi 1296', '39 karesi 1521']"
      ]
     },
     "execution_count": 39,
     "metadata": {},
     "output_type": "execute_result"
    }
   ],
   "source": [
    "#1. yöntem\n",
    "lst = [] #boş liste list()\n",
    "\n",
    "for r in range(30,41):\n",
    "    if r%3==0:\n",
    "        lst.append(f\"{r} karesi {r**2}\") #append metodu listeye yeni eleman ekler.\n",
    "\n",
    "\n",
    "#2.yöntem\n",
    "#list, tupe, set içerisinde for kullanabiliriz. filtrelemeye ihtiyac duyarsak if de kullanabiliriz.\n",
    "lst = [f\"{r} karesi {r**2}\" for r in range(30,41) if r%3==0]\n",
    "\n",
    "#\n",
    "lst\n",
    "#lst[0]"
   ]
  },
  {
   "cell_type": "code",
   "execution_count": null,
   "metadata": {},
   "outputs": [
    {
     "name": "stdout",
     "output_type": "stream",
     "text": [
      "7 x 1 = 7\n",
      "7 x 2 = 14\n",
      "7 x 3 = 21\n",
      "7 x 4 = 28\n",
      "7 x 5 = 35\n",
      "7 x 6 = 42\n",
      "7 x 7 = 49\n",
      "7 x 8 = 56\n",
      "7 x 9 = 63\n",
      "7 x 10 = 70\n"
     ]
    }
   ],
   "source": [
    "#örn:\n",
    "#çarpım tablosu\n",
    "#1. yöntem\n",
    "lst_carpimlar = []\n",
    "kaclar=7\n",
    "\n",
    "\"\"\"\n",
    "for x in range(2,11):\n",
    "    if x == kaclar: #x 7 ise y döngüsü çalışsın.\n",
    "        for y in range(1,11):\n",
    "            print(f\"{x} x {y} = {x*y}\")\n",
    "\"\"\"\n",
    "\n",
    "#alternatif çözüm\n",
    "for x in range(2,11):\n",
    "    if x != kaclar:\n",
    "        continue #bu noktada dur aşağıdaki kodları çalıştırmadan bir sonraki iterasyona atla.\n",
    "    #\n",
    "    for y in range(1,11):\n",
    "        print(f\"{x} x {y} = {x*y}\")\n",
    "\n",
    "\n",
    "#2. yöntem list comprehension\n",
    "lst_carpimlar = [f\"{x} x {y} = {x*y}\" for x in range(2,11) for y in range(1,11) if x==kaclar]\n",
    "#not arka arkaya for açık şekilde yazılan iç içe foru temsil edebilir."
   ]
  },
  {
   "cell_type": "markdown",
   "metadata": {},
   "source": [
    "#### While-else\n",
    "```python\n",
    "while şart:\n",
    "    #şart True ürettiği sürece while bloku çalışır.\n",
    "else:\n",
    "    # opsiyoneldir. sadece şart False ürettiğinde devreye girer.\n",
    "    # break ile döngüden çıkılmışsa else blokuna girmez.\n",
    "```"
   ]
  },
  {
   "cell_type": "code",
   "execution_count": null,
   "metadata": {},
   "outputs": [
    {
     "name": "stdout",
     "output_type": "stream",
     "text": [
      "1\n",
      "3\n",
      "5\n"
     ]
    }
   ],
   "source": [
    "#örn:\n",
    "sayac = 0\n",
    "\n",
    "while sayac < 10:\n",
    "    sayac +=1 #her iterasyonda 1 arttıracağız.\n",
    "\n",
    "    #-----------\n",
    "    if sayac %2==0:\n",
    "        continue #bu noktada daha ileri gitme bir sonraki iterasyona geç\n",
    "\n",
    "    if sayac == 7:\n",
    "        break #döngüden tamamen çıktık. sonraki iterasyona geçmez.\n",
    "\n",
    "    #-----------\n",
    "    #\n",
    "    print(sayac)\n",
    "else:\n",
    "    print(f\"Şarta uymayan bir durumla karılaşıldı. {sayac=}\") #yer tutucu içinde degisken= dersek değişken adı da değeri de print edilir."
   ]
  },
  {
   "cell_type": "code",
   "execution_count": 54,
   "metadata": {},
   "outputs": [
    {
     "name": "stdout",
     "output_type": "stream",
     "text": [
      "3 deneme hakkınız kalmıştır.\n",
      "Hesap bilgilerini giriniz:\n",
      "2 deneme hakkınız kalmıştır.\n",
      "Hesap bilgilerini giriniz:\n",
      "Hoş geldiniz admin\n"
     ]
    }
   ],
   "source": [
    "#örn:\n",
    "#kadi = admin ve ksifre=\"1234\"\n",
    "#giriş yapana kadar bilgileri soralım.\n",
    "#3 deneme hakkı olsun.\n",
    "#başarılı giriş yaparsa adıyla hoş geldin diyelim.\n",
    "#deneme hakkı biterse hakkınız bitti diyelim.\n",
    "\n",
    "kadi=ksifre=\"\" #zincir atama\n",
    "denemeHakki = 3\n",
    "\n",
    "#\n",
    "while not(kadi == \"admin\" and ksifre==\"1234\"): #kadi != \"admin\" or ksifre != \"1234\"\n",
    "    print(f\"{denemeHakki} deneme hakkınız kalmıştır.\")\n",
    "\n",
    "    if denemeHakki<=0:\n",
    "        print(\"Deneme hakkınız bitti!!!\")\n",
    "        break #döngünden çıkılsın. Bu şekilde çıkıldığında else bloku devreye girmez.\n",
    "\n",
    "    #\n",
    "    print(\"Hesap bilgilerini giriniz:\")\n",
    "    kadi = input(\"Kullanıcı adı: \")\n",
    "    ksifre =input(\"Şifre: \")\n",
    "\n",
    "    #\n",
    "    denemeHakki -=1\n",
    "else:\n",
    "    print(f\"Hoş geldiniz {kadi}\") #while şartı False ürettiğinde yani başarılı giriş yaptığında çalışacak."
   ]
  },
  {
   "cell_type": "code",
   "execution_count": 63,
   "metadata": {},
   "outputs": [],
   "source": [
    "#örn:\n",
    "#aşağıdaki mail adresini temizkeyen ve @ öncesindeki metni getiren bir kod yazalm\n",
    "#içinde geçen özel karekterleri saydıralım.\n",
    "mail = \"ab0du?l3l5a!h-k~1i2se@hotmail.com\""
   ]
  },
  {
   "cell_type": "code",
   "execution_count": 65,
   "metadata": {},
   "outputs": [
    {
     "name": "stdout",
     "output_type": "stream",
     "text": [
      "temiz_metin='abdullahkise'\n",
      "sayi_adedi=5\n",
      "ozel_karakter_adedi=4\n"
     ]
    }
   ],
   "source": [
    "temiz_metin = \"\"\n",
    "ozel_karakter_adedi =0\n",
    "sayi_adedi=0\n",
    "\n",
    "#\n",
    "for m in mail:\n",
    "    #@ gördüğüde döngüden çıkılsın.\n",
    "    if m==\"@\":\n",
    "        break\n",
    "\n",
    "    #\n",
    "    if m.isalpha():\n",
    "        temiz_metin+=m\n",
    "    elif m.isnumeric():\n",
    "        sayi_adedi+=1\n",
    "    else:\n",
    "        ozel_karakter_adedi+=1\n",
    "    \n",
    "\n",
    "#\n",
    "print(f\"{temiz_metin=}\")\n",
    "print(f\"{sayi_adedi=}\")\n",
    "print(f\"{ozel_karakter_adedi=}\")\n"
   ]
  },
  {
   "cell_type": "code",
   "execution_count": null,
   "metadata": {},
   "outputs": [],
   "source": [
    "#soru:\n",
    "'''\n",
    "    - Bilgisayar rastgele bir sayı tutsun (1-10 arasında)\n",
    "    - bu sayıyı tahmin etmeye çalışalım\n",
    "    - yukarı aşağı diye bizi yönlendirsin.\n",
    "    - kaç denemede bulundu, tutulan sayı nedir sonunda öğrenelim.\n",
    "    - max deneme sayısı da verilebilir. max deneme sayısı aralıktan daha küçük olmalı. 1-10 arasında 9 hak olabilir.\n",
    "'''"
   ]
  },
  {
   "cell_type": "code",
   "execution_count": null,
   "metadata": {},
   "outputs": [
    {
     "data": {
      "text/plain": [
       "[4, 6, 5, 2, 1, 3]"
      ]
     },
     "execution_count": 84,
     "metadata": {},
     "output_type": "execute_result"
    }
   ],
   "source": [
    "import random #standart kütüphanedir. rastgele sayı üretmek veya rastgele seçimler yapmak için kullanılır.\n",
    "\n",
    "random.randint(1,10) #1-10 arasında rastgele tam say\n",
    "random.random() #0-1 arasındaki rastgele sayılar\n",
    "\n",
    "#rastgele container elemanı seçer.\n",
    "random.choice(\"merhaba\")\n",
    "random.choice([1,199,200,500])\n",
    "\n",
    "#\n",
    "#liste elemanlarını karıştırmak için\n",
    "lst = [1,2,3,4,5,6]\n",
    "random.shuffle(lst) #orjinalini etkiler.\n",
    "\n",
    "lst"
   ]
  }
 ],
 "metadata": {
  "kernelspec": {
   "display_name": "Python 3",
   "language": "python",
   "name": "python3"
  },
  "language_info": {
   "codemirror_mode": {
    "name": "ipython",
    "version": 3
   },
   "file_extension": ".py",
   "mimetype": "text/x-python",
   "name": "python",
   "nbconvert_exporter": "python",
   "pygments_lexer": "ipython3",
   "version": "3.11.3"
  }
 },
 "nbformat": 4,
 "nbformat_minor": 2
}
