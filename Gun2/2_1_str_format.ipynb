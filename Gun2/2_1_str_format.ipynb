{
 "cells": [
  {
   "cell_type": "markdown",
   "metadata": {},
   "source": [
    "## Str Tipi ve Bazı Str Fonksiyonları"
   ]
  },
  {
   "cell_type": "code",
   "execution_count": 5,
   "metadata": {},
   "outputs": [
    {
     "data": {
      "text/plain": [
       "'Return a copy of the string converted to uppercase.'"
      ]
     },
     "execution_count": 5,
     "metadata": {},
     "output_type": "execute_result"
    }
   ],
   "source": [
    "dir(str)\n",
    "\n",
    "#\n",
    "#help(str.upper)\n",
    "str.upper.__doc__ #magic attritebute __doc__ ile fonksiyonun dökümantasyonuna ulaşabiliriz."
   ]
  },
  {
   "cell_type": "code",
   "execution_count": 6,
   "metadata": {},
   "outputs": [],
   "source": [
    "metin = \"mErhAba DünYAlı \" #sonunda bir space var."
   ]
  },
  {
   "cell_type": "code",
   "execution_count": 12,
   "metadata": {},
   "outputs": [
    {
     "data": {
      "text/plain": [
       "'Merhaba Dünyalı'"
      ]
     },
     "execution_count": 12,
     "metadata": {},
     "output_type": "execute_result"
    }
   ],
   "source": [
    "## Python da fonksiyon kullanma yöntemleri\n",
    "#1. tip üzerinden\n",
    "str.title(metin) #kelimelerin ilk harfleri büyük\n",
    "\n",
    "#2.deger üzerinden\n",
    "metin.title() \n",
    "\n",
    "#3. magic method\n",
    "len(metin) #containerlarin eleman sayısnı ölçer\n",
    "metin.__len__() #magic method ile len fonksiyonunu çağırdık.\n",
    "\n",
    "#4. arka arkaya kullanılabilr.\n",
    "metin.strip(\" \") #belirtilen veya varsayılan olara boşluk karekterini temizler.\n",
    "metin.strip(\" \").title()\n",
    "\n",
    "#5. iç içe kullanım\n",
    "str.title(metin.strip())\n",
    "\n",
    "#not: Fonskiyondan dönen değer ile istenen işlem yapılabilir."
   ]
  },
  {
   "cell_type": "markdown",
   "metadata": {},
   "source": [
    "### Bazı Foknksiyonlar"
   ]
  },
  {
   "cell_type": "code",
   "execution_count": 20,
   "metadata": {},
   "outputs": [
    {
     "data": {
      "text/plain": [
       "'merhaba DünYAlı '"
      ]
     },
     "execution_count": 20,
     "metadata": {},
     "output_type": "execute_result"
    }
   ],
   "source": [
    "metin.count(\"A\") #contianerlarda belirtilen eleman sayını getirir\n",
    "metin.lower().count(\"a\") #tüm harfleri küçültüp a harflerini saydık.\n",
    "\n",
    "#\n",
    "metin.center(30,'.') #30 kareter içesine ortala boşluklara . bas dedik\n",
    "\n",
    "#\n",
    "metin.find(\"A\") #ilk bulduğu A harfinin indexini getirir.\n",
    "metin[4] #indexi verip karekteri aldık. str sequence olduğu için index ile erişebiliriz.\n",
    "\n",
    "#\n",
    "metin.replace(\"ErhA\",\"erha\") #birinci parametreki metni bulur ikin parametre ile değiştirir."
   ]
  },
  {
   "cell_type": "code",
   "execution_count": 23,
   "metadata": {},
   "outputs": [
    {
     "data": {
      "text/plain": [
       "2"
      ]
     },
     "execution_count": 23,
     "metadata": {},
     "output_type": "execute_result"
    }
   ],
   "source": [
    "#soru:\n",
    "#metin değişkenindeki kelime adedini bulunuz.\n",
    "metin.strip().count(\" \") + 1 #kelimeler arasındaki boşluklardan kelime sayısını bulduk.\n",
    "#lstrip #soldakini kaldır.\n",
    "#rstrip #sağdakini kaldır."
   ]
  },
  {
   "cell_type": "markdown",
   "metadata": {},
   "source": [
    "### Split ve Join"
   ]
  },
  {
   "cell_type": "markdown",
   "metadata": {},
   "source": [
    "#### split"
   ]
  },
  {
   "cell_type": "code",
   "execution_count": 25,
   "metadata": {},
   "outputs": [
    {
     "data": {
      "text/plain": [
       "'Dünyalı'"
      ]
     },
     "execution_count": 25,
     "metadata": {},
     "output_type": "execute_result"
    }
   ],
   "source": [
    "metin.split() #varsayılan olarak white space leri göre parçalar.\n",
    "\n",
    "#son kelime nedir?\n",
    "metin.split()[-1].capitalize() #ilk harf büyük diğerleri küçük."
   ]
  },
  {
   "cell_type": "markdown",
   "metadata": {},
   "source": [
    "#### join"
   ]
  },
  {
   "cell_type": "code",
   "execution_count": 28,
   "metadata": {},
   "outputs": [
    {
     "data": {
      "text/plain": [
       "'mErhAba-DünYAlı'"
      ]
     },
     "execution_count": 28,
     "metadata": {},
     "output_type": "execute_result"
    }
   ],
   "source": [
    "#str tipinden aldığı liste elemanı belil bir karakter ile birleştirme işine yarar. geriye metin döner.\n",
    "\"-\".join(metin.split())\n",
    "\n",
    "#\n",
    "str.join(\"-\",metin.split()) #bu şekilde de kullanılabilir."
   ]
  },
  {
   "cell_type": "markdown",
   "metadata": {},
   "source": [
    "### is... fonksiyonları"
   ]
  },
  {
   "cell_type": "code",
   "execution_count": 35,
   "metadata": {},
   "outputs": [
    {
     "data": {
      "text/plain": [
       "False"
      ]
     },
     "execution_count": 35,
     "metadata": {},
     "output_type": "execute_result"
    }
   ],
   "source": [
    "\"2025\".isdigit() #sadece rakamlardan oluşuyor mu? True\n",
    "\"-2025\".isdigit() #False\n",
    "\n",
    "#\n",
    "\" \".isspace() #True\n",
    "\n",
    "#\n",
    "\"2025\".isnumeric() #karekterlerin hepsi rakam mı? True (unicode, roman rakamları da içerir)\n",
    "\"metin\".isalpha() #Alfabetik mi? True\n",
    "\"one2\".isalnum() #alfabetik ve rakam mı? True\n",
    "\n",
    "#\n",
    "\"pil@v\".isalnum() #alfabetik ve rakam mı? False @ işareti var."
   ]
  },
  {
   "cell_type": "markdown",
   "metadata": {},
   "source": [
    "### Kaçış Kareklerleri ve Özel Karekterler"
   ]
  },
  {
   "cell_type": "code",
   "execution_count": 38,
   "metadata": {},
   "outputs": [
    {
     "name": "stdout",
     "output_type": "stream",
     "text": [
      "İstanbul'un taşı toprağı altın.\n",
      "Bir şair: \"İstanbul'un taşı toprağı altın.\" demiş.\n"
     ]
    }
   ],
   "source": [
    "#metin oluştururken çift veya tek tırnak kullanabiliriz. Bunları makul şekilde kullanmak gerek.\n",
    "print(\"İstanbul'un taşı toprağı altın.\") #metinde tek tırnak ile ayraç var. metni çift tırnak iler tanımlarız.\n",
    "\n",
    "#her iki tırnak çeşidi de metinde kullanılırsa\n",
    "#print(\"Bir şair: \"İstanbul'un taşı toprağı altın.\" demiş.\") #çift tırnak içinde tek tırnak kullanımı. #Hata\n",
    "\n",
    "#çözüm kaçış karekterleri kullanmaktır. \\ işareti ile kaçış karekteri tanımlanır\n",
    "print(\"Bir şair: \\\"İstanbul'un taşı toprağı altın.\\\" demiş.\") #\\ sağındaki karektere özel bir anlam yükletmez. olduğu gibi yazar."
   ]
  },
  {
   "cell_type": "code",
   "execution_count": 42,
   "metadata": {},
   "outputs": [
    {
     "name": "stdout",
     "output_type": "stream",
     "text": [
      "C:\n",
      "albur\n",
      "C:\\nalbur\n",
      "C:\\nalbur\n",
      "'C:\\nalbur'\n"
     ]
    }
   ],
   "source": [
    "#\\n, \\r, \\t özel karekter mevcut.\n",
    "print(\"C:\\nalbur\") #\\n ile alt satıra geçildi. dosya yolu bozuldu.\n",
    "\n",
    "#nasıl çözeriz\n",
    "print(\"C:\\\\nalbur\") # \\ ile sonraki \\'ı aynen yaz anlam yükleme demiş olduk.\n",
    "#windoows için sola yatık çizgi \\\\ şeklinde kullanılır. dilersek sağa yatık / kullanılabilir.\n",
    "\n",
    "#çözüm 2\n",
    "print(r\"C:\\nalbur\") #r ile raw string ifade edilir. \n",
    "\n",
    "#\n",
    "yol = \"C:\\nalbur\"\n",
    "print(repr(yol)) #repr fonksiyonu ile metni raw string olarak yazdırır."
   ]
  },
  {
   "cell_type": "markdown",
   "metadata": {},
   "source": [
    "### ASCII, UNICODE"
   ]
  },
  {
   "cell_type": "code",
   "execution_count": 49,
   "metadata": {},
   "outputs": [
    {
     "data": {
      "text/plain": [
       "13"
      ]
     },
     "execution_count": 49,
     "metadata": {},
     "output_type": "execute_result"
    }
   ],
   "source": [
    "#karektelerin ascii kodlarını öğrenebiliriz.\n",
    "ord(\"A\") #65\n",
    "ord(\"a\") #97\n",
    "\n",
    "#print ettiğimizde görünmeyen karektelerin ascii kodlarına bakabiliriz.\n",
    "ord(\" \") #32\n",
    "ord(\"\\n\") #10\n",
    "ord(\"\\t\") #9   \n",
    "ord(\"\\r\") #13"
   ]
  },
  {
   "cell_type": "code",
   "execution_count": 50,
   "metadata": {},
   "outputs": [
    {
     "data": {
      "text/plain": [
       "'A'"
      ]
     },
     "execution_count": 50,
     "metadata": {},
     "output_type": "execute_result"
    }
   ],
   "source": [
    "#ascci kodları verilen karekteleri elde etmek için chr fonksiyonu kullanılır\n",
    "chr(65) #A  "
   ]
  },
  {
   "cell_type": "code",
   "execution_count": 58,
   "metadata": {},
   "outputs": [
    {
     "data": {
      "text/plain": [
       "'😊'"
      ]
     },
     "execution_count": 58,
     "metadata": {},
     "output_type": "execute_result"
    }
   ],
   "source": [
    "#unicode\n",
    "ord(\"耔\") #32788\n",
    "chr(32788) #耔\n",
    "\n",
    "#\n",
    "\"\\u221E\" #sonsuz işareti\n",
    "\"\\u03C0\" #pi sayısı\n",
    "\n",
    "#\n",
    "ord(\"∞\") #8734\n",
    "chr(8734)\n",
    "\n",
    "#\n",
    "\"\\U0001F60A\" #gülümseme emojisi"
   ]
  },
  {
   "cell_type": "markdown",
   "metadata": {},
   "source": [
    "### Encode, Decode"
   ]
  },
  {
   "cell_type": "code",
   "execution_count": null,
   "metadata": {},
   "outputs": [
    {
     "name": "stdout",
     "output_type": "stream",
     "text": [
      "b'krl deerli bir i'\n"
     ]
    },
    {
     "data": {
      "text/plain": [
       "'krl deerli bir i'"
      ]
     },
     "execution_count": 69,
     "metadata": {},
     "output_type": "execute_result"
    }
   ],
   "source": [
    "\"\"\"\n",
    "    windows-1252\n",
    "    windows-1254\n",
    "    ANSI\n",
    "    UTF-8\n",
    "    UTF-16\n",
    "    ISO-8859-9\n",
    "\"\"\"\n",
    "\n",
    "metin = \"kârlı değerli bir iş\"\n",
    "\n",
    "#\n",
    "#byteStr=metin.encode(\"utf-8\") #metni byte tipine çevirir. varsayılan değer utf-8 dir.\n",
    "byteStr=metin.encode(\"ASCII\",errors=\"ignore\") #ASCII kodlamasına çevirir. hata olan karekterleri yok sayar.\n",
    "print(byteStr)\n",
    "\n",
    "#\n",
    "byteStr.decode(\"ASCII\") #byte tipini metin tipine çevirir.\n",
    "#byteStr.decode(\"UTF-8\")"
   ]
  },
  {
   "cell_type": "markdown",
   "metadata": {},
   "source": [
    "### Karekter bazlı dönüşüm"
   ]
  },
  {
   "cell_type": "code",
   "execution_count": 72,
   "metadata": {},
   "outputs": [
    {
     "data": {
      "text/plain": [
       "'Merhaba'"
      ]
     },
     "execution_count": 72,
     "metadata": {},
     "output_type": "execute_result"
    }
   ],
   "source": [
    "metin = \"M!r?@b@\"\n",
    "\n",
    "#\n",
    "#metin = metin.replace(\"!\",\"\").replace(\"?\",\"\").replace(\"@\",\"\") #birden fazla replace kullanımı\n",
    "\n",
    "tbl = str.maketrans(\"!?@\",\"eha\") #parametrelerdeki aynı sıradaki karekterler birbirine çevirir.\n",
    "metin.translate(tbl) #translate tablosu vermemiz gerekli.\n",
    "\n",
    "#tbl\n",
    "#tbl {33: 101, 63: 104, 64: 97} şeklinde dict üretir."
   ]
  },
  {
   "cell_type": "markdown",
   "metadata": {},
   "source": [
    "### Str Formatlama Yöntemleri"
   ]
  }
 ],
 "metadata": {
  "kernelspec": {
   "display_name": "Python 3",
   "language": "python",
   "name": "python3"
  },
  "language_info": {
   "codemirror_mode": {
    "name": "ipython",
    "version": 3
   },
   "file_extension": ".py",
   "mimetype": "text/x-python",
   "name": "python",
   "nbconvert_exporter": "python",
   "pygments_lexer": "ipython3",
   "version": "3.11.3"
  }
 },
 "nbformat": 4,
 "nbformat_minor": 2
}
