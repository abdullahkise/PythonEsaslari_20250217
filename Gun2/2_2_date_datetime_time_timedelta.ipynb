{
 "cells": [
  {
   "cell_type": "markdown",
   "metadata": {},
   "source": [
    "## Zamansal Veri Tipleri\n",
    "\n",
    "* **datetime** kütüphanesi standart kütüphanedir (kurulumla birlikte gelir.) Zamansal tipleri barındırır.\n",
    "* Zamanla ilgili farklı kütüphaneler de mevcuttur. Örneğin **dateutil**, **pendulum** vb.\n",
    "* datetime içindeki tipler:\n",
    "    * **date**: Tarih\n",
    "    * **time**: Saat\n",
    "    * **datetime**: Tarih ve saat\n",
    "    * **timedelta**: İki tarih arasındaki fark\n",
    "\n"
   ]
  },
  {
   "cell_type": "code",
   "execution_count": 1,
   "metadata": {},
   "outputs": [],
   "source": [
    "from datetime import date, datetime, time, timedelta"
   ]
  },
  {
   "cell_type": "markdown",
   "metadata": {},
   "source": [
    "### date"
   ]
  },
  {
   "cell_type": "code",
   "execution_count": 10,
   "metadata": {},
   "outputs": [
    {
     "name": "stdout",
     "output_type": "stream",
     "text": [
      "2025-02-18\n"
     ]
    },
    {
     "data": {
      "text/plain": [
       "1"
      ]
     },
     "execution_count": 10,
     "metadata": {},
     "output_type": "execute_result"
    }
   ],
   "source": [
    "dir(date)\n",
    "\n",
    "#\n",
    "bugun = date.today()\n",
    "type(bugun) #datetime.date nesnesi içerisinde başka nesneleri barındırıyor.\n",
    "\n",
    "#\n",
    "bugun #datetime.date(2025, 2, 18)\n",
    "print(bugun) #2025-02-18\n",
    "\n",
    "#attribute\n",
    "bugun.year\n",
    "bugun.month\n",
    "bugun.day\n",
    "\n",
    "#\n",
    "bugun.weekday() #0-6 arası günlerde 0 pazartesi, 6 pazar"
   ]
  },
  {
   "cell_type": "markdown",
   "metadata": {},
   "source": [
    "### datetime"
   ]
  },
  {
   "cell_type": "code",
   "execution_count": 19,
   "metadata": {},
   "outputs": [
    {
     "name": "stdout",
     "output_type": "stream",
     "text": [
      "2025-02-18 12:11:41.816725\n",
      "<class 'datetime.datetime'>\n"
     ]
    },
    {
     "data": {
      "text/plain": [
       "12"
      ]
     },
     "execution_count": 19,
     "metadata": {},
     "output_type": "execute_result"
    }
   ],
   "source": [
    "dir(datetime)\n",
    "\n",
    "#her ikisi de bugunun tarih ve saatini verir.\n",
    "bugun = datetime.today()\n",
    "bugun = datetime.now()\n",
    "\n",
    "#\n",
    "print(bugun)\n",
    "print(type(bugun))\n",
    "\n",
    "#\n",
    "bugun.date() #tipin tarih kısmına odaklanabiliriz.\n",
    "bugun.date().year\n",
    "bugun.date().month\n",
    "\n",
    "#\n",
    "bugun.time() #tipin zaman kısmına odaklanalım.\n",
    "bugun.time().hour\n",
    "bugun.time().minute\n",
    "\n",
    "#attributelere direkt datetime üzerinden ulaşmak da mümkün.\n",
    "bugun.year\n",
    "bugun.hour  "
   ]
  },
  {
   "cell_type": "markdown",
   "metadata": {},
   "source": [
    "### Tarih Oluşturmak"
   ]
  },
  {
   "cell_type": "code",
   "execution_count": 23,
   "metadata": {},
   "outputs": [
    {
     "name": "stdout",
     "output_type": "stream",
     "text": [
      "2025-02-18 12:30:45\n",
      "<class 'datetime.datetime'>\n"
     ]
    }
   ],
   "source": [
    "#1.yöntem\n",
    "bugun = date(year=2025, month=2, day=18) #datetime.date\n",
    "bugun = datetime(year=2025, month=2, day=18, hour=12, minute=30, second=45) #datetime.datetime\n",
    "\n",
    "print(bugun)\n",
    "print(type(bugun))"
   ]
  },
  {
   "cell_type": "markdown",
   "metadata": {},
   "source": [
    "#### `strptime()` ile giriş formatını belirterek metni tarihe çevirmek\n",
    "* tarihle ilgili parçaları ifade etmek için format stringler mevcut. notlarda var.\n",
    "* mesela %Y yıl, %m ay, %d gün, %H saat, %M dakika, %S saniye\n",
    "* strptime fonksiyonu sadece datetime.datetime üzerinden erişilebilir."
   ]
  },
  {
   "cell_type": "code",
   "execution_count": 25,
   "metadata": {},
   "outputs": [
    {
     "name": "stdout",
     "output_type": "stream",
     "text": [
      "2025-02-18 00:00:00\n",
      "<class 'datetime.datetime'>\n"
     ]
    }
   ],
   "source": [
    "#2.yöntem\n",
    "str_tarih = \"18-02-2025\"\n",
    "\n",
    "dt_tarih = datetime.strptime(str_tarih,\"%d-%m-%Y\")\n",
    "\n",
    "#\n",
    "print(dt_tarih)\n",
    "print(type(dt_tarih))"
   ]
  },
  {
   "cell_type": "markdown",
   "metadata": {},
   "source": [
    "#### `strftime` ile çıktı formatını belirtebiliriz."
   ]
  },
  {
   "cell_type": "code",
   "execution_count": 28,
   "metadata": {},
   "outputs": [
    {
     "name": "stdout",
     "output_type": "stream",
     "text": [
      "2025-02-18 00:00:00\n"
     ]
    },
    {
     "data": {
      "text/plain": [
       "'Tuesday 18. February 2025'"
      ]
     },
     "execution_count": 28,
     "metadata": {},
     "output_type": "execute_result"
    }
   ],
   "source": [
    "dt_tarih\n",
    "print(dt_tarih) #iso formatında görünür.\n",
    "\n",
    "dt_tarih.strftime(\"%A %d. %B %Y\")"
   ]
  },
  {
   "cell_type": "markdown",
   "metadata": {},
   "source": [
    "### Tarihi `replace` ile değiştirmek"
   ]
  },
  {
   "cell_type": "code",
   "execution_count": 33,
   "metadata": {},
   "outputs": [
    {
     "name": "stdout",
     "output_type": "stream",
     "text": [
      "2025-02-18 12:20:00\n"
     ]
    }
   ],
   "source": [
    "dt_tarih = dt_tarih.replace(day=18, hour=12, minute=20) #orjinalini etkilemediği için tekrar atama yapalım.\n",
    "\n",
    "print(dt_tarih)\n"
   ]
  },
  {
   "cell_type": "markdown",
   "metadata": {},
   "source": [
    "#### timedelta"
   ]
  },
  {
   "cell_type": "code",
   "execution_count": null,
   "metadata": {},
   "outputs": [
    {
     "name": "stdout",
     "output_type": "stream",
     "text": [
      "315 days, 11:35:59.288679\n",
      "<class 'datetime.timedelta'>\n",
      "315\n",
      "41759\n",
      "27257759.288679\n"
     ]
    },
    {
     "data": {
      "text/plain": [
       "315.4583333333333"
      ]
     },
     "execution_count": 45,
     "metadata": {},
     "output_type": "execute_result"
    }
   ],
   "source": [
    "dir(timedelta)\n",
    "\n",
    "#\n",
    "yilSonunaKadarNeKadarVar= datetime(2025,12,31) - datetime.now()\n",
    "\n",
    "#\n",
    "print(yilSonunaKadarNeKadarVar) \n",
    "print(type(yilSonunaKadarNeKadarVar))   #<class 'datetime.timedelta'>\n",
    "\n",
    "#\n",
    "print(yilSonunaKadarNeKadarVar.days) #yıl sonuna kadar kalan gün sayısı\n",
    "print(yilSonunaKadarNeKadarVar.seconds) #saniye cinsinden kalan süre\n",
    "\n",
    "#\n",
    "print(yilSonunaKadarNeKadarVar.total_seconds()) #toplam saniye cinsinden kalan süre\n",
    "\n",
    "#yilSonunaKadarNeKadarVar.total_seconds()//60//60/24 # küsüratlı şekilde kaç gün."
   ]
  },
  {
   "cell_type": "code",
   "execution_count": 47,
   "metadata": {},
   "outputs": [
    {
     "data": {
      "text/plain": [
       "datetime.datetime(2025, 3, 11, 12, 25, 49, 739228)"
      ]
     },
     "execution_count": 47,
     "metadata": {},
     "output_type": "execute_result"
    }
   ],
   "source": [
    "#zaman farklı tanımlayabiliriz. Bu farkı matematiksel işlemlere tabi tutabilriz.\n",
    "yedi_gun = timedelta(days=7) #7 günlük fark. pozitif veya negatif değerler verebiliriz. pozitif 7 gün tanımladık.\n",
    "\n",
    "#\n",
    "datetime.now() + yedi_gun #7 gün sonrası. matematiksel işlem yapılabilir.\n",
    "datetime.now() + yedi_gun*3 #3 hafta sonrası"
   ]
  },
  {
   "cell_type": "code",
   "execution_count": null,
   "metadata": {},
   "outputs": [
    {
     "name": "stdout",
     "output_type": "stream",
     "text": [
      "<class 'datetime.datetime'>\n",
      "Tuesday\n"
     ]
    },
    {
     "data": {
      "text/plain": [
       "\"'Tuesday'\""
      ]
     },
     "execution_count": 54,
     "metadata": {},
     "output_type": "execute_result"
    }
   ],
   "source": [
    "#soru:\n",
    "# Kullanıcıdan alınan tarihe bakalım ve kulanıcının hangi gün doğduğunu bulalım. (gün adı gelsin.)\n",
    "str_tarih = '01-05-1980' #input(\"Doğum tarihinizi giriniz:\")\n",
    "\n",
    "#\n",
    "dt_tarih = datetime.strptime(str_tarih, \"%d-%M-%Y\")\n",
    "\n",
    "#\n",
    "print(type(dt_tarih))\n",
    "print(dt_tarih.strftime(\"%A\"))\n",
    "\n",
    "#\n",
    "format(dt_tarih,\"%A\")\n",
    "f\"{dt_tarih:'%A'}\""
   ]
  },
  {
   "cell_type": "code",
   "execution_count": null,
   "metadata": {},
   "outputs": [
    {
     "name": "stdout",
     "output_type": "stream",
     "text": [
      "Siz doğalı 16_485 gün , 49950 saniye oldu.\n",
      "Siz doğalı toplamda 1,424,353,951 saniye oldu.\n"
     ]
    }
   ],
   "source": [
    "#soru:\n",
    "#doğalı kaç gün, kaç saniye olmuş? toplamda kaç saniye yaşamış?\n",
    "gecen_sure = datetime.now() - dt_tarih\n",
    "\n",
    "#\n",
    "print(f\"Siz doğalı {gecen_sure.days:_} gün , {gecen_sure.seconds} saniye oldu.\")\n",
    "print(f\"Siz doğalı toplamda {gecen_sure.total_seconds():,.0f} saniye oldu.\")"
   ]
  }
 ],
 "metadata": {
  "kernelspec": {
   "display_name": "Python 3",
   "language": "python",
   "name": "python3"
  },
  "language_info": {
   "codemirror_mode": {
    "name": "ipython",
    "version": 3
   },
   "file_extension": ".py",
   "mimetype": "text/x-python",
   "name": "python",
   "nbconvert_exporter": "python",
   "pygments_lexer": "ipython3",
   "version": "3.11.3"
  }
 },
 "nbformat": 4,
 "nbformat_minor": 2
}
