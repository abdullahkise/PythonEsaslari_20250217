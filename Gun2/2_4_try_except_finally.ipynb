{
 "cells": [
  {
   "cell_type": "markdown",
   "metadata": {},
   "source": [
    "## Hata Tipleri ve Hata Yakalama\n",
    "![HataYonetimiveHataTurleri.png](HataYonetimiveHataTurleri.png)"
   ]
  },
  {
   "cell_type": "code",
   "execution_count": 1,
   "metadata": {},
   "outputs": [],
   "source": [
    "#1. mantık hatası\n",
    "positifTamsayi = 5\n",
    "\n",
    "if positifTamsayi<0:\n",
    "    print(\"Bu kod bloguna hiç giirlmeyecek.\")"
   ]
  },
  {
   "cell_type": "code",
   "execution_count": null,
   "metadata": {},
   "outputs": [
    {
     "ename": "SyntaxError",
     "evalue": "cannot assign to expression here. Maybe you meant '==' instead of '='? (1876666575.py, line 4)",
     "output_type": "error",
     "traceback": [
      "\u001b[1;36m  Cell \u001b[1;32mIn[2], line 4\u001b[1;36m\u001b[0m\n\u001b[1;33m    if x%2=0:\u001b[0m\n\u001b[1;37m       ^\u001b[0m\n\u001b[1;31mSyntaxError\u001b[0m\u001b[1;31m:\u001b[0m cannot assign to expression here. Maybe you meant '==' instead of '='?\n"
     ]
    }
   ],
   "source": [
    "#2. syntax hatası\n",
    "x = 12\n",
    "\n",
    "if x%2=0: ##= atama operatorudur. == karşılaştımra operatorudur. == kullanmalıydık.\n",
    "    print(\"Çift sayıdır.\")"
   ]
  },
  {
   "cell_type": "code",
   "execution_count": 29,
   "metadata": {},
   "outputs": [
    {
     "name": "stdout",
     "output_type": "stream",
     "text": [
      "Bölme işleminde sayıdal değerler kullanın\n",
      "Sistem hata mesajı: 'unsupported operand type(s) for /: 'int' and 'str''\n",
      "İşlem tamamlandı sonuc='Tip hatası'\n"
     ]
    }
   ],
   "source": [
    "#3. run-time hataları\n",
    "x = 12\n",
    "y = \"metin\" #0 #-3\n",
    "\n",
    "#\n",
    "'''\n",
    "    y = 0 ise ZeroDivisionError hatasını verir. sayı/0 sonsuzdur. bu hatayı verir.\n",
    "'''\n",
    "\n",
    "sonuc = \"\"\n",
    "try:\n",
    "    sonuc=x/y\n",
    "    \n",
    "    #hata yoksa buraya kadar gelir.\n",
    "    #print(sonuc)\n",
    "except ZeroDivisionError as ex:\n",
    "    print(\"Sıfıra bölünme hatası var. y = 0 olamaz.\")\n",
    "    print(f\"Sistem hata mesajı: '{ex}'\")\n",
    "\n",
    "    #\n",
    "    sonuc = \"\\u221E\"\n",
    "except TypeError as ex:\n",
    "    print(\"Bölme işleminde sayıdal değerler kullanın\")\n",
    "    print(f\"Sistem hata mesajı: '{ex}'\")\n",
    "\n",
    "    #\n",
    "    sonuc = \"Tip hatası\"\n",
    "# except Exception as ex: #except: #Genel istisna tipi olan Exception tipine denk gelince çalışır.\n",
    "#     print(\"Beklenmeyen bir hata ile karşılaşıldı.\")\n",
    "#     print(f\"Hata mesajı : '{ex}'\")\n",
    "#     #genel Exception tipi en alta yazılır.\n",
    "else:\n",
    "    #hata olmazsa çalışacak olan blok\n",
    "    print(\"İşlem hatasız şekilde tamamlandı.\")\n",
    "finally:\n",
    "    #hata olsa da olmasa da çalışır.\n",
    "    #kaynakları serbest bırakmak için bağlantıları kapatmak için kullanılabilir.\n",
    "    print(f\"İşlem tamamlandı {sonuc=}\")\n",
    "\n"
   ]
  },
  {
   "cell_type": "markdown",
   "metadata": {},
   "source": [
    "### `raise` ile bilinçli çekilde hata (istisna - excetion) üretmek mümkün"
   ]
  },
  {
   "cell_type": "code",
   "execution_count": null,
   "metadata": {},
   "outputs": [],
   "source": [
    "#Soru: gömülü hata tipleri nelerdir? __builtins__ error olanlar.\n"
   ]
  }
 ],
 "metadata": {
  "kernelspec": {
   "display_name": "Python 3",
   "language": "python",
   "name": "python3"
  },
  "language_info": {
   "codemirror_mode": {
    "name": "ipython",
    "version": 3
   },
   "file_extension": ".py",
   "mimetype": "text/x-python",
   "name": "python",
   "nbconvert_exporter": "python",
   "pygments_lexer": "ipython3",
   "version": "3.11.3"
  }
 },
 "nbformat": 4,
 "nbformat_minor": 2
}
