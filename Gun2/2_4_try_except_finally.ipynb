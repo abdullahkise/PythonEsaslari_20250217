{
 "cells": [
  {
   "cell_type": "markdown",
   "metadata": {},
   "source": [
    "## Hata Tipleri ve Hata Yakalama\n",
    "![HataYonetimiveHataTurleri.png](HataYonetimiveHataTurleri.png)"
   ]
  },
  {
   "cell_type": "code",
   "execution_count": 1,
   "metadata": {},
   "outputs": [],
   "source": [
    "#1. mantık hatası\n",
    "positifTamsayi = 5\n",
    "\n",
    "if positifTamsayi<0:\n",
    "    print(\"Bu kod bloguna hiç giirlmeyecek.\")"
   ]
  },
  {
   "cell_type": "code",
   "execution_count": null,
   "metadata": {},
   "outputs": [
    {
     "ename": "SyntaxError",
     "evalue": "cannot assign to expression here. Maybe you meant '==' instead of '='? (1876666575.py, line 4)",
     "output_type": "error",
     "traceback": [
      "\u001b[1;36m  Cell \u001b[1;32mIn[2], line 4\u001b[1;36m\u001b[0m\n\u001b[1;33m    if x%2=0:\u001b[0m\n\u001b[1;37m       ^\u001b[0m\n\u001b[1;31mSyntaxError\u001b[0m\u001b[1;31m:\u001b[0m cannot assign to expression here. Maybe you meant '==' instead of '='?\n"
     ]
    }
   ],
   "source": [
    "#2. syntax hatası\n",
    "x = 12\n",
    "\n",
    "if x%2=0: ##= atama operatorudur. == karşılaştımra operatorudur. == kullanmalıydık.\n",
    "    print(\"Çift sayıdır.\")"
   ]
  },
  {
   "cell_type": "code",
   "execution_count": 29,
   "metadata": {},
   "outputs": [
    {
     "name": "stdout",
     "output_type": "stream",
     "text": [
      "Bölme işleminde sayıdal değerler kullanın\n",
      "Sistem hata mesajı: 'unsupported operand type(s) for /: 'int' and 'str''\n",
      "İşlem tamamlandı sonuc='Tip hatası'\n"
     ]
    }
   ],
   "source": [
    "#3. run-time hataları\n",
    "x = 12\n",
    "y = \"metin\" #0 #-3\n",
    "\n",
    "#\n",
    "'''\n",
    "    y = 0 ise ZeroDivisionError hatasını verir. sayı/0 sonsuzdur. bu hatayı verir.\n",
    "'''\n",
    "\n",
    "sonuc = \"\"\n",
    "try:\n",
    "    sonuc=x/y\n",
    "    \n",
    "    #hata yoksa buraya kadar gelir.\n",
    "    #print(sonuc)\n",
    "except ZeroDivisionError as ex:\n",
    "    print(\"Sıfıra bölünme hatası var. y = 0 olamaz.\")\n",
    "    print(f\"Sistem hata mesajı: '{ex}'\")\n",
    "\n",
    "    #\n",
    "    sonuc = \"\\u221E\"\n",
    "except TypeError as ex:\n",
    "    print(\"Bölme işleminde sayıdal değerler kullanın\")\n",
    "    print(f\"Sistem hata mesajı: '{ex}'\")\n",
    "\n",
    "    #\n",
    "    sonuc = \"Tip hatası\"\n",
    "# except Exception as ex: #except: #Genel istisna tipi olan Exception tipine denk gelince çalışır.\n",
    "#     print(\"Beklenmeyen bir hata ile karşılaşıldı.\")\n",
    "#     print(f\"Hata mesajı : '{ex}'\")\n",
    "#     #genel Exception tipi en alta yazılır.\n",
    "else:\n",
    "    #hata olmazsa çalışacak olan blok\n",
    "    print(\"İşlem hatasız şekilde tamamlandı.\")\n",
    "finally:\n",
    "    #hata olsa da olmasa da çalışır.\n",
    "    #kaynakları serbest bırakmak için bağlantıları kapatmak için kullanılabilir.\n",
    "    print(f\"İşlem tamamlandı {sonuc=}\")\n",
    "\n"
   ]
  },
  {
   "cell_type": "markdown",
   "metadata": {},
   "source": [
    "### `raise` ile bilinçli çekilde hata (istisna - excetion) üretmek mümkün"
   ]
  },
  {
   "cell_type": "code",
   "execution_count": 32,
   "metadata": {},
   "outputs": [],
   "source": [
    "#Soru: gömülü hata tipleri nelerdir? __builtins__ error olanlar.\n",
    "#[e for e in dir(__builtins__) if \"Error\" in e]"
   ]
  },
  {
   "cell_type": "code",
   "execution_count": 39,
   "metadata": {},
   "outputs": [
    {
     "name": "stdout",
     "output_type": "stream",
     "text": [
      "Sistem hata mesajı : Negatif sayıları çevirmek için Pro lisans kullanmanız gerekir.\n"
     ]
    }
   ],
   "source": [
    "#örn:\n",
    "#free lisansda sadece pozitif sıcaklıkarın hesaplanmasını negatiflerde hata vermesini isteyelim.\n",
    "c_str = \"-10\" #input(\"Sıcaklık giriniz (C cinsinden):\")\n",
    "\n",
    "#\n",
    "try:\n",
    "    C = float(c_str) #tip dönüşümü yapalım.\n",
    "\n",
    "    #-------------------\n",
    "    if C<0:\n",
    "        raise PermissionError(\"Negatif sayıları çevirmek için Pro lisans kullanmanız gerekir.\") #yapay bir hata. #Permission sistemde bulunan bir hata tipidir.\n",
    "    #-------------------\n",
    "    #hata yoksa hesaplama yapalım\n",
    "    F = 1.8 * C + 32\n",
    "    print(f\"{C} C = {F} F\")\n",
    "except Exception as ex:\n",
    "    print(f\"Sistem hata mesajı : {ex}\")\n"
   ]
  },
  {
   "cell_type": "markdown",
   "metadata": {},
   "source": [
    "### Kendi hata tiplerimizi oluşturalım"
   ]
  },
  {
   "cell_type": "code",
   "execution_count": 44,
   "metadata": {},
   "outputs": [],
   "source": [
    "#print(type(ZeroDivisionError)) #<class 'type'>\n",
    "\n",
    "#temel hata tipinden kalırsak o tipin özelliklerini barındırır. Böylece python engine bunu gerçek bir hata nesnesi olarak tanır.\n",
    "class NegatifSicakliklariDesteklemiyoruzError(Exception): #(Exception) ile Exception tipinden kalıtmış yani genel özellikleri devralmış olduk.\n",
    "    #yeni class'a metot ve attribute tanımalayabilirim. Ancak şimdilik ihtiyac yok.\n",
    "    pass #kodlar için yer tutucudur. #hata vermemesi için en azondan pass yazmamız gerekir.\n"
   ]
  },
  {
   "cell_type": "code",
   "execution_count": null,
   "metadata": {},
   "outputs": [
    {
     "ename": "NegatifSicakliklariDesteklemiyoruzError",
     "evalue": "Negatif sıcaklıkları desteklemiyoruz.",
     "output_type": "error",
     "traceback": [
      "\u001b[1;31m---------------------------------------------------------------------------\u001b[0m",
      "\u001b[1;31mNegatifSicakliklariDesteklemiyoruzError\u001b[0m   Traceback (most recent call last)",
      "Cell \u001b[1;32mIn[46], line 1\u001b[0m\n\u001b[1;32m----> 1\u001b[0m \u001b[38;5;28;01mraise\u001b[39;00m NegatifSicakliklariDesteklemiyoruzError(\u001b[38;5;124m\"\u001b[39m\u001b[38;5;124mNegatif sıcaklıkları desteklemiyoruz.\u001b[39m\u001b[38;5;124m\"\u001b[39m)\n",
      "\u001b[1;31mNegatifSicakliklariDesteklemiyoruzError\u001b[0m: Negatif sıcaklıkları desteklemiyoruz."
     ]
    }
   ],
   "source": [
    "raise NegatifSicakliklariDesteklemiyoruzError(\"Negatif sıcaklıkları desteklemiyoruz.\") #oluşturduğumuz hatayı raise ile ürettik."
   ]
  }
 ],
 "metadata": {
  "kernelspec": {
   "display_name": "Python 3",
   "language": "python",
   "name": "python3"
  },
  "language_info": {
   "codemirror_mode": {
    "name": "ipython",
    "version": 3
   },
   "file_extension": ".py",
   "mimetype": "text/x-python",
   "name": "python",
   "nbconvert_exporter": "python",
   "pygments_lexer": "ipython3",
   "version": "3.11.3"
  }
 },
 "nbformat": 4,
 "nbformat_minor": 2
}
