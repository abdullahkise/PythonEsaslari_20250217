{
 "cells": [
  {
   "cell_type": "markdown",
   "metadata": {},
   "source": [
    "## ConfigParser Kullanimi\n",
    "* Dışarıdaki bir dosyaya yazılan config bilgisini program içerisinde okuyabiliriz.\n",
    "* Bunun farklı yöntemleri var. ConfigParser kullanılan bir yöntemdir."
   ]
  },
  {
   "cell_type": "markdown",
   "metadata": {},
   "source": [
    "### Dosyalara Ham Veri Yazma / Okuma"
   ]
  },
  {
   "cell_type": "code",
   "execution_count": 1,
   "metadata": {},
   "outputs": [],
   "source": [
    "import os\n",
    "\n",
    "#\n",
    "os.makedirs(\"databases\", exist_ok=True)"
   ]
  },
  {
   "cell_type": "code",
   "execution_count": 4,
   "metadata": {},
   "outputs": [],
   "source": [
    "\"\"\"\n",
    "    Dosya Yolları:\n",
    "\n",
    "    > linux : / ile belirtiriz.\n",
    "    > windows : / veya \\\\ ile belirtiriz. r veya repr ile raw string oluşturabiliriz.\n",
    "\n",
    "    #\n",
    "    absolute path:\n",
    "        * linuxta : /home/user/Desktop/file.txt\n",
    "        * windows : C:\\\\Users\\\\Desktop\\\\file.txt\n",
    "    relative path:\n",
    "        * databases/file.txt\n",
    "            * . ile bulunduğumuz çalışma yolunu\n",
    "            * .. ile bir üst yolu işaret ederiz.\n",
    "\n",
    "    dosya açma modlar:\n",
    "    - w write\n",
    "    - r read\n",
    "    - a append\n",
    "\"\"\"\n",
    "\n",
    "#filehandle ile okuyup yazabiliriz.\n",
    "fh = open(file=\"./databases/file.txt\", mode=\"w\", encoding=\"UTF-8\")\n",
    "\n",
    "#\n",
    "fh.writelines(\"merhaba dünyalı\")\n",
    "\n",
    "#\n",
    "fh.close() #iş bittikten sonra dosya kapatılmalıdır. Değişiklikler yansır. flush olur."
   ]
  },
  {
   "cell_type": "code",
   "execution_count": 11,
   "metadata": {},
   "outputs": [
    {
     "data": {
      "text/plain": [
       "['merhaba dünyalı']"
      ]
     },
     "execution_count": 11,
     "metadata": {},
     "output_type": "execute_result"
    }
   ],
   "source": [
    "fh = open(file=\"./databases/file.txt\", mode=\"r\", encoding=\"UTF-8\")\n",
    "\n",
    "#\n",
    "fh.read()\n",
    "\n",
    "#\n",
    "fh.seek(0) #imleci başa alır.\n",
    "fh.readlines() #okurken imlec sona gelir boş döner.\n",
    "\n",
    "#fh.close()"
   ]
  },
  {
   "cell_type": "markdown",
   "metadata": {},
   "source": [
    "### ConfigParser Kullanımi\n",
    "* `ayarlar.ini` dosyası oluşturalım aşağıdaki şekilde bazı configler girelim.\n",
    "\n",
    "```\n",
    "[section]\n",
    "config1 = value1\n",
    "config = value2\n",
    "\n",
    "[onemliSayilar]\n",
    "piSayisi: 3.14\n",
    "eSayisi : 2.71\n",
    "```"
   ]
  },
  {
   "cell_type": "code",
   "execution_count": 12,
   "metadata": {},
   "outputs": [],
   "source": [
    "from configparser import ConfigParser"
   ]
  },
  {
   "cell_type": "code",
   "execution_count": 13,
   "metadata": {},
   "outputs": [],
   "source": [
    "cp = ConfigParser()"
   ]
  },
  {
   "cell_type": "markdown",
   "metadata": {},
   "source": [
    "#### Config Parser Okuma İşlemi"
   ]
  },
  {
   "cell_type": "code",
   "execution_count": 14,
   "metadata": {},
   "outputs": [
    {
     "data": {
      "text/plain": [
       "['./databases/ayarlar.ini']"
      ]
     },
     "execution_count": 14,
     "metadata": {},
     "output_type": "execute_result"
    }
   ],
   "source": [
    "cp.read(\"./databases/ayarlar.ini\",encoding=\"UTF-8\")"
   ]
  },
  {
   "cell_type": "code",
   "execution_count": 18,
   "metadata": {},
   "outputs": [
    {
     "data": {
      "text/plain": [
       "3.14"
      ]
     },
     "execution_count": 18,
     "metadata": {},
     "output_type": "execute_result"
    }
   ],
   "source": [
    "#\n",
    "cp.sections() #sectionların listesi\n",
    "\n",
    "#str olarak okumak için get.\n",
    "cp[\"onemliSayilar\"].get(\"piSayisi\")\n",
    "\n",
    "#float olarak okumak için \n",
    "cp[\"onemliSayilar\"].getfloat(\"piSayisi\")"
   ]
  },
  {
   "cell_type": "markdown",
   "metadata": {},
   "source": [
    "#### ConfigParser Yazma İşlemi"
   ]
  },
  {
   "cell_type": "code",
   "execution_count": 20,
   "metadata": {},
   "outputs": [],
   "source": [
    "cp[\"sonradanEklenenBolum\"] = {\n",
    "                                \"arkaplanRengi\":\"red\",\n",
    "                                \"fontBuyuklugu\":12\n",
    "}"
   ]
  },
  {
   "cell_type": "code",
   "execution_count": 21,
   "metadata": {},
   "outputs": [
    {
     "data": {
      "text/plain": [
       "['section', 'onemliSayilar', 'sonradanEklenenBolum']"
      ]
     },
     "execution_count": 21,
     "metadata": {},
     "output_type": "execute_result"
    }
   ],
   "source": [
    "cp.sections()"
   ]
  },
  {
   "cell_type": "code",
   "execution_count": 22,
   "metadata": {},
   "outputs": [],
   "source": [
    "fh = open(\"./databases/ayarlar.ini\", mode=\"w\", encoding=\"UTF-8\")\n",
    "\n",
    "#\n",
    "cp.write(fh)\n",
    "\n",
    "fh.close()"
   ]
  }
 ],
 "metadata": {
  "kernelspec": {
   "display_name": "Python 3",
   "language": "python",
   "name": "python3"
  },
  "language_info": {
   "codemirror_mode": {
    "name": "ipython",
    "version": 3
   },
   "file_extension": ".py",
   "mimetype": "text/x-python",
   "name": "python",
   "nbconvert_exporter": "python",
   "pygments_lexer": "ipython3",
   "version": "3.11.3"
  }
 },
 "nbformat": 4,
 "nbformat_minor": 2
}
