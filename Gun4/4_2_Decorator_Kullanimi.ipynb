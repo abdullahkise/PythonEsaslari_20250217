{
 "cells": [
  {
   "cell_type": "markdown",
   "metadata": {},
   "source": [
    "## Decorator Kullanımı\n",
    "* Veritabanındaki triggerlara benzetebiliriz\n",
    "* Mesela bir fonksiyon çalıştırmak isteyelim.\n",
    "  * Fonksiyondan önce ve sonra bir takım işlemler yapmak isteyebiliriz.\n",
    "  * Fonksiyon yerine bir işlem yapmak isteyebiliriz."
   ]
  },
  {
   "cell_type": "code",
   "execution_count": 15,
   "metadata": {},
   "outputs": [],
   "source": [
    "def decorator_loglayici(fnk):\n",
    "    #1.\n",
    "    #return fnk #decorator tarafından yakalanan fonksiyon dönsün.\n",
    "\n",
    "    #2.başka bir fonksiyon döndürelim\n",
    "    #return lambda : \"ben docoratorde tanımlı fonksiyondan geldim.\"\n",
    "\n",
    "    #------------------------\n",
    "    #3.\n",
    "    def fnk_performansOlcumu():\n",
    "        print(\"Loglama işlemi başlatılıyor....\")\n",
    "        #----\n",
    "        fnk() #fnk orjinal fonksiyondu bu da çalışsın.\n",
    "        #----\n",
    "        print(\"Loglama işlemi tamamlandı!\")\n",
    "\n",
    "    return fnk_performansOlcumu"
   ]
  },
  {
   "cell_type": "code",
   "execution_count": 16,
   "metadata": {},
   "outputs": [],
   "source": [
    "@decorator_loglayici #decorator fonksiyonu belirttik.\n",
    "def istenenFonksiyon():\n",
    "    print(\">>> Merhaba ben istenen fonksiyonum <<<\")"
   ]
  },
  {
   "cell_type": "code",
   "execution_count": 17,
   "metadata": {},
   "outputs": [
    {
     "name": "stdout",
     "output_type": "stream",
     "text": [
      "Loglama işlemi başlatılıyor....\n",
      ">>> Merhaba ben istenen fonksiyonum <<<\n",
      "Loglama işlemi tamamlandı!\n"
     ]
    }
   ],
   "source": [
    "istenenFonksiyon() #() ile decoratorden dönen fonksiyonu çalıştırdık."
   ]
  }
 ],
 "metadata": {
  "kernelspec": {
   "display_name": "Python 3",
   "language": "python",
   "name": "python3"
  },
  "language_info": {
   "codemirror_mode": {
    "name": "ipython",
    "version": 3
   },
   "file_extension": ".py",
   "mimetype": "text/x-python",
   "name": "python",
   "nbconvert_exporter": "python",
   "pygments_lexer": "ipython3",
   "version": "3.11.3"
  }
 },
 "nbformat": 4,
 "nbformat_minor": 2
}
