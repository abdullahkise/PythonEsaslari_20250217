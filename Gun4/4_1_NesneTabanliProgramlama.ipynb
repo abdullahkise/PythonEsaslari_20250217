{
 "cells": [
  {
   "cell_type": "markdown",
   "metadata": {},
   "source": [
    "## Nesne Tabanlı Programlama\n",
    "### Giriş:\n",
    "* Nesne tabanlı programlama (OOP), programlamada kullanılan bir paradigmadır. \n",
    "  * Bu paradigma, programcıların programları oluştururken, programdaki her bir nesneyi tanımlamalarına ve bu nesneler arasındaki ilişkileri belirlemelerine dayanır.\n",
    "* Her şey bir Object (Nesne) olarak düşünülür.\n",
    "  * **Class** (Sınıf) adı verilen bir **şablon** oluşturulur ve bu şablona göre nesneler oluşturulur.\n",
    "  * Mesela Personel adında bir sınıf oluşturulabilir ve bu sınıfa göre birçok personel nesnesi oluşturulabilir. Buna nesne örneği (**instance**) denir.\n",
    "    * Örneğin: Öğretmen, güvenlik görevlisi, sekreter, müdür gibi.\n",
    "    * Personel tipinin özellikleri class içerisinde değişkenlerle tanımlanır. Bunlara **Attribute** ve/veya **Property** denir.\n",
    "    * Personelin yapabileceği işlemler ise class içerisinde fonksiyonlarla tanımlanır. Bunlara **Method** denir.\n",
    "    * Nesnelerin özellik ve işlevleri gizli olabilir.\n",
    "* Nesneler birbirinden **kalıtılabilir**. Yani bazı özellikleri ve işlevleri miras alabilirler.\n",
    "  * **Base Class** (temel sınıf), **Super Class** (üst sınıf)'tan miras aldığı şeyleri aynen kullanabilir veya farklı biçimlerde kullanabilir.\n",
    "  * Bir özelliğin sonraki nesillere geçmemesi için **protected** veya **private** yapılabilir.\n",
    "\n",
    "### OOP Yapı Taşları:\n",
    "* Nesne (Object)\n",
    "* Sınıflar (Class)\n",
    "* Yöntemler-Metotlar-Fonksiyonlar (Methods) \n",
    "* Özellikler (Attributes , Properties)\n",
    "\n",
    "### 4 Temel İlke:\n",
    "1. **Encapsulation (Kapsülleme):**\n",
    "   * Nesnelerin özelliklerini ve işlevlerini bir arada tutma.\n",
    "   * Nesnelerin iç yapısını gizleme.\n",
    "   * Nesnelerin dışarıdan erişilebilir olmasını sağlama.\n",
    "2. **Abstraction (Soyutlama):**\n",
    "    * Karmaşık bir sistemi basitleştirme.\n",
    "    * Sadece gerekli olan özellik ve işlevlerin gösterilmesi.\n",
    "3. **Inheritance (Kalıtım):**\n",
    "    * Bir sınıfın başka bir sınıftan özelliklerini ve işlevlerini miras alması.\n",
    "    * Kod tekrarını önler.\n",
    "4. **Polymorphism (Çok Biçimlilik):**\n",
    "    * Aynı isimde birden fazla fonksiyonun olması.\n",
    "    * Aynı isimdeki fonksiyonların farklı işlevler yapması.\n",
    "\n",
    "**Not:** \n",
    "  * Python nesne tabanlı programlama dili olarak bilinir.\n",
    "  * Fakat diğer programlama dillerinden farklı bazı yaklaşımlarla çalışan OOP araçlarına sahiptir. Mesela:\n",
    "    * Python'da **interface** yapısı yoktur. **abc** modülü kullanılabilir.\n",
    "    * Enum yapısı yoktur. **enum** modülü kullanılabilir.\n",
    "    * **@property** decorator'ı kullanılarak **getter** ve **setter** fonksiyonları tanımlanabilir.\n",
    "    * **@staticmethod** decorator'ı kullanılarak **static** metotlar tanımlanabilir.\n",
    "    * **@classmethod** decorator'ı kullanılarak **class** metotlar tanımlanabilir.\n",
    "    * **@abstractmethod** decorator'ı kullanılarak **abstract** metotlar tanımlanabilir.\n",
    "    * Pythonda private oluşturulamaz. Yapılan tanımlama sadece bir uyarıdır.\n",
    "  \n",
    "### Faydalı Linkler:\n",
    "* [What is object-oriented programming?](https://www.educative.io/blog/object-oriented-programming?eid=5082902844932096&utm_term=&hsa_grp=&hsa_ad=&hsa_tgt=&hsa_kw=&hsa_mt=)\n",
    "* [Object-Oriented Programming (OOP) in Python 3](https://realpython.com/python3-object-oriented-programming/)\n",
    "* [Implementing an Interface in Python](https://realpython.com/python-interface/)\n",
    "* [enum in Python](https://www.geeksforgeeks.org/enum-in-python/)\n",
    "---\n",
    "---\n",
    "\n",
    "### `Class`, `Atribute`, `Method`, `Property` Nesneleri\n",
    "* Dışarıdan erişim bakımından `public` / `private` olarak tanımlanması.\n",
    "  * **public** : Dışarıdan erişilebilir.\n",
    "  * **private** : Dışarıdan erişilemez. Sadece sınıf içerisinden erişilebilir. şu şekilde tanımlanır: `__attributeName` veya `__methodName()` (*iki alt çizgi ile başlar*).\n",
    "  * **protected** : Sadece miras alan sınıflardan erişilebilir. şu şekilde tanımlanır: `_attributeName` veya `_methodName()` (*bir alt çizgi ile başlar*).  \n",
    "* Nesneye veya Örneğine ait olması bakımından `static (class)` ve `dynamic (instance)` olarak tanımlanması.\n",
    "  * **static (class) :** Sınıfın kendisine ait olan özellik ve metotlar. \n",
    "    * `ClassName.MethodName()` şeklinde çağrılır. \n",
    "    * Pythonda staticker örnek üzerinden de çağrılabilir. `ObjectName.MethodName()` şeklinde.\n",
    "    * Static attributeler class içerisinde tanımlanır ve `self` kelimesi **kullanılmaz**.\n",
    "    * Static metotlar `@staticmethod` decorator ile tanımlanır.\n",
    "  * **dynamic (instance) :** Sınıftan oluşturulan nesneye ait olan özellik ve metotlar. \n",
    "    * `ObjectName.MethodName()` şeklinde çağrılır.\n",
    "    * Dynamic attributeler `__init__` metodu içerisinde tanımlanır ve `self` kelimesi **kullanılır**.\n",
    "    * Dynamic metotlar class içerisinde tanımlanır ve `self` parametresi alır.\n",
    "    * İstenirse `@classmethod` decorator ile tanımlanabilir.\n",
    "**Not:** \n",
    "  * Pythonda `self` kelimesi, sınıfın kendisini temsil eder.\n",
    "  * Pythonda `super()` fonksiyonu, miras alınan sınıfın metotlarını çağırmak için kullanılır.\n",
    "  * Pythonda `__init__` metodu, sınıfın yapıcı metodu olarak adlandırılır ve sınıf oluşturulduğunda otomatik olarak çalışır.\n",
    "  * Pythonda `__str__` metodu, sınıfın string olarak temsil edilmesini sağlar. `print(ObjectName)` şeklinde çağrılabilir.\n",
    "  * Pythonda `__del__` metodu, sınıfın silinmesi durumunda çalışır.\n",
    "  * Pythonda `__doc__` sınıfın belgelerini döndürür."
   ]
  },
  {
   "cell_type": "markdown",
   "metadata": {},
   "source": [
    "---\n",
    "### Seviye 1\n",
    "---"
   ]
  },
  {
   "cell_type": "code",
   "execution_count": 1,
   "metadata": {},
   "outputs": [],
   "source": [
    "#araba iskeleti/formu/şablon/tipi tanımlayalım.\n",
    "class araba:\n",
    "\n",
    "    #attribute.\n",
    "    #public #yani class dışından erişilebilir nesnelerdir.\n",
    "    marka   = \"Audi\"\n",
    "    model   = None\n",
    "    yil:int = None #:int ile tipini bilgi amaçlı belirtebiliriz."
   ]
  },
  {
   "cell_type": "code",
   "execution_count": 2,
   "metadata": {},
   "outputs": [
    {
     "name": "stdout",
     "output_type": "stream",
     "text": [
      "Marka : Audi\n",
      "Model :A1\n",
      "Yıl : 2025\n"
     ]
    }
   ],
   "source": [
    "a1 = araba() #() yapıcı metot. daha sonra bu metotu düzenleyeceğiz.\n",
    "\n",
    "a1.marka\n",
    "a1.model = \"A1\"\n",
    "a1.yil = 2025\n",
    "\n",
    "#şablan ile veri taşımış oluyoruz\n",
    "print(f\"Marka : {a1.marka}\\nModel :{a1.model}\\nYıl : {a1.yil}\")"
   ]
  },
  {
   "cell_type": "markdown",
   "metadata": {},
   "source": [
    "---\n",
    "### Seviye 2\n",
    "---"
   ]
  },
  {
   "cell_type": "code",
   "execution_count": 3,
   "metadata": {},
   "outputs": [],
   "source": [
    "#araba iskeleti/formu/şablon/tipi tanımlayalım.\n",
    "class araba:\n",
    "\n",
    "    #attribute.\n",
    "    #public #yani class dışından erişilebilir nesnelerdir.\n",
    "    marka   = \"Audi\"\n",
    "    model   = None\n",
    "    yil:int = None #:int ile tipini bilgi amaçlı belirtebiliriz.\n",
    "\n",
    "    #--------------\n",
    "    #self ifadesi nesne örneğine ait metotlar için zorunludur. self o anki nesne örneğini temsil eder.\n",
    "    def sur(self, kilometre):\n",
    "        print(\"{} marka {} model araba {} km için yola çıkıyor.\".format(self.marka, self.model,kilometre))\n",
    "\n",
    "        #yavaşlatalım.\n",
    "        import time\n",
    "\n",
    "        for i in range(kilometre):\n",
    "            time.sleep(0.5) #0.5 saniye bekletiliyor.\n",
    "            print(f\"---->  Vı{'n'*i}\")"
   ]
  },
  {
   "cell_type": "code",
   "execution_count": 4,
   "metadata": {},
   "outputs": [
    {
     "name": "stdout",
     "output_type": "stream",
     "text": [
      "Audi marka A2 model araba 5 km için yola çıkıyor.\n",
      "---->  Vı\n",
      "---->  Vın\n",
      "---->  Vınn\n",
      "---->  Vınnn\n",
      "---->  Vınnnn\n"
     ]
    }
   ],
   "source": [
    "a2 = araba() #nesne örneği aldık. constracter metot\n",
    "\n",
    "#\n",
    "a2.marka #varsayılan değeri var.\n",
    "a2.model = \"A2\"\n",
    "a2.yil = 2025\n",
    "\n",
    "#\n",
    "a2.sur(5)"
   ]
  },
  {
   "cell_type": "markdown",
   "metadata": {},
   "source": [
    "---\n",
    "### Seviye 3\n",
    "---"
   ]
  },
  {
   "cell_type": "code",
   "execution_count": 5,
   "metadata": {},
   "outputs": [],
   "source": [
    "#araba iskeleti/formu/şablon/tipi tanımlayalım.\n",
    "class araba:\n",
    "\n",
    "    '''\n",
    "        Üyelere className.Uye şeklinde instanceName.Uye şeklinde erişilebilir.\n",
    "        * static uyeler: classs uyeleri. Python'da static uyeler her iki şekilde de erişebilir.\n",
    "            - tanımında self ifadesi geçmeyen metotlar statictir.\n",
    "            - class seviyesinde tanımlanan attr. statictir.\n",
    "        * instance uyeler: nesne örneğine ait üyelerdir. Pythonda bu üyeler sadece insstanceName.Uye şeklinde erişilebilir.\n",
    "            - tanımında self ifadesi geçer.\n",
    "    '''\n",
    "\n",
    "    \n",
    "    \"\"\"\n",
    "        static : class seviyesindekiler ve nesne.uye şeklinde tanımlanalar. \n",
    "    \"\"\"\n",
    "    #attribute.\n",
    "    #public #yani class dışından erişilebilir nesnelerdir.\n",
    "    marka   = \"Audi\"\n",
    "    model   = None\n",
    "    yil:int = None #:int ile tipini bilgi amaçlı belirtebiliriz.\n",
    "\n",
    "    #--------------\n",
    "    #private \n",
    "    #private attirbuteler __ ile tanımlanır. private üyeler class içinde kullanılmak üzere tanımlanırlar.\n",
    "    #pythonda aslında her şey publictir. Bu sadece bilgi amaçlı.\n",
    "    __uretilenAracSayisi = 0 #her nesne örneği alındığında burayı arttıralım. Böyle toplam araç miktarını takip edebiliriz.\n",
    "\n",
    "\n",
    "    #--------------\n",
    "    #self ifadesi nesne örneğine ait metotlar için zorunludur. self o anki nesne örneğini temsil eder.\n",
    "    def sur(self, kilometre):\n",
    "        print(\"{} marka {} model araba {} km için yola çıkıyor.\".format(self.marka, self.model,kilometre))\n",
    "\n",
    "        #yavaşlatalım.\n",
    "        import time\n",
    "\n",
    "        for i in range(kilometre):\n",
    "            time.sleep(0.5) #0.5 saniye bekletiliyor.\n",
    "            print(f\"---->  Vı{'n'*i}\")\n",
    "\n",
    "    #-----------------\n",
    "    #yapıcı. constructer metot. nesne örneği alındığıdan devreye girer.\n",
    "    def __init__(self, Marka=\"Audi\", Model = None, Yil= 2025, Renk=None):\n",
    "        self.marka = Marka\n",
    "        self.model = Model\n",
    "        self.yil   = Yil\n",
    "        #\n",
    "        '''\n",
    "            self ile nesne örneği işaret edilir. Eğer self.yeniAttribute dersek bir atribute tanımlamış oluruz.\n",
    "        '''\n",
    "        self.renk = Renk #dynamic attribute tanımladık. instance uyesi\n",
    "\n",
    "        #\n",
    "        #private uyeyi arttıralım\n",
    "        araba.__uretilenAracSayisi +=1 ##static(class) nesneye ait olduğu için her örnekte artacak.\n",
    "\n",
    "    #----------------\n",
    "    # class seviuesinde ve self olamadığı için statictir. ancak yine de decorator kullanılabilr.\n",
    "    @staticmethod #decorator sayesinde static method tanımlamış olduk.\n",
    "    def kacAracUretildi():\n",
    "        return araba.__uretilenAracSayisi\n",
    "\n",
    "    #-------------------------------------------\n",
    "    def __del__(self):\n",
    "        araba.__uretilenAracSayisi -=1 #her araba nesnesi silindiğinde sayı azalsın\n",
    "\n",
    "\n",
    "    #--\n",
    "    def __str__(self):\n",
    "        return f\"{self.marka} marka {self.model} model araba {self.yil} yılında üretilmiştir.\""
   ]
  },
  {
   "cell_type": "code",
   "execution_count": 6,
   "metadata": {},
   "outputs": [
    {
     "data": {
      "text/plain": [
       "1"
      ]
     },
     "execution_count": 6,
     "metadata": {},
     "output_type": "execute_result"
    }
   ],
   "source": [
    "a3 = araba(Model = \"A3\", Renk=\"Siyah\")\n",
    "#a3.sur(3)\n",
    "\n",
    "#\n",
    "#araba.__uretilenAracSayisi #private üye olduğu için dışarıdan erişilemez.\n",
    "araba.kacAracUretildi()"
   ]
  },
  {
   "cell_type": "code",
   "execution_count": 7,
   "metadata": {},
   "outputs": [
    {
     "data": {
      "text/plain": [
       "2"
      ]
     },
     "execution_count": 7,
     "metadata": {},
     "output_type": "execute_result"
    }
   ],
   "source": [
    "a4 = araba(Model=\"A4\", Renk=\"Beyaz\")\n",
    "\n",
    "#\n",
    "araba.kacAracUretildi()"
   ]
  },
  {
   "cell_type": "code",
   "execution_count": 8,
   "metadata": {},
   "outputs": [
    {
     "name": "stdout",
     "output_type": "stream",
     "text": [
      "Audi marka A4 model araba 2025 yılında üretilmiştir.\n"
     ]
    }
   ],
   "source": [
    "#a4\n",
    "#print(a4) #<__main__.araba object at 0x000002A2444ACF90>\n",
    "\n",
    "#\n",
    "#__str__ metotu nesne örneği ekrana yazılmak istendiğinde ne yazılacağını belirler.\n",
    "print(a4)"
   ]
  },
  {
   "cell_type": "markdown",
   "metadata": {},
   "source": [
    "---\n",
    "### Seviye 4\n",
    "---"
   ]
  },
  {
   "cell_type": "code",
   "execution_count": 9,
   "metadata": {},
   "outputs": [],
   "source": [
    "#araba iskeleti/formu/şablon/tipi tanımlayalım.\n",
    "class araba:\n",
    "\n",
    "    '''\n",
    "        Üyelere className.Uye şeklinde instanceName.Uye şeklinde erişilebilir.\n",
    "        * static uyeler: classs uyeleri. Python'da static uyeler her iki şekilde de erişebilir.\n",
    "            - tanımında self ifadesi geçmeyen metotlar statictir.\n",
    "            - class seviyesinde tanımlanan attr. statictir.\n",
    "        * instance uyeler: nesne örneğine ait üyelerdir. Pythonda bu üyeler sadece insstanceName.Uye şeklinde erişilebilir.\n",
    "            - tanımında self ifadesi geçer.\n",
    "    '''\n",
    "\n",
    "    \n",
    "    \"\"\"\n",
    "        static : class seviyesindekiler ve nesne.uye şeklinde tanımlanalar. \n",
    "    \"\"\"\n",
    "    #attribute.\n",
    "    #public #yani class dışından erişilebilir nesnelerdir.\n",
    "    marka   = \"Audi\"\n",
    "    model   = None\n",
    "    yil:int = None #:int ile tipini bilgi amaçlı belirtebiliriz.\n",
    "\n",
    "    #--------------------------------\n",
    "    #private \n",
    "    #private attirbuteler __ ile tanımlanır. private üyeler class içinde kullanılmak üzere tanımlanırlar.\n",
    "    #pythonda aslında her şey publictir. Bu sadece bilgi amaçlı.\n",
    "    __uretilenAracSayisi = 0 #her nesne örneği alındığında burayı arttıralım. Böyle toplam araç miktarını takip edebiliriz.\n",
    "\n",
    "    #--------------------------------\n",
    "    __enerjiTipi = \"\"\n",
    "    __enerjiKapasitesi = 0\n",
    "    __enerjiSeviyesi = 0 #Sadece burada tanımlarsak class'a hitap eder sanki bütün araçların deposu ortak gibi olur. self ile aşağıda tanımlayalım.\n",
    "\n",
    "    #--------------------------------\n",
    "\n",
    "\n",
    "    #----------------------------------------------------------------\n",
    "    #self ifadesi nesne örneğine ait metotlar için zorunludur. self o anki nesne örneğini temsil eder.\n",
    "    def sur(self, kilometre):\n",
    "        print(\"{} marka {} model araba {} km için yola çıkıyor.\".format(self.marka, self.model,kilometre))\n",
    "\n",
    "        #yavaşlatalım.\n",
    "        import time\n",
    "\n",
    "        for i in range(kilometre):\n",
    "            time.sleep(0.5) #0.5 saniye bekletiliyor.\n",
    "            print(f\"---->  Vı{'n'*i}\")\n",
    "\n",
    "    #----------------------------------------------------------------\n",
    "    #yapıcı. constructer metot. nesne örneği alındığıdan devreye girer.\n",
    "    def __init__(self, Marka=\"Audi\", Model = None, Yil= 2025, Renk=None):\n",
    "        self.marka = Marka\n",
    "        self.model = Model\n",
    "        self.yil   = Yil\n",
    "        #\n",
    "        '''\n",
    "            self ile nesne örneği işaret edilir. Eğer self.yeniAttribute dersek bir atribute tanımlamış oluruz.\n",
    "        '''\n",
    "        self.renk = Renk #dynamic attribute tanımladık. instance uyesi\n",
    "\n",
    "        #\n",
    "        #private uyeyi arttıralım\n",
    "        araba.__uretilenAracSayisi +=1 ##static(class) nesneye ait olduğu için her örnekte artacak.\n",
    "\n",
    "    #----------------------------------------------------------------\n",
    "    # class seviuesinde ve self olamadığı için statictir. ancak yine de decorator kullanılabilr.\n",
    "    @staticmethod #decorator sayesinde static method tanımlamış olduk.\n",
    "    def kacAracUretildi():\n",
    "        return araba.__uretilenAracSayisi\n",
    "\n",
    "    #----------------------------------------------------------------\n",
    "    def __del__(self):\n",
    "        araba.__uretilenAracSayisi -=1 #her araba nesnesi silindiğinde sayı azalsın\n",
    "\n",
    "\n",
    "    #--\n",
    "    def __str__(self):\n",
    "        return f\"{self.marka} marka {self.model} model araba {self.yil} yılında üretilmiştir.\"\n",
    "\n",
    "    #----------------------------------------------------------------\n",
    "    def enerji(self, **enrj):\n",
    "        self.__enerjiTipi = \"~\" + enrj.get(\"tip\",\"Benzin\")\n",
    "        self.__enerjiKapasitesi = enrj.get(\"kapasite\", 60)\n",
    "        self.__enerjiSeviyesi = 0 #nesne örneğine ait bir attirbute tanımladık. Yani her aracın deposu kendi örneğine ait.\n",
    "\n",
    "    def enerjiDoldur(self, miktar):\n",
    "        print(f\"{self.__enerjiTipi} doluyor ....\")\n",
    "\n",
    "        #\n",
    "        import time\n",
    "        time.sleep(3)\n",
    "\n",
    "        #\n",
    "        self.__enerjiSeviyesi += miktar #nesne örneğine ait bir attirbute tanımladık. Yani her aracın deposu kendi örneğine ait.\n",
    "\n",
    "        #\n",
    "        if self.__enerjiSeviyesi >= self.__enerjiKapasitesi:\n",
    "            print(f\"{self.__enerjiTipi} FULL ...\")\n",
    "\n",
    "            #\n",
    "            self.__enerjiSeviyesi = self.__enerjiKapasitesi\n",
    "\n",
    "            #\n",
    "        print(f\"Dolum tamamlandı.... {self.__enerjiSeviyesi} / {self.__enerjiKapasitesi}\")"
   ]
  },
  {
   "cell_type": "code",
   "execution_count": 10,
   "metadata": {},
   "outputs": [],
   "source": [
    "a5 = araba(Model=\"A5\", Renk=\"Gri\")\n",
    "a5.enerji(tip=\"Benzin\", kapasites = 60)"
   ]
  },
  {
   "cell_type": "code",
   "execution_count": 11,
   "metadata": {},
   "outputs": [
    {
     "name": "stdout",
     "output_type": "stream",
     "text": [
      "~Benzin doluyor ....\n",
      "Dolum tamamlandı.... 20 / 60\n"
     ]
    }
   ],
   "source": [
    "a5.enerjiDoldur(20)"
   ]
  },
  {
   "cell_type": "markdown",
   "metadata": {},
   "source": [
    "---\n",
    "### Seviye 5 : `Property` ile `get` ve `set` Kontolü\n",
    "---"
   ]
  },
  {
   "cell_type": "code",
   "execution_count": 12,
   "metadata": {},
   "outputs": [],
   "source": [
    "#araba iskeleti/formu/şablon/tipi tanımlayalım.\n",
    "class araba:\n",
    "\n",
    "    '''\n",
    "        Üyelere className.Uye şeklinde instanceName.Uye şeklinde erişilebilir.\n",
    "        * static uyeler: classs uyeleri. Python'da static uyeler her iki şekilde de erişebilir.\n",
    "            - tanımında self ifadesi geçmeyen metotlar statictir.\n",
    "            - class seviyesinde tanımlanan attr. statictir.\n",
    "        * instance uyeler: nesne örneğine ait üyelerdir. Pythonda bu üyeler sadece insstanceName.Uye şeklinde erişilebilir.\n",
    "            - tanımında self ifadesi geçer.\n",
    "    '''\n",
    "\n",
    "    \n",
    "    \"\"\"\n",
    "        static : class seviyesindekiler ve nesne.uye şeklinde tanımlanalar. \n",
    "    \"\"\"\n",
    "    #attribute.\n",
    "    #public #yani class dışından erişilebilir nesnelerdir.\n",
    "    marka   = \"Audi\"\n",
    "    model   = None\n",
    "    yil:int = None #:int ile tipini bilgi amaçlı belirtebiliriz.\n",
    "\n",
    "    #--------------------------------\n",
    "    #private \n",
    "    #private attirbuteler __ ile tanımlanır. private üyeler class içinde kullanılmak üzere tanımlanırlar.\n",
    "    #pythonda aslında her şey publictir. Bu sadece bilgi amaçlı.\n",
    "    __uretilenAracSayisi = 0 #her nesne örneği alındığında burayı arttıralım. Böyle toplam araç miktarını takip edebiliriz.\n",
    "\n",
    "    #--------------------------------\n",
    "    __enerjiTipi = \"\"\n",
    "    __enerjiKapasitesi = 0\n",
    "    __enerjiSeviyesi = 0 #Sadece burada tanımlarsak class'a hitap eder sanki bütün araçların deposu ortak gibi olur. self ile aşağıda tanımlayalım.\n",
    "\n",
    "    #--------------------------------\n",
    "    \"\"\"\n",
    "        property\n",
    "        property sayesinde attirbutelere değer atama ve değer okuma işini kontrol altında tutabiliriz. Fonksiyon ile müdehale edebiliriz.\n",
    "        attributeleri property(fget, fset, fdel, doc) fonksiyonu ile tanımlanır. Parametre olarak müdehale edecek fonksiyonları alır.\n",
    "    \"\"\"\n",
    "    def fset_ekOzellikler(self, ozellikler:list):\n",
    "        self.__ekOzelliklerListesi = [l.upper() for l in ozellikler]\n",
    "        #private ve dynamic bir attribute tanımlamış olduk. __ekOzelliklerListesi . __init__ içerisinde tanımladık.\n",
    "\n",
    "    def fget_ekOzellikler(self):\n",
    "        return \"->\"+\"\\n->\".join(self.__ekOzelliklerListesi)\n",
    "    \n",
    "    #\n",
    "    ekOzellikler = property(fget_ekOzellikler,fset_ekOzellikler) #fget ve fset ile property attribteu oluşturduk.\n",
    "\n",
    "\n",
    "\n",
    "    #----------------------------------------------------------------\n",
    "    #self ifadesi nesne örneğine ait metotlar için zorunludur. self o anki nesne örneğini temsil eder.\n",
    "    def sur(self, kilometre):\n",
    "        print(\"{} marka {} model araba {} km için yola çıkıyor.\".format(self.marka, self.model,kilometre))\n",
    "\n",
    "        #yavaşlatalım.\n",
    "        import time\n",
    "\n",
    "        for i in range(kilometre):\n",
    "            time.sleep(0.5) #0.5 saniye bekletiliyor.\n",
    "            print(f\"---->  Vı{'n'*i}\")\n",
    "\n",
    "    #----------------------------------------------------------------\n",
    "    #yapıcı. constructer metot. nesne örneği alındığıdan devreye girer.\n",
    "    def __init__(self, Marka=\"Audi\", Model = None, Yil= 2025, Renk=None):\n",
    "        self.marka = Marka\n",
    "        self.model = Model\n",
    "        self.yil   = Yil\n",
    "        #\n",
    "        '''\n",
    "            self ile nesne örneği işaret edilir. Eğer self.yeniAttribute dersek bir atribute tanımlamış oluruz.\n",
    "        '''\n",
    "        self.renk = Renk #dynamic attribute tanımladık. instance uyesi\n",
    "\n",
    "        #\n",
    "        #private uyeyi arttıralım\n",
    "        araba.__uretilenAracSayisi +=1 ##static(class) nesneye ait olduğu için her örnekte artacak.\n",
    "\n",
    "        #----\n",
    "        self.__ekOzelliklerListesi=[] #dynamic ve private bir attribute.\n",
    "\n",
    "    #----------------------------------------------------------------\n",
    "    # class seviuesinde ve self olamadığı için statictir. ancak yine de decorator kullanılabilr.\n",
    "    @staticmethod #decorator sayesinde static method tanımlamış olduk.\n",
    "    def kacAracUretildi():\n",
    "        return araba.__uretilenAracSayisi\n",
    "\n",
    "    #----------------------------------------------------------------\n",
    "    def __del__(self):\n",
    "        araba.__uretilenAracSayisi -=1 #her araba nesnesi silindiğinde sayı azalsın\n",
    "\n",
    "\n",
    "    #--\n",
    "    def __str__(self):\n",
    "        return f\"{self.marka} marka {self.model} model araba {self.yil} yılında üretilmiştir.\"\n",
    "\n",
    "    #----------------------------------------------------------------\n",
    "    def enerji(self, **enrj):\n",
    "        self.__enerjiTipi = \"~\" + enrj.get(\"tip\",\"Benzin\")\n",
    "        self.__enerjiKapasitesi = enrj.get(\"kapasite\", 60)\n",
    "        self.__enerjiSeviyesi = 0 #nesne örneğine ait bir attirbute tanımladık. Yani her aracın deposu kendi örneğine ait.\n",
    "\n",
    "    def enerjiDoldur(self, miktar):\n",
    "        print(f\"{self.__enerjiTipi} doluyor ....\")\n",
    "\n",
    "        #\n",
    "        import time\n",
    "        time.sleep(3)\n",
    "\n",
    "        #\n",
    "        self.__enerjiSeviyesi += miktar #nesne örneğine ait bir attirbute tanımladık. Yani her aracın deposu kendi örneğine ait.\n",
    "\n",
    "        #\n",
    "        if self.__enerjiSeviyesi >= self.__enerjiKapasitesi:\n",
    "            print(f\"{self.__enerjiTipi} FULL ...\")\n",
    "\n",
    "            #\n",
    "            self.__enerjiSeviyesi = self.__enerjiKapasitesi\n",
    "\n",
    "            #\n",
    "        print(f\"Dolum tamamlandı.... {self.__enerjiSeviyesi} / {self.__enerjiKapasitesi}\")"
   ]
  },
  {
   "cell_type": "code",
   "execution_count": 13,
   "metadata": {},
   "outputs": [],
   "source": [
    "a6 = araba(Model=\"A6\", Renk=\"Yeşil\")\n",
    "a6.enerji(tip=\"Dizel\", kapasite=70)\n",
    "\n",
    "#\n",
    "#property değer atadık. fset fonksiyonu devreye girer\n",
    "a6.ekOzellikler = [\"Koltuk Isıtma\",\"Sunroof\",\"Navigasyon\"]"
   ]
  },
  {
   "cell_type": "code",
   "execution_count": 14,
   "metadata": {},
   "outputs": [
    {
     "name": "stdout",
     "output_type": "stream",
     "text": [
      "->KOLTUK ISITMA\n",
      "->SUNROOF\n",
      "->NAVIGASYON\n"
     ]
    }
   ],
   "source": [
    "print(a6.ekOzellikler) #fget fonksiyonu devreye girer"
   ]
  },
  {
   "cell_type": "code",
   "execution_count": 15,
   "metadata": {},
   "outputs": [
    {
     "name": "stdout",
     "output_type": "stream",
     "text": [
      "Audi marka A6 model araba 2025 yılında üretilmiştir.\n"
     ]
    },
    {
     "data": {
      "text/plain": [
       "1"
      ]
     },
     "execution_count": 15,
     "metadata": {},
     "output_type": "execute_result"
    }
   ],
   "source": [
    "print(a6)\n",
    "a6.kacAracUretildi()"
   ]
  },
  {
   "cell_type": "markdown",
   "metadata": {},
   "source": [
    "---\n",
    "### Seviye 6: Kalıtım\n",
    "---"
   ]
  },
  {
   "cell_type": "code",
   "execution_count": 20,
   "metadata": {},
   "outputs": [],
   "source": [
    "class yerliMilliArac(araba): #(araba) ile araba sınıfından kalıttık. Yani araba sınıfındak her şeyi miras aldık.\n",
    "    #araba super sınıf\n",
    "    #yerliMilliArac base sınıf\n",
    "\n",
    "    uretici = \"Türkiye\"\n",
    "    firma = \"Togg\"\n",
    "\n",
    "    #super ile araba sınıfını ifade ediyoruz. araba sınıfında enerji fonksionu miras alıştık. Çağırıp burada çalışma şeklini değiştiriyoruz.\n",
    "    def enerji(self, **enrj):\n",
    "        #return super().enerji(**enrj)\n",
    "        return super().enerji(tip=\"Elektrik\", kapasite=100) #doğuştan elektrikli"
   ]
  },
  {
   "cell_type": "code",
   "execution_count": 21,
   "metadata": {},
   "outputs": [
    {
     "name": "stdout",
     "output_type": "stream",
     "text": [
      "Togg marka T1 model araba 2025 yılında üretilmiştir.\n"
     ]
    }
   ],
   "source": [
    "t1 = yerliMilliArac(Marka=\"Togg\", Model=\"T1\", Renk=\"Kırmızı\")\n",
    "t1.ekOzellikler = [\"Geniş Ekran\",\"Cam tavan\"]\n",
    "\n",
    "\n",
    "#\n",
    "#t1.enerji(tip=\"Elektik\", kapasite=100)\n",
    "t1.enerji()\n",
    "\n",
    "#\n",
    "print(t1)"
   ]
  },
  {
   "cell_type": "code",
   "execution_count": 24,
   "metadata": {},
   "outputs": [
    {
     "name": "stdout",
     "output_type": "stream",
     "text": [
      "~Elektrik doluyor ....\n",
      "~Elektrik FULL ...\n",
      "Dolum tamamlandı.... 100 / 100\n"
     ]
    }
   ],
   "source": [
    "t1.enerjiDoldur(40)"
   ]
  },
  {
   "cell_type": "markdown",
   "metadata": {},
   "source": [
    "### Genel Kontroller: Nesneler Hakkında Bilgi Alaım ve Sonradan Uye Ekleyip Çıkaralım"
   ]
  },
  {
   "cell_type": "code",
   "execution_count": 25,
   "metadata": {},
   "outputs": [
    {
     "data": {
      "text/plain": [
       "True"
      ]
     },
     "execution_count": 25,
     "metadata": {},
     "output_type": "execute_result"
    }
   ],
   "source": [
    "issubclass(yerliMilliArac, araba) #alt sınıf mı? super olan araba, base (sub) yerliMilliArac"
   ]
  },
  {
   "cell_type": "code",
   "execution_count": null,
   "metadata": {},
   "outputs": [
    {
     "data": {
      "text/plain": [
       "True"
      ]
     },
     "execution_count": 27,
     "metadata": {},
     "output_type": "execute_result"
    }
   ],
   "source": [
    "isinstance(t1, yerliMilliArac) #True\n",
    "isinstance(t1, araba) #True #arabadan türetildi."
   ]
  },
  {
   "cell_type": "code",
   "execution_count": 29,
   "metadata": {},
   "outputs": [
    {
     "data": {
      "text/plain": [
       "True"
      ]
     },
     "execution_count": 29,
     "metadata": {},
     "output_type": "execute_result"
    }
   ],
   "source": [
    "hasattr(t1, \"ekOzellikler\") #True. bu uye var mı?"
   ]
  },
  {
   "cell_type": "code",
   "execution_count": null,
   "metadata": {},
   "outputs": [
    {
     "data": {
      "text/plain": [
       "'->GENIŞ EKRAN\\n->CAM TAVAN'"
      ]
     },
     "execution_count": 30,
     "metadata": {},
     "output_type": "execute_result"
    }
   ],
   "source": [
    "getattr(t1, \"ekOzellikler\") #uyeyi çağır."
   ]
  },
  {
   "cell_type": "code",
   "execution_count": 35,
   "metadata": {},
   "outputs": [
    {
     "data": {
      "text/plain": [
       "False"
      ]
     },
     "execution_count": 35,
     "metadata": {},
     "output_type": "execute_result"
    }
   ],
   "source": [
    "callable(int) #True çalıştırılabilir () ile.\n",
    "callable(araba) #True ctor metot mevcut\n",
    "\n",
    "#\n",
    "callable(t1.enerji) #True. metot\n",
    "callable(t1.uretici) #False. atrribute"
   ]
  },
  {
   "cell_type": "code",
   "execution_count": null,
   "metadata": {},
   "outputs": [
    {
     "data": {
      "text/plain": [
       "'Yeni özellikler yakında gelecek'"
      ]
     },
     "execution_count": 36,
     "metadata": {},
     "output_type": "execute_result"
    }
   ],
   "source": [
    "setattr(t1, \"yeniOzellik\",\"Yeni özellikler yakında gelecek\") #nesneye yeni üye kazandırdık.\n",
    "\n",
    "#\n",
    "t1.yeniOzellik #sonradan burada tanımladık."
   ]
  },
  {
   "cell_type": "code",
   "execution_count": null,
   "metadata": {},
   "outputs": [
    {
     "data": {
      "text/plain": [
       "False"
      ]
     },
     "execution_count": 37,
     "metadata": {},
     "output_type": "execute_result"
    }
   ],
   "source": [
    "delattr(t1, \"yeniOzellik\") #bir üyeyi kaldırabililiriz.\n",
    "\n",
    "#\n",
    "hasattr(t1, \"yeniOzellik\") #False"
   ]
  },
  {
   "cell_type": "markdown",
   "metadata": {},
   "source": [
    "### Enum Kullanımı"
   ]
  },
  {
   "cell_type": "code",
   "execution_count": 38,
   "metadata": {},
   "outputs": [],
   "source": [
    "from enum import Enum"
   ]
  },
  {
   "cell_type": "code",
   "execution_count": null,
   "metadata": {},
   "outputs": [
    {
     "data": {
      "text/plain": [
       "False"
      ]
     },
     "execution_count": 42,
     "metadata": {},
     "output_type": "execute_result"
    }
   ],
   "source": [
    "class renkPaleti(Enum):\n",
    "    Red = \"#330000\"\n",
    "    Green = \"#321455\"\n",
    "    Blue = \"#545323\"\n",
    "\n",
    "#------------------------\n",
    "renkPaleti.Blue #nesne\n",
    "\n",
    "#\n",
    "renkPaleti.Blue.name\n",
    "renkPaleti.Blue.value\n",
    "\n",
    "\n",
    "#Sıralama ve karşılaştırma gibi operatorler desteklenir.\n",
    "renkPaleti.Blue == renkPaleti.Green #False"
   ]
  }
 ],
 "metadata": {
  "kernelspec": {
   "display_name": "Python 3",
   "language": "python",
   "name": "python3"
  },
  "language_info": {
   "codemirror_mode": {
    "name": "ipython",
    "version": 3
   },
   "file_extension": ".py",
   "mimetype": "text/x-python",
   "name": "python",
   "nbconvert_exporter": "python",
   "pygments_lexer": "ipython3",
   "version": "3.11.3"
  }
 },
 "nbformat": 4,
 "nbformat_minor": 2
}
